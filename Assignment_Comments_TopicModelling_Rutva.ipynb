{
 "cells": [
  {
   "cell_type": "code",
   "execution_count": 1,
   "id": "5a7ab7fb",
   "metadata": {},
   "outputs": [],
   "source": [
    "#importing the libraries\n",
    "import matplotlib.pyplot as plt\n",
    "import pandas as pd\n",
    "import numpy as np\n",
    "import seaborn as sns\n",
    "import nltk\n",
    "from nltk.corpus import stopwords\n",
    "from wordcloud import WordCloud, STOPWORDS, ImageColorGenerator\n",
    "import string\n",
    "import re\n",
    "from sklearn.cluster import KMeans\n",
    "from sklearn.preprocessing import StandardScaler\n",
    "import sys\n",
    "import string\n",
    "import gensim\n",
    "from gensim.models import KeyedVectors\n",
    "from collections import  Counter\n",
    "import spacy\n",
    "from operator import itemgetter\n",
    "import matplotlib.pyplot as plt\n",
    "from sklearn.datasets import make_blobs\n",
    "from nltk.tokenize import word_tokenize\n",
    "import gensim\n",
    "from gensim import corpora\n",
    "import pyLDAvis\n",
    "import gensim\n",
    "import gensim.corpora as corpora\n",
    "from gensim.utils import simple_preprocess\n",
    "from gensim.models import CoherenceModel\n",
    "import pyLDAvis.gensim_models as gensimvis\n",
    "pyLDAvis.enable_notebook()\n",
    "import plotly.express as px"
   ]
  },
  {
   "cell_type": "code",
   "execution_count": 2,
   "id": "4093cda3",
   "metadata": {},
   "outputs": [
    {
     "data": {
      "text/html": [
       "<div>\n",
       "<style scoped>\n",
       "    .dataframe tbody tr th:only-of-type {\n",
       "        vertical-align: middle;\n",
       "    }\n",
       "\n",
       "    .dataframe tbody tr th {\n",
       "        vertical-align: top;\n",
       "    }\n",
       "\n",
       "    .dataframe thead th {\n",
       "        text-align: right;\n",
       "    }\n",
       "</style>\n",
       "<table border=\"1\" class=\"dataframe\">\n",
       "  <thead>\n",
       "    <tr style=\"text-align: right;\">\n",
       "      <th></th>\n",
       "      <th>COMMENT</th>\n",
       "    </tr>\n",
       "  </thead>\n",
       "  <tbody>\n",
       "    <tr>\n",
       "      <th>0</th>\n",
       "      <td>Realizing that they are in the power supply bu...</td>\n",
       "    </tr>\n",
       "    <tr>\n",
       "      <th>1</th>\n",
       "      <td>Futuri has grown employment by a huge amount, ...</td>\n",
       "    </tr>\n",
       "    <tr>\n",
       "      <th>2</th>\n",
       "      <td>assistance for DBO's</td>\n",
       "    </tr>\n",
       "    <tr>\n",
       "      <th>3</th>\n",
       "      <td>The market is shifting and we aren't adapting....</td>\n",
       "    </tr>\n",
       "    <tr>\n",
       "      <th>4</th>\n",
       "      <td>Quicker growth and store openings so people wi...</td>\n",
       "    </tr>\n",
       "  </tbody>\n",
       "</table>\n",
       "</div>"
      ],
      "text/plain": [
       "                                             COMMENT\n",
       "0  Realizing that they are in the power supply bu...\n",
       "1  Futuri has grown employment by a huge amount, ...\n",
       "2                               assistance for DBO's\n",
       "3  The market is shifting and we aren't adapting....\n",
       "4  Quicker growth and store openings so people wi..."
      ]
     },
     "execution_count": 2,
     "metadata": {},
     "output_type": "execute_result"
    }
   ],
   "source": [
    "#Reading the data\n",
    "data = pd.read_csv(\"Comments.csv\")\n",
    "data.head(5)"
   ]
  },
  {
   "cell_type": "code",
   "execution_count": 3,
   "id": "14b6440a",
   "metadata": {},
   "outputs": [
    {
     "data": {
      "text/plain": [
       "0        Realizing that they are in the power supply bu...\n",
       "1        Futuri has grown employment by a huge amount b...\n",
       "2                                      assistance for DBOs\n",
       "3        The market is shifting and we arent adapting C...\n",
       "4        Quicker growth and store openings so people wi...\n",
       "                               ...                        \n",
       "98584                           Growing at the right speed\n",
       "98585    I like that we are not doing what we have alwa...\n",
       "98586    I love everything about the direction REMAX 1 ...\n",
       "98587    Expanding and growing Its great to be apart of...\n",
       "98588    I like that our team of workers at wesco get a...\n",
       "Name: COMMENT, Length: 98589, dtype: object"
      ]
     },
     "execution_count": 3,
     "metadata": {},
     "output_type": "execute_result"
    }
   ],
   "source": [
    "#Removing the punctuations\n",
    "def remove_punctuation(text):\n",
    "    \n",
    "    \"\"\" \n",
    "    input: takes original text string \n",
    "\n",
    "    output:\n",
    "    removes punctuations in the text \n",
    "\n",
    "    \"\"\"\n",
    "    \n",
    "    punctuationfree=\"\".join([i for i in text if i not in string.punctuation])\n",
    "    return punctuationfree\n",
    "\n",
    "data['COMMENT'] = data['COMMENT'].apply(lambda x:remove_punctuation(x))\n",
    "data['COMMENT']"
   ]
  },
  {
   "cell_type": "code",
   "execution_count": 4,
   "id": "d028a826",
   "metadata": {},
   "outputs": [
    {
     "data": {
      "text/plain": [
       "0        realizing that they are in the power supply bu...\n",
       "1        futuri has grown employment by a huge amount b...\n",
       "2                                      assistance for dbos\n",
       "3        the market is shifting and we arent adapting c...\n",
       "4        quicker growth and store openings so people wi...\n",
       "                               ...                        \n",
       "98584                           growing at the right speed\n",
       "98585    i like that we are not doing what we have alwa...\n",
       "98586    i love everything about the direction remax 1 ...\n",
       "98587    expanding and growing its great to be apart of...\n",
       "98588    i like that our team of workers at wesco get a...\n",
       "Name: COMMENT, Length: 98589, dtype: object"
      ]
     },
     "execution_count": 4,
     "metadata": {},
     "output_type": "execute_result"
    }
   ],
   "source": [
    "#Lowering the lines\n",
    "data['COMMENT'] = data['COMMENT'].apply(lambda x: x.lower())\n",
    "data['COMMENT']"
   ]
  },
  {
   "cell_type": "code",
   "execution_count": 5,
   "id": "93a714b3",
   "metadata": {},
   "outputs": [
    {
     "name": "stderr",
     "output_type": "stream",
     "text": [
      "[nltk_data] Downloading package stopwords to\n",
      "[nltk_data]     /home/rutvathaker/nltk_data...\n",
      "[nltk_data]   Package stopwords is already up-to-date!\n"
     ]
    },
    {
     "data": {
      "text/plain": [
       "['i', 'me', 'my', 'myself', 'we', 'our', 'ours', 'ourselves', 'you', \"you're\"]"
      ]
     },
     "execution_count": 5,
     "metadata": {},
     "output_type": "execute_result"
    }
   ],
   "source": [
    "#Removing the Stopwords\n",
    "nltk.download('stopwords')\n",
    "stopwords = nltk.corpus.stopwords.words('english')\n",
    "stopwords[0:10]\n"
   ]
  },
  {
   "cell_type": "code",
   "execution_count": 6,
   "id": "b2d9f8ad",
   "metadata": {},
   "outputs": [
    {
     "data": {
      "text/plain": [
       "0        realizing power supply business generator truc...\n",
       "1        futuri grown employment huge amount doesnt see...\n",
       "2                                          assistance dbos\n",
       "3        market shifting arent adapting customers want ...\n",
       "4        quicker growth store openings people within or...\n",
       "                               ...                        \n",
       "98584                                  growing right speed\n",
       "98585    like always done like idea copresidency like h...\n",
       "98586    love everything direction remax 1 moving feel ...\n",
       "98587                        expanding growing great apart\n",
       "98588    like team workers wesco get along theres littl...\n",
       "Name: COMMENT, Length: 98589, dtype: object"
      ]
     },
     "execution_count": 6,
     "metadata": {},
     "output_type": "execute_result"
    }
   ],
   "source": [
    "#Data after removing Stopwords\n",
    "data['COMMENT'] = data['COMMENT'].apply(lambda x:' '.join([i for i in x.split() if i not in stopwords]))\n",
    "data['COMMENT']"
   ]
  },
  {
   "cell_type": "code",
   "execution_count": 7,
   "id": "1588db33",
   "metadata": {},
   "outputs": [
    {
     "name": "stderr",
     "output_type": "stream",
     "text": [
      "[nltk_data] Downloading package wordnet to\n",
      "[nltk_data]     /home/rutvathaker/nltk_data...\n",
      "[nltk_data]   Package wordnet is already up-to-date!\n",
      "[nltk_data] Downloading package omw-1.4 to\n",
      "[nltk_data]     /home/rutvathaker/nltk_data...\n",
      "[nltk_data]   Package omw-1.4 is already up-to-date!\n"
     ]
    },
    {
     "data": {
      "text/plain": [
       "0        realizing power supply business generator truc...\n",
       "1        futuri grown employment huge amount doesnt see...\n",
       "2                                          assistance dbos\n",
       "3        market shifting arent adapting customer want s...\n",
       "4        quicker growth store opening people within org...\n",
       "                               ...                        \n",
       "98584                                  growing right speed\n",
       "98585    like always done like idea copresidency like h...\n",
       "98586    love everything direction remax 1 moving feel ...\n",
       "98587                        expanding growing great apart\n",
       "98588    like team worker wesco get along there little ...\n",
       "Name: COMMENT, Length: 98589, dtype: object"
      ]
     },
     "execution_count": 7,
     "metadata": {},
     "output_type": "execute_result"
    }
   ],
   "source": [
    "#Lemmatizing the Data\n",
    "from nltk.stem import WordNetLemmatizer\n",
    "nltk.download('wordnet')\n",
    "nltk.download('omw-1.4')\n",
    "\n",
    "word_lemmatizer = WordNetLemmatizer()\n",
    "def lemmatizer(text):\n",
    "    \n",
    "    \"\"\" \n",
    "    input: takes original text string \n",
    "\n",
    "    output:\n",
    "    lemmatized text\n",
    "\n",
    "    \"\"\"\n",
    "    \n",
    "    lemm_word=\" \".join([word_lemmatizer.lemmatize(word) for word in text.split()])\n",
    "    return lemm_word\n",
    "data['COMMENT']=data['COMMENT'].apply(lambda x: lemmatizer(x))\n",
    "data['COMMENT']\n"
   ]
  },
  {
   "cell_type": "code",
   "execution_count": 8,
   "id": "a20910c0",
   "metadata": {},
   "outputs": [
    {
     "name": "stderr",
     "output_type": "stream",
     "text": [
      "<>:3: DeprecationWarning: invalid escape sequence \\w\n",
      "<>:3: DeprecationWarning: invalid escape sequence \\w\n",
      "/tmp/ipykernel_4241/3620587533.py:3: DeprecationWarning: invalid escape sequence \\w\n",
      "  tokens=re.findall(\"[\\w']+\", text)\n"
     ]
    },
    {
     "data": {
      "text/plain": [
       "0        [realizing, power, supply, business, generator...\n",
       "1        [futuri, grown, employment, huge, amount, does...\n",
       "2                                       [assistance, dbos]\n",
       "3        [market, shifting, arent, adapting, customer, ...\n",
       "4        [quicker, growth, store, opening, people, with...\n",
       "                               ...                        \n",
       "98584                              [growing, right, speed]\n",
       "98585    [like, always, done, like, idea, copresidency,...\n",
       "98586    [love, everything, direction, remax, 1, moving...\n",
       "98587                   [expanding, growing, great, apart]\n",
       "98588    [like, team, worker, wesco, get, along, there,...\n",
       "Name: COMMENT_tokenized, Length: 98589, dtype: object"
      ]
     },
     "execution_count": 8,
     "metadata": {},
     "output_type": "execute_result"
    }
   ],
   "source": [
    "#Tokenizing the data\n",
    "def tokenization(text):\n",
    "    tokens=re.findall(\"[\\w']+\", text)\n",
    "    return tokens\n",
    "data['COMMENT_tokenized']= data['COMMENT'].apply(lambda x: tokenization(x))\n",
    "data['COMMENT_tokenized']"
   ]
  },
  {
   "cell_type": "code",
   "execution_count": 9,
   "id": "21baaa1b",
   "metadata": {},
   "outputs": [
    {
     "data": {
      "text/plain": [
       "49220       0\n",
       "59529       0\n",
       "58252       0\n",
       "30599       0\n",
       "7324        0\n",
       "         ... \n",
       "7488      518\n",
       "54458     522\n",
       "44047     632\n",
       "18190     746\n",
       "63437    1062\n",
       "Name: Sentence_length, Length: 98589, dtype: int64"
      ]
     },
     "execution_count": 9,
     "metadata": {},
     "output_type": "execute_result"
    }
   ],
   "source": [
    "#Finding sentence Length after lemmatizing in the same data\n",
    "data['Sentence_length'] = data[\"COMMENT\"].apply(lambda x: len(x.split()))\n",
    "data['Sentence_length'].sort_values()"
   ]
  },
  {
   "cell_type": "code",
   "execution_count": 14,
   "id": "802a5b03",
   "metadata": {},
   "outputs": [
    {
     "name": "stdout",
     "output_type": "stream",
     "text": [
      "[[(14, 1), (53, 1), (99, 1), (133, 1), (134, 1), (135, 2), (136, 1), (137, 1), (138, 1), (139, 1), (140, 1), (141, 1), (142, 1)], [(64, 1), (143, 1), (144, 1), (145, 1), (146, 1), (147, 1), (148, 1), (149, 1), (150, 1), (151, 1)], [(152, 1)], [(64, 1), (127, 1), (153, 1)], [(48, 1), (51, 1), (53, 1), (104, 1), (154, 1), (155, 1), (156, 1), (157, 1), (158, 1), (159, 1), (160, 1), (161, 1), (162, 1), (163, 1), (164, 1)], [(0, 1), (165, 1), (166, 1)], [(167, 1), (168, 1), (169, 1), (170, 1)], [(171, 1)], [(0, 3), (9, 2), (28, 2), (63, 1), (86, 1), (104, 2), (107, 1), (114, 3), (135, 2), (137, 1), (151, 1), (152, 1), (172, 1), (173, 2), (174, 1), (175, 1), (176, 1), (177, 1), (178, 1), (179, 1), (180, 1), (181, 1), (182, 2), (183, 1), (184, 1), (185, 3), (186, 1), (187, 1), (188, 1), (189, 1), (190, 1), (191, 3), (192, 1), (193, 1), (194, 2), (195, 1), (196, 1), (197, 1), (198, 2), (199, 1), (200, 1), (201, 2), (202, 1), (203, 1), (204, 1), (205, 1), (206, 1), (207, 1), (208, 1), (209, 1), (210, 1)], [(14, 1), (74, 1), (104, 1), (211, 1), (212, 1), (213, 1), (214, 2), (215, 1), (216, 1)], [(12, 1), (176, 1), (217, 1), (218, 1), (219, 1), (220, 1)], [(221, 1), (222, 1), (223, 1), (224, 1), (225, 1)], [(0, 1), (50, 1), (74, 1), (117, 1), (226, 1), (227, 1), (228, 1), (229, 1)], [(0, 1), (19, 1), (48, 1), (93, 1), (125, 1), (127, 1), (157, 2), (164, 1), (170, 2), (173, 1), (192, 1), (196, 1), (230, 1), (231, 1), (232, 1), (233, 1), (234, 1), (235, 1), (236, 1), (237, 1), (238, 1), (239, 2), (240, 1), (241, 1), (242, 1), (243, 1), (244, 1), (245, 1), (246, 1), (247, 1), (248, 1), (249, 2), (250, 1), (251, 1), (252, 1), (253, 1), (254, 1), (255, 1), (256, 1), (257, 1), (258, 1), (259, 1), (260, 1), (261, 1), (262, 1), (263, 2), (264, 1), (265, 2), (266, 1), (267, 1)], [(134, 2), (268, 1), (269, 1), (270, 1)]]\n"
     ]
    }
   ],
   "source": [
    "#Creating dictionary for id2word and creating corpus for the document term matrix for the word and its count\n",
    "id2word = corpora.Dictionary(data['COMMENT_tokenized'])\n",
    "\n",
    "\n",
    "corpus = []\n",
    "for text in data['COMMENT_tokenized']:\n",
    "    new = id2word.doc2bow(text)\n",
    "    corpus.append(new)\n",
    "\n",
    "print (corpus[15:30])"
   ]
  },
  {
   "cell_type": "code",
   "execution_count": 13,
   "id": "1079b6ca",
   "metadata": {},
   "outputs": [
    {
     "data": {
      "text/plain": [
       "{'business': 0,\n",
       " 'generator': 1,\n",
       " 'power': 2,\n",
       " 'realizing': 3,\n",
       " 'repair': 4,\n",
       " 'supply': 5,\n",
       " 'truck': 6,\n",
       " 'adjustment': 7,\n",
       " 'amount': 8,\n",
       " 'company': 9,\n",
       " 'costofliving': 10,\n",
       " 'doesnt': 11,\n",
       " 'dont': 12,\n",
       " 'eager': 13,\n",
       " 'employee': 14,\n",
       " 'employment': 15,\n",
       " 'everyone': 16,\n",
       " 'existing': 17,\n",
       " 'futuri': 18,\n",
       " 'get': 19,\n",
       " 'give': 20,\n",
       " 'grown': 21,\n",
       " 'high': 22,\n",
       " 'hire': 23,\n",
       " 'huge': 24,\n",
       " 'key': 25,\n",
       " 'le': 26,\n",
       " 'least': 27,\n",
       " 'money': 28,\n",
       " 'overhire': 29,\n",
       " 'position': 30,\n",
       " 'raise': 31,\n",
       " 'regular': 32,\n",
       " 'seem': 33,\n",
       " 'strategically': 34,\n",
       " 'swing': 35,\n",
       " 'tight': 36,\n",
       " 'turnover': 37,\n",
       " 'wildly': 38,\n",
       " 'assistance': 39,\n",
       " 'dbos': 40,\n",
       " 'adapting': 41,\n",
       " 'arent': 42,\n",
       " 'assessment': 43,\n",
       " 'better': 44,\n",
       " 'budget': 45,\n",
       " 'cheaper': 46,\n",
       " 'continue': 47,\n",
       " 'customer': 48,\n",
       " 'limited': 49,\n",
       " 'longer': 50,\n",
       " 'market': 51,\n",
       " 'may': 52,\n",
       " 'need': 53,\n",
       " 'say': 54,\n",
       " 'shifting': 55,\n",
       " 'shorter': 56,\n",
       " 'smaller': 57,\n",
       " 'solution': 58,\n",
       " 'true': 59,\n",
       " 'want': 60,\n",
       " 'competing': 61,\n",
       " 'excited': 62,\n",
       " 'focused': 63,\n",
       " 'growth': 64,\n",
       " 'looking': 65,\n",
       " 'opening': 66,\n",
       " 'option': 67,\n",
       " 'organization': 68,\n",
       " 'part': 69,\n",
       " 'people': 70,\n",
       " 'quicker': 71,\n",
       " 'rather': 72,\n",
       " 'restaurant': 73,\n",
       " 'stay': 74,\n",
       " 'store': 75,\n",
       " 'within': 76,\n",
       " 'add': 77,\n",
       " 'benefit': 78,\n",
       " 'box': 79,\n",
       " 'care': 80,\n",
       " 'family': 81,\n",
       " 'take': 82,\n",
       " 'unique': 83,\n",
       " 'working': 84,\n",
       " '401k': 85,\n",
       " 'instead': 86,\n",
       " 'matchinghigher': 87,\n",
       " 'palooza': 88,\n",
       " 'salariesbonuses': 89,\n",
       " 'collaboration': 90,\n",
       " 'different': 91,\n",
       " 'division': 92,\n",
       " 'grow': 93,\n",
       " 'around': 94,\n",
       " 'call': 95,\n",
       " 'impossible': 96,\n",
       " 'large': 97,\n",
       " 'negative': 98,\n",
       " 'please': 99,\n",
       " 'positive': 100,\n",
       " 'rid': 101,\n",
       " 'someone': 102,\n",
       " 'wake': 103,\n",
       " 'work': 104,\n",
       " 'contribution': 105,\n",
       " 'favorite': 106,\n",
       " 'recognize': 107,\n",
       " 'basis': 108,\n",
       " 'consult': 109,\n",
       " 'daily': 110,\n",
       " 'dept': 111,\n",
       " 'help': 112,\n",
       " 'hinder': 113,\n",
       " 'make': 114,\n",
       " 'one': 115,\n",
       " 'see': 116,\n",
       " 'sure': 117,\n",
       " 'system': 118,\n",
       " 'communication': 119,\n",
       " 'building': 120,\n",
       " 'spending': 121,\n",
       " 'surplus': 122,\n",
       " 'consume': 123,\n",
       " 'continually': 124,\n",
       " 'core': 125,\n",
       " 'creating': 126,\n",
       " 'focus': 127,\n",
       " 'insurance': 128,\n",
       " 'project': 129,\n",
       " 'resource': 130,\n",
       " 'side': 131,\n",
       " 'valuable': 132,\n",
       " 'attention': 133,\n",
       " 'change': 134,\n",
       " 'culture': 135,\n",
       " 'excuse': 136,\n",
       " 'growing': 137,\n",
       " 'investigation': 138,\n",
       " 'pain': 139,\n",
       " 'pay': 140,\n",
       " 'unhappy': 141,\n",
       " 'workplace': 142,\n",
       " '3': 143,\n",
       " 'aggressive': 144,\n",
       " 'executive': 145,\n",
       " 'expansion': 146,\n",
       " 'level': 147,\n",
       " 'plan': 148,\n",
       " 'put': 149,\n",
       " 'together': 150,\n",
       " 'year': 151,\n",
       " 'thing': 152,\n",
       " 'narrow': 153,\n",
       " 'based': 154,\n",
       " 'expectation': 155,\n",
       " 'industry': 156,\n",
       " 'management': 157,\n",
       " 'objective': 158,\n",
       " 'opposed': 159,\n",
       " 'parameter': 160,\n",
       " 'setting': 161,\n",
       " 'understand': 162,\n",
       " 'unrealistic': 163,\n",
       " 'upper': 164,\n",
       " 'engage': 165,\n",
       " 'international': 166,\n",
       " 'acquisition': 167,\n",
       " 'team': 168,\n",
       " 'wonder': 169,\n",
       " 'would': 170,\n",
       " 'acountability': 171,\n",
       " 'apparent': 172,\n",
       " 'become': 173,\n",
       " 'becomes': 174,\n",
       " 'big': 175,\n",
       " 'came': 176,\n",
       " 'coming': 177,\n",
       " 'could': 178,\n",
       " 'dy': 179,\n",
       " 'elsewhere': 180,\n",
       " 'enjoy': 181,\n",
       " 'environment': 182,\n",
       " 'esop': 183,\n",
       " 'everything': 184,\n",
       " 'feel': 185,\n",
       " 'go': 186,\n",
       " 'going': 187,\n",
       " 'good': 188,\n",
       " 'hate': 189,\n",
       " 'head': 190,\n",
       " 'however': 191,\n",
       " 'like': 192,\n",
       " 'lost': 193,\n",
       " 'making': 194,\n",
       " 'nice': 195,\n",
       " 'others': 196,\n",
       " 'past': 197,\n",
       " 'place': 198,\n",
       " 'point': 199,\n",
       " 'problem': 200,\n",
       " 'profit': 201,\n",
       " 'profitability': 202,\n",
       " 'several': 203,\n",
       " 'small': 204,\n",
       " 'solely': 205,\n",
       " 'spoken': 206,\n",
       " 'topic': 207,\n",
       " 'toward': 208,\n",
       " 'type': 209,\n",
       " 'yet': 210,\n",
       " 'creates': 211,\n",
       " 'extra': 212,\n",
       " 'laid': 213,\n",
       " 'layoff': 214,\n",
       " 'load': 215,\n",
       " 'possible': 216,\n",
       " 'forget': 217,\n",
       " 'initial': 218,\n",
       " 'mission': 219,\n",
       " 'root': 220,\n",
       " 'concerned': 221,\n",
       " 'development': 222,\n",
       " 'job': 223,\n",
       " 'security': 224,\n",
       " 'workforce': 225,\n",
       " 'funding': 226,\n",
       " 'hold': 227,\n",
       " 'losing': 228,\n",
       " 'much': 229,\n",
       " '1': 230,\n",
       " 'beginning': 231,\n",
       " 'burning': 232,\n",
       " 'captive': 233,\n",
       " 'choosing': 234,\n",
       " 'committee': 235,\n",
       " 'competency': 236,\n",
       " 'compliant': 237,\n",
       " 'create': 238,\n",
       " 'direction': 239,\n",
       " 'distraction': 240,\n",
       " 'dropping': 241,\n",
       " 'endless': 242,\n",
       " 'external': 243,\n",
       " 'feeling': 244,\n",
       " 'hopefully': 245,\n",
       " 'involved': 246,\n",
       " 'lean': 247,\n",
       " 'lose': 248,\n",
       " 'many': 249,\n",
       " 'meeting': 250,\n",
       " 'morale': 251,\n",
       " 'multiple': 252,\n",
       " 'package': 253,\n",
       " 'participate': 254,\n",
       " 'personnel': 255,\n",
       " 'pressure': 256,\n",
       " 'quit': 257,\n",
       " 'run': 258,\n",
       " 'scheme': 259,\n",
       " 'sell': 260,\n",
       " 'software': 261,\n",
       " 'spac': 262,\n",
       " 'start': 263,\n",
       " 'transition': 264,\n",
       " 'trying': 265,\n",
       " 'various': 266,\n",
       " 'write': 267,\n",
       " 'candidly': 268,\n",
       " 'leadership': 269,\n",
       " 'wont': 270,\n",
       " 'friendly': 271,\n",
       " 'policy': 272,\n",
       " 'bring': 273,\n",
       " 'cincinnati': 274,\n",
       " 'comment': 275,\n",
       " 'confidential': 276,\n",
       " 'determine': 277,\n",
       " 'director': 278,\n",
       " 'guilty': 279,\n",
       " 'hesitant': 280,\n",
       " 'joked': 281,\n",
       " 'klt': 282,\n",
       " 'manager': 283,\n",
       " 'negatively': 284,\n",
       " 'new': 285,\n",
       " 'office': 286,\n",
       " 'previous': 287,\n",
       " 'question': 288,\n",
       " 'responded': 289,\n",
       " 'response': 290,\n",
       " 'salary': 291,\n",
       " 'survey': 292,\n",
       " 'tried': 293,\n",
       " 'try': 294,\n",
       " 'way': 295,\n",
       " 'answer': 296,\n",
       " 'accurate': 297,\n",
       " 'timely': 298,\n",
       " 'believe': 299,\n",
       " 'commit': 300,\n",
       " 'commitment': 301,\n",
       " 'developed': 302,\n",
       " 'disrupter': 303,\n",
       " 'plane': 304,\n",
       " 'quo': 305,\n",
       " 'really': 306,\n",
       " 'status': 307,\n",
       " 'think': 308,\n",
       " 'truly': 309,\n",
       " 'vision': 310,\n",
       " 'well': 311,\n",
       " 'bigger': 312,\n",
       " 'facility': 313,\n",
       " 'actual': 314,\n",
       " 'adopt': 315,\n",
       " 'behind': 316,\n",
       " 'crew': 317,\n",
       " 'cutting': 318,\n",
       " 'driver': 319,\n",
       " 'edge': 320,\n",
       " 'falling': 321,\n",
       " 'modern': 322,\n",
       " 'tech': 323,\n",
       " 'consistent': 324,\n",
       " 'disciplinary': 325,\n",
       " 'impression': 326,\n",
       " 'modeling': 327,\n",
       " 'role': 328,\n",
       " 'staff': 329,\n",
       " 'strong': 330,\n",
       " 'student': 331,\n",
       " 'value': 332,\n",
       " 'bit': 333,\n",
       " 'department': 334,\n",
       " 'great': 335,\n",
       " 'renovation': 336,\n",
       " 'back': 337,\n",
       " 'correct': 338,\n",
       " 'efficient': 339,\n",
       " 'find': 340,\n",
       " 'folk': 341,\n",
       " 'front': 342,\n",
       " 'handle': 343,\n",
       " 'hard': 344,\n",
       " 'inefficient': 345,\n",
       " 'know': 346,\n",
       " 'line': 347,\n",
       " 'list': 348,\n",
       " 'person': 349,\n",
       " 'procedure': 350,\n",
       " 'process': 351,\n",
       " 'seems': 352,\n",
       " 'slows': 353,\n",
       " 'task': 354,\n",
       " 'touch': 355,\n",
       " 'u': 356,\n",
       " 'competitor': 357,\n",
       " 'information': 358,\n",
       " 'manner': 359,\n",
       " 'walmart': 360,\n",
       " 'bud': 361,\n",
       " 'move': 362,\n",
       " 'proper': 363,\n",
       " 'taste': 364,\n",
       " 'wish': 365,\n",
       " 'branch': 366,\n",
       " 'enough': 367,\n",
       " 'faith': 368,\n",
       " 'given': 369,\n",
       " 'lot': 370,\n",
       " 'outside': 371,\n",
       " 'support': 372,\n",
       " 'also': 373,\n",
       " 'decision': 374,\n",
       " 'determining': 375,\n",
       " 'establish': 376,\n",
       " 'feasibility': 377,\n",
       " 'priority': 378,\n",
       " 'straight': 379,\n",
       " 'keep': 380,\n",
       " 'trend': 381,\n",
       " 'accountable': 382,\n",
       " 'certain': 383,\n",
       " 'completed': 384,\n",
       " 'duty': 385,\n",
       " 'holding': 386,\n",
       " 'leave': 387,\n",
       " 'member': 388,\n",
       " 'properly': 389,\n",
       " 'slip': 390,\n",
       " 'sometimes': 391,\n",
       " 'asking': 392,\n",
       " 'input': 393,\n",
       " '40': 394,\n",
       " '980': 395,\n",
       " 'adopted': 396,\n",
       " 'allowed': 397,\n",
       " 'antiquated': 398,\n",
       " 'attractive': 399,\n",
       " 'bringing': 400,\n",
       " 'come': 401,\n",
       " 'contractor': 402,\n",
       " 'current': 403,\n",
       " 'currently': 404,\n",
       " 'defense': 405,\n",
       " 'experience': 406,\n",
       " 'financial': 407,\n",
       " 'flexibility': 408,\n",
       " 'government': 409,\n",
       " 'health': 410,\n",
       " 'hiring': 411,\n",
       " 'hour': 412,\n",
       " 'includes': 413,\n",
       " 'jobproject': 414,\n",
       " 'meet': 415,\n",
       " 'metric': 416,\n",
       " 'metron': 417,\n",
       " 'mind': 418,\n",
       " 'necessarily': 419,\n",
       " 'offering': 420,\n",
       " 'overall': 421,\n",
       " 'physically': 422,\n",
       " 'pl': 423,\n",
       " 'promotes': 424,\n",
       " 'schedule': 425,\n",
       " 'senior': 426,\n",
       " 'set': 427,\n",
       " 'standard': 428,\n",
       " 'stockholder': 429,\n",
       " 'strategy': 430,\n",
       " 'structure': 431,\n",
       " 'successful': 432,\n",
       " 'suitable': 433,\n",
       " 'talent': 434,\n",
       " 'telecommuting': 435,\n",
       " 'ultimately': 436,\n",
       " 'visibility': 437,\n",
       " 'week': 438,\n",
       " 'sale': 439,\n",
       " 'alike': 440,\n",
       " 'diminishing': 441,\n",
       " 'done': 442,\n",
       " 'group': 443,\n",
       " 'midwest': 444,\n",
       " 'quality': 445,\n",
       " 'rate': 446,\n",
       " 'service': 447,\n",
       " 'sloppy': 448,\n",
       " 'supervisor': 449,\n",
       " 'worker': 450,\n",
       " 'afraid': 451,\n",
       " 'busy': 452,\n",
       " 'guy': 453,\n",
       " 'im': 454,\n",
       " 'slack': 455,\n",
       " 'competitive': 456,\n",
       " 'look': 457,\n",
       " 'right': 458,\n",
       " 'skill': 459,\n",
       " 'agency': 460,\n",
       " 'bank': 461,\n",
       " 'client': 462,\n",
       " 'complaint': 463,\n",
       " 'fear': 464,\n",
       " 'fnb': 465,\n",
       " 'issue': 466,\n",
       " 'modernize': 467,\n",
       " 'peer': 468,\n",
       " 'post': 469,\n",
       " 'regulatory': 470,\n",
       " 'transaction': 471,\n",
       " 'amongst': 472,\n",
       " 'associated': 473,\n",
       " 'capability': 474,\n",
       " 'concern': 475,\n",
       " 'consequence': 476,\n",
       " 'cooperation': 477,\n",
       " 'exceeding': 478,\n",
       " 'foundation': 479,\n",
       " 'impact': 480,\n",
       " 'issuesconcernsproblems': 481,\n",
       " 'lack': 482,\n",
       " 'lucky': 483,\n",
       " 'never': 484,\n",
       " 'overwhelmingly': 485,\n",
       " 'rising': 486,\n",
       " 'risk': 487,\n",
       " 'significant': 488,\n",
       " 'size': 489,\n",
       " 'thinking': 490,\n",
       " 'venue': 491,\n",
       " 'voice': 492,\n",
       " 'voiced': 493,\n",
       " 'without': 494,\n",
       " 'always': 495,\n",
       " 'anyone': 496,\n",
       " 'area': 497,\n",
       " 'central': 498,\n",
       " 'compared': 499,\n",
       " 'consider': 500,\n",
       " 'disability': 501,\n",
       " 'etc': 502,\n",
       " 'giving': 503,\n",
       " 'hlc': 504,\n",
       " 'hr': 505,\n",
       " 'iowa': 506,\n",
       " 'lacking': 507,\n",
       " 'paid': 508,\n",
       " 'shortterm': 509,\n",
       " 'sick': 510,\n",
       " 'surgery': 511,\n",
       " 'time': 512,\n",
       " 'use': 513,\n",
       " 'transparency': 514,\n",
       " 'whats': 515,\n",
       " 'man': 516,\n",
       " 'accountability': 517,\n",
       " 'assignment': 518,\n",
       " 'complete': 519,\n",
       " 'fix': 520,\n",
       " 'human': 521,\n",
       " 'promised': 522,\n",
       " 'responsibility': 523,\n",
       " 'addressed': 524,\n",
       " 'advantage': 525,\n",
       " 'advertising': 526,\n",
       " 'ago': 527,\n",
       " 'ahead': 528,\n",
       " 'ammunition': 529,\n",
       " 'appreciated': 530,\n",
       " 'away': 531,\n",
       " 'begin': 532,\n",
       " 'blunt': 533,\n",
       " 'brilliant': 534,\n",
       " 'cargill': 535,\n",
       " 'case': 536,\n",
       " 'catch': 537,\n",
       " 'circle': 538,\n",
       " 'competition': 539,\n",
       " 'consultant': 540,\n",
       " 'devote': 541,\n",
       " 'discussion': 542,\n",
       " 'effort': 543,\n",
       " 'encountered': 544,\n",
       " 'engaged': 545,\n",
       " 'every': 546,\n",
       " 'fair': 547,\n",
       " 'fantastic': 548,\n",
       " 'far': 549,\n",
       " 'gear': 550,\n",
       " 'goal': 551,\n",
       " 'including': 552,\n",
       " 'increase': 553,\n",
       " 'inhouse': 554,\n",
       " 'ive': 555,\n",
       " 'leader': 556,\n",
       " 'let': 557,\n",
       " 'marketing': 558,\n",
       " 'might': 559,\n",
       " 'name': 560,\n",
       " 'needed': 561,\n",
       " 'ongoing': 562,\n",
       " 'outsource': 563,\n",
       " 'paparazzo': 564,\n",
       " 'photo': 565,\n",
       " 'product': 566,\n",
       " 'professional': 567,\n",
       " 'promote': 568,\n",
       " 'pulse': 569,\n",
       " 'pushed': 570,\n",
       " 'recently': 571,\n",
       " 'recognition': 572,\n",
       " 'research': 573,\n",
       " 'setup': 574,\n",
       " 'speedup': 575,\n",
       " 'started': 576,\n",
       " 'still': 577,\n",
       " 'study': 578,\n",
       " 'success': 579,\n",
       " 'tackle': 580,\n",
       " 'thorn': 581,\n",
       " 'top': 582,\n",
       " 'urgency': 583,\n",
       " 'waiting': 584,\n",
       " 'winging': 585,\n",
       " 'wpd': 586,\n",
       " 'allowing': 587,\n",
       " 'becoming': 588,\n",
       " 'careless': 589,\n",
       " 'causing': 590,\n",
       " 'community': 591,\n",
       " 'engulfed': 592,\n",
       " 'expected': 593,\n",
       " 'lower': 594,\n",
       " 'match': 595,\n",
       " 'origin': 596,\n",
       " 'pnc': 597,\n",
       " 'quickly': 598,\n",
       " 'sight': 599,\n",
       " 'subpar': 600,\n",
       " 'surge': 601,\n",
       " 'thus': 602,\n",
       " 'unachievable': 603,\n",
       " 'administration': 604,\n",
       " 'aes': 605,\n",
       " 'aid': 606,\n",
       " 'already': 607,\n",
       " 'band': 608,\n",
       " 'build': 609,\n",
       " 'cost': 610,\n",
       " 'critical': 611,\n",
       " 'distribution': 612,\n",
       " 'expense': 613,\n",
       " 'lifeprobut': 614,\n",
       " 'managing': 615,\n",
       " 'productservice': 616,\n",
       " 'putting': 617,\n",
       " 'scratch': 618,\n",
       " 'staying': 619,\n",
       " 'tpms': 620,\n",
       " 'updatingreplacing': 621,\n",
       " 'utilize': 622,\n",
       " 'discouraging': 623,\n",
       " 'failing': 624,\n",
       " 'motivation': 625,\n",
       " 'quick': 626,\n",
       " 'there': 627,\n",
       " 'career': 628,\n",
       " 'chose': 629,\n",
       " 'environmentculture': 630,\n",
       " 'fully': 631,\n",
       " 'reputation': 632,\n",
       " 'taking': 633,\n",
       " 'approach': 634,\n",
       " 'clear': 635,\n",
       " 'constantly': 636,\n",
       " 'dedicated': 637,\n",
       " 'disgruntled': 638,\n",
       " 'engineering': 639,\n",
       " 'fire': 640,\n",
       " 'frustrated': 641,\n",
       " 'future': 642,\n",
       " 'generally': 643,\n",
       " 'industrious': 644,\n",
       " 'innovative': 645,\n",
       " 'insufficient': 646,\n",
       " 'lead': 647,\n",
       " 'leading': 648,\n",
       " 'manage': 649,\n",
       " 'managerial': 650,\n",
       " 'overloaded': 651,\n",
       " 'pick': 652,\n",
       " 'pride': 653,\n",
       " 'rein': 654,\n",
       " 'technical': 655,\n",
       " 'train': 656,\n",
       " 'unsatisfied': 657,\n",
       " 'younger': 658,\n",
       " 'confidence': 659,\n",
       " 'grasping': 660,\n",
       " 'hop': 661,\n",
       " 'idea': 662,\n",
       " 'next': 663,\n",
       " 'failed': 664,\n",
       " 'model': 665,\n",
       " 'program': 666,\n",
       " 'stop': 667,\n",
       " 'using': 668,\n",
       " 'expanding': 669,\n",
       " 'funeral': 670,\n",
       " 'hole': 671,\n",
       " 'life': 672,\n",
       " 'long': 673,\n",
       " 'pigeon': 674,\n",
       " 'preneed': 675,\n",
       " 'related': 676,\n",
       " 'sustainability': 677,\n",
       " 'term': 678,\n",
       " 'animal': 679,\n",
       " 'aligned': 680,\n",
       " 'even': 681,\n",
       " 'gap': 682,\n",
       " 'improve': 683,\n",
       " 'interaction': 684,\n",
       " 'operation': 685,\n",
       " 'supporting': 686,\n",
       " 'allow': 687,\n",
       " 'due': 688,\n",
       " 'planning': 689,\n",
       " 'unsure': 690,\n",
       " 'competetive': 691,\n",
       " 'advancing': 692,\n",
       " 'opportunity': 693,\n",
       " 'provide': 694,\n",
       " 'simply': 695,\n",
       " 'stagnate': 696,\n",
       " 'upward': 697,\n",
       " '4th': 698,\n",
       " 'correctly': 699,\n",
       " 'fast': 700,\n",
       " 'quarter': 701,\n",
       " 'accessible': 702,\n",
       " 'class': 703,\n",
       " 'classroom': 704,\n",
       " 'ipads': 705,\n",
       " 'lab': 706,\n",
       " 'actually': 707,\n",
       " 'closing': 708,\n",
       " 'myriant': 709,\n",
       " 'nervous': 710,\n",
       " 'often': 711,\n",
       " 'plant': 712,\n",
       " 'took': 713,\n",
       " 'wellenough': 714,\n",
       " 'decentralization': 715,\n",
       " 'introduce': 716,\n",
       " 'strategic': 717,\n",
       " 'greg': 718,\n",
       " 'odells': 719,\n",
       " 'understanding': 720,\n",
       " 'hope': 721,\n",
       " 'implement': 722,\n",
       " 'reducing': 723,\n",
       " 'training': 724,\n",
       " 'turn': 725,\n",
       " 'coordinated': 726,\n",
       " 'antagonism': 727,\n",
       " 'art': 728,\n",
       " 'assist': 729,\n",
       " 'belief': 730,\n",
       " 'cause': 731,\n",
       " 'changing': 732,\n",
       " 'custom': 733,\n",
       " 'day': 734,\n",
       " 'dc': 735,\n",
       " 'event': 736,\n",
       " 'forgotten': 737,\n",
       " 'greeting': 738,\n",
       " 'habit': 739,\n",
       " 'hand': 740,\n",
       " 'hello': 741,\n",
       " 'hi': 742,\n",
       " 'howbeit': 743,\n",
       " 'kindness': 744,\n",
       " 'knowledge': 745,\n",
       " 'known': 746,\n",
       " 'last': 747,\n",
       " 'law': 748,\n",
       " 'mistrust': 749,\n",
       " 'moral': 750,\n",
       " 'morning': 751,\n",
       " 'shop': 752,\n",
       " 'slowing': 753,\n",
       " 'strife': 754,\n",
       " 'strive': 755,\n",
       " 'tension': 756,\n",
       " 'weekend': 757,\n",
       " 'worship': 758,\n",
       " 'stronger': 759,\n",
       " 'slvhcs': 760,\n",
       " 'applied': 761,\n",
       " 'applying': 762,\n",
       " 'chance': 763,\n",
       " 'check': 764,\n",
       " 'clean': 765,\n",
       " 'collector': 766,\n",
       " 'complained': 767,\n",
       " 'ensure': 768,\n",
       " 'especially': 769,\n",
       " 'higher': 770,\n",
       " 'military': 771,\n",
       " 'passed': 772,\n",
       " 'performer': 773,\n",
       " 'poor': 774,\n",
       " 'population': 775,\n",
       " 'practice': 776,\n",
       " 'prior': 777,\n",
       " 'serve': 778,\n",
       " 'server': 779,\n",
       " 'unfair': 780,\n",
       " 'unfairly': 781,\n",
       " 'everyday': 782,\n",
       " 'guarded': 783,\n",
       " 'guidance': 784,\n",
       " 'therefore': 785,\n",
       " 'treated': 786,\n",
       " 'trust': 787,\n",
       " 'incompetent': 788,\n",
       " 'lazy': 789,\n",
       " 'gain': 790,\n",
       " 'house': 791,\n",
       " 'function': 792,\n",
       " 'style': 793,\n",
       " 'accept': 794,\n",
       " 'accomplish': 795,\n",
       " 'civilian': 796,\n",
       " 'counterpart': 797,\n",
       " 'deadline': 798,\n",
       " 'equivalent': 799,\n",
       " 'incomplete': 800,\n",
       " 'number': 801,\n",
       " 'political': 802,\n",
       " 'refuse': 803,\n",
       " 'willing': 804,\n",
       " 'provider': 805,\n",
       " 'permanent': 806,\n",
       " 'shift': 807,\n",
       " '5': 808,\n",
       " 'five': 809,\n",
       " 'three': 810,\n",
       " 'tm': 811,\n",
       " '247': 812,\n",
       " 'allotted': 813,\n",
       " 'drawing': 814,\n",
       " 'emergency': 815,\n",
       " 'entire': 816,\n",
       " 'hospital': 817,\n",
       " 'inpatient': 818,\n",
       " 'inspected': 819,\n",
       " 'open': 820,\n",
       " 'operate': 821,\n",
       " 'panel': 822,\n",
       " 'ready': 823,\n",
       " 'room': 824,\n",
       " 'safety': 825,\n",
       " 'updated': 826,\n",
       " 'weekly': 827,\n",
       " 'mole': 828,\n",
       " 'planted': 829,\n",
       " 'retaliation': 830,\n",
       " 'suggest': 831,\n",
       " 'view': 832,\n",
       " 'responsibly': 833,\n",
       " 'va': 834,\n",
       " 'asset': 835,\n",
       " 'battery': 836,\n",
       " 'beacon': 837,\n",
       " 'bottom': 838,\n",
       " 'drastic': 839,\n",
       " 'explained': 840,\n",
       " 'fit': 841,\n",
       " 'heavily': 842,\n",
       " 'ie': 843,\n",
       " 'rd': 844,\n",
       " 'searching': 845,\n",
       " 'strongest': 846,\n",
       " 'technology': 847,\n",
       " 'townhall': 848,\n",
       " 'unclear': 849,\n",
       " 'alive': 850,\n",
       " 'attitude': 851,\n",
       " 'compensate': 852,\n",
       " 'downfall': 853,\n",
       " 'ego': 854,\n",
       " 'fake': 855,\n",
       " 'frankly': 856,\n",
       " 'maddening': 857,\n",
       " 'nonexistent': 858,\n",
       " 'paired': 859,\n",
       " 'pressed': 860,\n",
       " 'quite': 861,\n",
       " 'rely': 862,\n",
       " 'safely': 863,\n",
       " 'situation': 864,\n",
       " 'subordinate': 865,\n",
       " 'supervisory': 866,\n",
       " 'till': 867,\n",
       " 'another': 868,\n",
       " 'cant': 869,\n",
       " 'created': 870,\n",
       " 'ddc': 871,\n",
       " 'destination': 872,\n",
       " 'efficiently': 873,\n",
       " 'individual': 874,\n",
       " 'listened': 875,\n",
       " 'major': 876,\n",
       " 'mobility': 877,\n",
       " 'seriously': 878,\n",
       " 'shot': 879,\n",
       " 'taken': 880,\n",
       " 'throughout': 881,\n",
       " 'upon': 882,\n",
       " 'addition': 883,\n",
       " 'baton': 884,\n",
       " 'called': 885,\n",
       " 'clinic': 886,\n",
       " 'deal': 887,\n",
       " 'efficiency': 888,\n",
       " 'exhausted': 889,\n",
       " 'existence': 890,\n",
       " 'extended': 891,\n",
       " 'leaf': 892,\n",
       " 'moment': 893,\n",
       " 'nurse': 894,\n",
       " 'overflow': 895,\n",
       " 'overwhelmed': 896,\n",
       " 'pact': 897,\n",
       " 'patient': 898,\n",
       " 'personal': 899,\n",
       " 'pulled': 900,\n",
       " 'reinvent': 901,\n",
       " 'rn': 902,\n",
       " 'rotation': 903,\n",
       " 'rouge': 904,\n",
       " 'short': 905,\n",
       " 'stressed': 906,\n",
       " 'ups': 907,\n",
       " 'urgent': 908,\n",
       " 'venerable': 909,\n",
       " 'walkins': 910,\n",
       " 'wheel': 911,\n",
       " 'worked': 912,\n",
       " 'corporate': 913,\n",
       " 'heavy': 914,\n",
       " 'molina': 915,\n",
       " 'reduce': 916,\n",
       " 'accordingly': 917,\n",
       " 'appropriate': 918,\n",
       " 'compensated': 919,\n",
       " 'g': 920,\n",
       " 'perform': 921,\n",
       " 'require': 922,\n",
       " 'required': 923,\n",
       " 'equitable': 924,\n",
       " 'outstanding': 925,\n",
       " 'receive': 926,\n",
       " 'receiving': 927,\n",
       " 'review': 928,\n",
       " 'greatly': 929,\n",
       " 'ladder': 930,\n",
       " 'president': 931,\n",
       " 'trickle': 932,\n",
       " 'decrease': 933,\n",
       " 'unproductive': 934,\n",
       " 'wasteful': 935,\n",
       " 'affect': 936,\n",
       " 'although': 937,\n",
       " 'basically': 938,\n",
       " 'bonus': 939,\n",
       " 'corporation': 940,\n",
       " 'deliverable': 941,\n",
       " 'difficult': 942,\n",
       " 'important': 943,\n",
       " 'particular': 944,\n",
       " 'percentage': 945,\n",
       " 'promotion': 946,\n",
       " 'push': 947,\n",
       " 'rule': 948,\n",
       " 'teamwork': 949,\n",
       " 'timeliness': 950,\n",
       " 'aware': 951,\n",
       " 'cc': 952,\n",
       " 'reviewer': 953,\n",
       " 'remotely': 954,\n",
       " 'tool': 955,\n",
       " 'behavior': 956,\n",
       " 'little': 957,\n",
       " '2': 958,\n",
       " '2am': 959,\n",
       " 'access': 960,\n",
       " 'account': 961,\n",
       " 'afterhours': 962,\n",
       " 'automated': 963,\n",
       " 'eg': 964,\n",
       " 'escalation': 965,\n",
       " 'formal': 966,\n",
       " 'improvement': 967,\n",
       " 'lowlevel': 968,\n",
       " 'operational': 969,\n",
       " 'super': 970,\n",
       " 'ticket': 971,\n",
       " 'tier': 972,\n",
       " 'tracking': 973,\n",
       " 'troubleshooting': 974,\n",
       " 'punitive': 975,\n",
       " 'act': 976,\n",
       " 'balance': 977,\n",
       " 'candidate': 978,\n",
       " 'civility': 979,\n",
       " 'component': 980,\n",
       " 'cultivation': 981,\n",
       " 'door': 982,\n",
       " 'dream': 983,\n",
       " 'enhanced': 984,\n",
       " 'ever': 985,\n",
       " 'garden': 986,\n",
       " 'imagine': 987,\n",
       " 'inclusion': 988,\n",
       " 'katrina': 989,\n",
       " 'knocking': 990,\n",
       " 'nourishmentfuelwater': 991,\n",
       " 'orleans': 992,\n",
       " 'provides': 993,\n",
       " 'respect': 994,\n",
       " 'unsolicited': 995,\n",
       " 'viewed': 996,\n",
       " 'worklife': 997,\n",
       " 'wow': 998,\n",
       " 'deck': 999,\n",
       " ...}"
      ]
     },
     "execution_count": 13,
     "metadata": {},
     "output_type": "execute_result"
    }
   ],
   "source": [
    "id2word.token2id"
   ]
  },
  {
   "cell_type": "code",
   "execution_count": 15,
   "id": "a9a3d283",
   "metadata": {},
   "outputs": [],
   "source": [
    "# Creating the object for LDA model using gensim library\n",
    "LDA = gensim.models.ldamodel.LdaModel\n",
    "\n",
    "# Build LDA model\n",
    "lda_model = LDA(corpus=corpus, id2word=id2word, num_topics=12, random_state=100,\n",
    "                chunksize=1000, passes=50,iterations=100)"
   ]
  },
  {
   "cell_type": "code",
   "execution_count": 40,
   "id": "13748851",
   "metadata": {
    "scrolled": true
   },
   "outputs": [
    {
     "data": {
      "text/plain": [
       "[(0,\n",
       "  '0.097*\"like\" + 0.049*\"better\" + 0.034*\"love\" + 0.027*\"see\" + 0.022*\"u\" + 0.021*\"help\" + 0.021*\"constantly\" + 0.021*\"employee\" + 0.021*\"job\" + 0.019*\"work\"'),\n",
       " (1,\n",
       "  '0.049*\"community\" + 0.047*\"student\" + 0.038*\"need\" + 0.036*\"best\" + 0.023*\"school\" + 0.018*\"support\" + 0.018*\"serve\" + 0.018*\"program\" + 0.017*\"world\" + 0.016*\"education\"'),\n",
       " (2,\n",
       "  '0.078*\"care\" + 0.063*\"patient\" + 0.052*\"employee\" + 0.030*\"staff\" + 0.021*\"quality\" + 0.020*\"pay\" + 0.018*\"health\" + 0.017*\"hospital\" + 0.015*\"high\" + 0.015*\"benefit\"'),\n",
       " (3,\n",
       "  '0.107*\"customer\" + 0.079*\"product\" + 0.070*\"service\" + 0.066*\"positive\" + 0.060*\"focus\" + 0.019*\"need\" + 0.017*\"focusing\" + 0.015*\"security\" + 0.015*\"changing\" + 0.014*\"everything\"'),\n",
       " (4,\n",
       "  '0.019*\"new\" + 0.015*\"change\" + 0.013*\"management\" + 0.011*\"team\" + 0.011*\"need\" + 0.010*\"department\" + 0.009*\"work\" + 0.009*\"leadership\" + 0.009*\"decision\" + 0.008*\"process\"'),\n",
       " (5,\n",
       "  '0.154*\"growing\" + 0.072*\"new\" + 0.059*\"company\" + 0.054*\"grow\" + 0.046*\"market\" + 0.044*\"technology\" + 0.044*\"expanding\" + 0.034*\"business\" + 0.032*\"fast\" + 0.024*\"area\"'),\n",
       " (6,\n",
       "  '0.196*\"growth\" + 0.070*\"opportunity\" + 0.030*\"company\" + 0.027*\"term\" + 0.025*\"long\" + 0.023*\"market\" + 0.022*\"new\" + 0.022*\"strategy\" + 0.020*\"building\" + 0.019*\"success\"'),\n",
       " (7,\n",
       "  '0.065*\"client\" + 0.045*\"goal\" + 0.034*\"vision\" + 0.028*\"sale\" + 0.025*\"focused\" + 0.020*\"focus\" + 0.020*\"plan\" + 0.019*\"clear\" + 0.017*\"business\" + 0.015*\"future\"'),\n",
       " (8,\n",
       "  '0.039*\"company\" + 0.032*\"like\" + 0.030*\"culture\" + 0.023*\"bank\" + 0.023*\"strong\" + 0.019*\"becoming\" + 0.019*\"value\" + 0.018*\"feel\" + 0.017*\"firm\" + 0.017*\"continues\"'),\n",
       " (9,\n",
       "  '0.036*\"people\" + 0.029*\"work\" + 0.020*\"like\" + 0.019*\"get\" + 0.016*\"year\" + 0.016*\"feel\" + 0.015*\"make\" + 0.015*\"employee\" + 0.014*\"time\" + 0.014*\"thing\"'),\n",
       " (10,\n",
       "  '0.097*\"always\" + 0.044*\"looking\" + 0.043*\"way\" + 0.041*\"industry\" + 0.041*\"new\" + 0.039*\"forward\" + 0.028*\"technology\" + 0.027*\"trying\" + 0.025*\"improve\" + 0.023*\"ahead\"'),\n",
       " (11,\n",
       "  '0.106*\"direction\" + 0.075*\"going\" + 0.055*\"right\" + 0.049*\"think\" + 0.045*\"company\" + 0.042*\"good\" + 0.036*\"moving\" + 0.033*\"change\" + 0.029*\"great\" + 0.027*\"like\"')]"
      ]
     },
     "execution_count": 40,
     "metadata": {},
     "output_type": "execute_result"
    }
   ],
   "source": [
    "lda_model.print_topics()"
   ]
  },
  {
   "cell_type": "code",
   "execution_count": 43,
   "id": "f47c1d21",
   "metadata": {},
   "outputs": [
    {
     "name": "stderr",
     "output_type": "stream",
     "text": [
      "/home/rutvathaker/.local/lib/python3.8/site-packages/pyLDAvis/_prepare.py:246: FutureWarning:\n",
      "\n",
      "In a future version of pandas all arguments of DataFrame.drop except for the argument 'labels' will be keyword-only\n",
      "\n"
     ]
    },
    {
     "data": {
      "text/html": [
       "\n",
       "<link rel=\"stylesheet\" type=\"text/css\" href=\"https://cdn.jsdelivr.net/gh/bmabey/pyLDAvis@3.3.1/pyLDAvis/js/ldavis.v1.0.0.css\">\n",
       "\n",
       "\n",
       "<div id=\"ldavis_el42001397911223737607960944738\"></div>\n",
       "<script type=\"text/javascript\">\n",
       "\n",
       "var ldavis_el42001397911223737607960944738_data = {\"mdsDat\": {\"x\": [-0.08745704900317748, -0.2701095466254881, -0.10782836653309963, 0.06880105900061272, -0.1880350160020436, -0.22024308216040822, 0.12289896196723493, 0.2121012437584992, 0.06868747221374383, 0.17558409580493872, 0.10343265129979846, 0.12216757627938958], \"y\": [0.05053661509970667, 0.0279559099407677, 0.04192066990910202, 0.19058606194624236, -0.06653578235655726, 0.02379947538411089, 0.19460536850947519, 0.049415963703901486, -0.20692410118834006, 0.16317262332625002, -0.24090711070041443, -0.22762569357424448], \"topics\": [1, 2, 3, 4, 5, 6, 7, 8, 9, 10, 11, 12], \"cluster\": [1, 1, 1, 1, 1, 1, 1, 1, 1, 1, 1, 1], \"Freq\": [22.248545123714965, 21.53292535761021, 7.224876649820157, 7.066049580880454, 7.042837447388213, 6.940988844254173, 5.413195610668366, 4.963816057873395, 4.819076525640795, 4.506260025133378, 4.215246188464544, 4.026182588551349]}, \"tinfo\": {\"Term\": [\"growth\", \"like\", \"growing\", \"direction\", \"new\", \"company\", \"customer\", \"care\", \"always\", \"going\", \"employee\", \"think\", \"patient\", \"product\", \"people\", \"opportunity\", \"right\", \"positive\", \"good\", \"need\", \"service\", \"client\", \"way\", \"change\", \"focus\", \"better\", \"work\", \"grow\", \"community\", \"technology\", \"project\", \"senior\", \"communication\", \"past\", \"development\", \"step\", \"learning\", \"initiative\", \"willing\", \"learn\", \"reach\", \"agency\", \"risk\", \"agent\", \"proud\", \"research\", \"continually\", \"executive\", \"solid\", \"information\", \"policy\", \"develop\", \"stronger\", \"definitely\", \"allows\", \"major\", \"daily\", \"multiple\", \"there\", \"improved\", \"role\", \"process\", \"issue\", \"decision\", \"department\", \"lack\", \"system\", \"level\", \"management\", \"without\", \"team\", \"training\", \"made\", \"change\", \"leadership\", \"new\", \"resource\", \"also\", \"need\", \"many\", \"area\", \"time\", \"work\", \"make\", \"support\", \"staff\", \"making\", \"business\", \"seems\", \"money\", \"day\", \"hard\", \"healthcare\", \"hiring\", \"happy\", \"upper\", \"say\", \"cant\", \"ive\", \"putting\", \"matter\", \"nothing\", \"worker\", \"global\", \"worked\", \"start\", \"person\", \"bad\", \"anything\", \"happen\", \"let\", \"someone\", \"answer\", \"wrong\", \"generation\", \"talk\", \"leaving\", \"younger\", \"desire\", \"people\", \"get\", \"want\", \"every\", \"first\", \"never\", \"go\", \"one\", \"dont\", \"year\", \"work\", \"come\", \"thing\", \"everyone\", \"something\", \"time\", \"make\", \"put\", \"done\", \"feel\", \"many\", \"job\", \"know\", \"think\", \"employee\", \"like\", \"good\", \"lot\", \"see\", \"really\", \"u\", \"company\", \"need\", \"way\", \"culture\", \"bank\", \"becoming\", \"firm\", \"continues\", \"excited\", \"helping\", \"corporate\", \"bigger\", \"staying\", \"small\", \"investing\", \"continued\", \"progressive\", \"location\", \"diversity\", \"profitable\", \"larger\", \"banking\", \"oriented\", \"diverse\", \"remain\", \"bit\", \"relevant\", \"unique\", \"merger\", \"modern\", \"awesome\", \"highly\", \"owner\", \"strong\", \"expansion\", \"competitive\", \"core\", \"value\", \"become\", \"organization\", \"losing\", \"big\", \"company\", \"grow\", \"like\", \"family\", \"feel\", \"getting\", \"employee\", \"business\", \"community\", \"people\", \"care\", \"patient\", \"pay\", \"hospital\", \"increase\", \"edge\", \"cutting\", \"higher\", \"staffing\", \"medical\", \"low\", \"uchealth\", \"nurse\", \"increased\", \"turnover\", \"provider\", \"raise\", \"atmosphere\", \"everyday\", \"kwik\", \"trip\", \"scale\", \"budget\", \"lower\", \"bonus\", \"willingness\", \"emory\", \"salary\", \"compensation\", \"supporting\", \"health\", \"quality\", \"high\", \"benefit\", \"staff\", \"cost\", \"employee\", \"leading\", \"rate\", \"le\", \"due\", \"concerned\", \"take\", \"direction\", \"going\", \"right\", \"moving\", \"headed\", \"encouraging\", \"committed\", \"whats\", \"wish\", \"stable\", \"proactive\", \"property\", \"secure\", \"positioned\", \"capital\", \"innovate\", \"creative\", \"bright\", \"commercial\", \"concerning\", \"grows\", \"graybar\", \"cultural\", \"honestly\", \"content\", \"reactive\", \"thoughtful\", \"updated\", \"couple\", \"ship\", \"happening\", \"think\", \"good\", \"concern\", \"future\", \"change\", \"great\", \"believe\", \"company\", \"know\", \"really\", \"feel\", \"leadership\", \"im\", \"like\", \"towards\", \"dont\", \"thing\", \"well\", \"seems\", \"industry\", \"next\", \"year\", \"whole\", \"lot\", \"best\", \"love\", \"constantly\", \"fact\", \"career\", \"option\", \"advancement\", \"easier\", \"insurance\", \"county\", \"fun\", \"site\", \"finally\", \"date\", \"country\", \"contract\", \"guest\", \"reaching\", \"latest\", \"concept\", \"gain\", \"considering\", \"possibility\", \"dollar\", \"access\", \"sustainable\", \"objective\", \"embracing\", \"equipment\", \"sign\", \"heart\", \"better\", \"life\", \"tool\", \"like\", \"see\", \"coming\", \"offer\", \"help\", \"would\", \"giving\", \"job\", \"u\", \"member\", \"team\", \"opportunity\", \"working\", \"give\", \"make\", \"employee\", \"part\", \"work\", \"great\", \"also\", \"feel\", \"company\", \"different\", \"changing\", \"able\", \"well\", \"student\", \"school\", \"serve\", \"education\", \"district\", \"teacher\", \"yes\", \"excellent\", \"child\", \"public\", \"clinic\", \"kid\", \"class\", \"college\", \"unit\", \"social\", \"wonderful\", \"setting\", \"teaching\", \"population\", \"treatment\", \"ethic\", \"doctor\", \"parent\", \"purpose\", \"administration\", \"physician\", \"involvement\", \"centered\", \"effect\", \"community\", \"world\", \"best\", \"program\", \"support\", \"need\", \"provide\", \"family\", \"practice\", \"involved\", \"meet\", \"state\", \"staff\", \"help\", \"health\", \"truly\", \"client\", \"goal\", \"vision\", \"sale\", \"clear\", \"strategic\", \"center\", \"challenge\", \"planning\", \"driven\", \"city\", \"amazing\", \"appears\", \"commitment\", \"marketplace\", \"achieve\", \"credit\", \"maintaining\", \"stability\", \"bottom\", \"asset\", \"satisfaction\", \"main\", \"finding\", \"stock\", \"allowing\", \"transparent\", \"economy\", \"following\", \"managing\", \"path\", \"mission\", \"plan\", \"focused\", \"financial\", \"line\", \"sure\", \"focus\", \"business\", \"future\", \"overall\", \"always\", \"looking\", \"forward\", \"ahead\", \"keeping\", \"innovative\", \"thinking\", \"innovation\", \"improving\", \"continuing\", \"trend\", \"store\", \"striving\", \"space\", \"digital\", \"heading\", \"progress\", \"smart\", \"comment\", \"continuous\", \"design\", \"friendly\", \"estate\", \"sound\", \"schwab\", \"innovating\", \"internally\", \"mindset\", \"interesting\", \"strives\", \"improve\", \"industry\", \"trying\", \"leader\", \"way\", \"technology\", \"potential\", \"stay\", \"idea\", \"new\", \"improvement\", \"move\", \"better\", \"thing\", \"future\", \"keep\", \"customer\", \"product\", \"service\", \"focusing\", \"security\", \"competition\", \"offering\", \"pace\", \"key\", \"price\", \"adapt\", \"greater\", \"cloud\", \"pipeline\", \"sell\", \"specific\", \"online\", \"collaboration\", \"genuinely\", \"retail\", \"soon\", \"national\", \"presence\", \"importance\", \"stride\", \"updating\", \"enterprise\", \"diversification\", \"buying\", \"oil\", \"positive\", \"focus\", \"providing\", \"everything\", \"changing\", \"quality\", \"ability\", \"need\", \"experience\", \"industry\", \"best\", \"focused\", \"job\", \"making\", \"business\", \"growing\", \"expanding\", \"fast\", \"exciting\", \"expand\", \"none\", \"adding\", \"opening\", \"evolving\", \"curve\", \"compete\", \"energy\", \"rapidly\", \"challenging\", \"forefront\", \"selling\", \"medium\", \"strength\", \"conservative\", \"evolve\", \"meaningful\", \"pt\", \"transition\", \"ownership\", \"diversifying\", \"expertise\", \"advanced\", \"sector\", \"gas\", \"lean\", \"grow\", \"market\", \"technology\", \"new\", \"area\", \"investment\", \"business\", \"company\", \"ceo\", \"open\", \"continue\", \"tech\", \"invest\", \"time\", \"enough\", \"trying\", \"growth\", \"term\", \"strategy\", \"solution\", \"acquisition\", \"brand\", \"share\", \"facility\", \"revenue\", \"developing\", \"adapting\", \"longterm\", \"confidence\", \"stand\", \"third\", \"rapid\", \"interested\", \"aggressive\", \"steady\", \"fifth\", \"serving\", \"na\", \"beginning\", \"acquiring\", \"living\", \"standing\", \"pain\", \"positioning\", \"horizon\", \"delivering\", \"opportunity\", \"reputation\", \"room\", \"success\", \"building\", \"long\", \"market\", \"provides\", \"talent\", \"mean\", \"company\", \"current\", \"future\", \"lot\", \"new\", \"drive\", \"competitor\", \"constant\"], \"Freq\": [10497.0, 20295.0, 8621.0, 9912.0, 13499.0, 18371.0, 6387.0, 7364.0, 6194.0, 6998.0, 12645.0, 8051.0, 5885.0, 4734.0, 11321.0, 5423.0, 5183.0, 4793.0, 7089.0, 9935.0, 4207.0, 4303.0, 6119.0, 7376.0, 4930.0, 5505.0, 12987.0, 4515.0, 4665.0, 4285.0, 2046.868998930542, 1938.5572484876323, 1731.9609815086478, 1680.4289163706624, 1671.6962386353625, 1306.2937837407342, 1199.4376861212102, 1099.134711151119, 908.9281696903797, 852.8597880636254, 848.3234715748566, 788.3688053340217, 759.7565253815047, 743.6312324443523, 732.2720596813859, 717.9122208211774, 694.8439375681697, 691.3404984587642, 678.2070594943082, 663.0144060198121, 655.7228548713423, 606.3607754027247, 603.5287100321412, 594.213261716537, 588.0539997274611, 582.3076683870169, 568.5610294746846, 555.6847599730435, 512.4588106665694, 511.5961862872172, 880.0185493791699, 2482.0191442251503, 1736.6465533569087, 2621.554454964458, 2904.7139022322576, 1731.2039649343976, 1912.2687533156943, 2070.418162573795, 3891.5944698771305, 1561.6319769234356, 3185.5720080991805, 1407.1972912296671, 1796.7419382115822, 4294.192351721192, 2789.9602133675808, 5648.830689924412, 1267.4440180973006, 2206.072420897971, 3111.9753469249927, 2277.75272036237, 1578.4696062096027, 2318.8822101636542, 2808.893062953924, 2194.066589651744, 1428.5366769536506, 1544.2167404111897, 1481.5972326319697, 1507.6869042438464, 1464.2369342086881, 2760.850815862179, 2484.0675548479257, 2180.464912861531, 1455.4100011019186, 1275.5640336855433, 1234.3599603596376, 1225.9218932151891, 1165.2893435280928, 1136.125107384225, 987.7013453109522, 936.5982678522122, 827.5620359545048, 789.972725583854, 789.2568491356548, 771.7982989836052, 770.6550554897292, 725.8806616500196, 709.589475177461, 680.6441197234977, 640.9978639105201, 627.7303625849537, 585.3761828394307, 571.8572185842753, 569.9344000304653, 526.509837075514, 521.3610436412113, 520.4449096850947, 516.9502146151391, 509.04029291620907, 505.341009365781, 10305.48229820423, 5328.405928983363, 3316.102286105695, 2247.2374490249454, 1933.311500856002, 1159.7460984395327, 2302.8298127433536, 3751.895671985737, 3305.0842919252937, 4599.291363441557, 8417.538068015569, 2188.493203371912, 4065.669436442126, 2139.119183417897, 1316.536899707349, 4092.7453442502288, 4361.173159750317, 1457.685960494844, 1527.611044896354, 4493.247300536709, 2930.0876329073626, 2723.1399051082476, 2041.9080390938373, 3424.969876595138, 4341.547590822692, 5656.653137415724, 3128.086638582599, 2340.358156346497, 2392.1038168717328, 2079.8440271599443, 2685.1718012148854, 4046.507348208253, 2924.5184019834714, 2394.7887533345624, 2858.2646464173654, 2211.1734838568163, 1804.000225315656, 1644.5681368497799, 1602.8985409168379, 1097.8303658525074, 1073.7900355025192, 961.6208151336157, 958.655925712885, 938.5911673423094, 877.7570555903977, 835.7236783224072, 828.0220304119562, 797.1091123179955, 682.8654530307568, 677.9994752615023, 593.996346689112, 563.1224626543324, 477.9365976174998, 455.37705761339845, 416.30736252719487, 387.1817393331718, 384.5719122995626, 383.46684154050126, 383.05302685811756, 370.1917514834843, 332.02028688398036, 313.901307059124, 304.61053028572337, 298.94115735568323, 2183.761648124823, 1281.609423360083, 1103.7785662659992, 781.4758151220332, 1798.7057224339255, 1165.92016250654, 1244.0005321083643, 612.7426659954577, 1035.778999544873, 3747.1881256867623, 1468.297926722084, 3119.059735903917, 934.8654491116987, 1762.6243014339184, 1008.1024654963251, 1498.6049002913917, 1233.8524815472442, 1109.5657120618846, 1014.8045195613553, 7363.098476165364, 5884.292823689136, 1894.0658094784849, 1594.929311959257, 1296.4760460429723, 1096.5837491095854, 1034.7498896953448, 858.1165037305591, 789.1772805315885, 660.1591988093733, 625.2281085164766, 620.7174855402615, 539.9864387731623, 522.4879433570763, 497.5783266442417, 476.7137873594314, 469.01011489629195, 467.30605901409206, 447.7745297748858, 445.26681091272627, 424.3727104039279, 422.2787612183588, 417.3365706096906, 408.3747969422068, 402.262183019869, 390.6230632892645, 383.355418879949, 368.30154048250967, 365.4584591547221, 363.4212491527692, 1707.404171842338, 2012.054799687009, 1415.5664979524013, 1391.006630750597, 2828.558370722078, 861.1850112560662, 4862.62403798624, 778.6927539917488, 615.0811746529504, 916.4649374099695, 580.1776340214627, 615.5589207654795, 536.1716852604414, 9911.588011027616, 6996.812980861185, 5182.676057173643, 3342.5863044118787, 826.9700917006966, 416.66695230759933, 377.8642823487416, 372.642944840147, 345.5826180997242, 337.8990656454894, 328.04558575026937, 288.8810868740402, 266.25781172530753, 261.05270998997327, 257.49681413014366, 240.2037978252476, 236.12979555804645, 230.33068245122547, 216.85605850135505, 187.66158840007253, 175.4820779177412, 153.02177070517092, 149.44048601869926, 144.78258432469974, 142.42246951023378, 140.58976670741072, 138.75141952166894, 135.45982897472743, 131.19226142148804, 128.67521532749475, 537.4621514279169, 4625.5103456608285, 3960.3372094932083, 1787.861907134282, 2401.6761275421204, 3080.8923140675975, 2668.965858864275, 1655.1876138194107, 4197.12548007013, 1216.7428451867506, 1216.619932755625, 1855.1544582208912, 1165.8203121434321, 846.5066303543634, 2572.807192569959, 635.602148677587, 966.6054128702406, 1118.6187132296086, 938.7083880858111, 845.9794144795787, 770.8190730499521, 511.14912791013967, 703.7935731922456, 455.0650573069869, 526.6086786577641, 527.4954351865749, 3095.195754324059, 1977.008757638244, 1603.7605107417307, 918.2412925677146, 538.6434690828872, 519.7251097418175, 499.0311352965679, 483.09265294872586, 455.62328247139084, 452.54258854741255, 430.8617937569839, 368.02273398262787, 336.00790310064446, 322.2692229857265, 304.96831601384554, 297.78241423028214, 295.7399156191769, 293.71526508422284, 268.80126230393165, 259.1686276839416, 246.88058163801207, 244.58793074900885, 236.85157367822578, 230.59718682938492, 226.86878600710062, 224.80893330991816, 222.11312208705874, 214.03230358990595, 199.11906542386694, 185.84591725910258, 4476.972418033309, 1088.6876276940295, 525.943242014794, 8945.927591944204, 2486.5034188592376, 756.7452843800759, 673.0838127412352, 1980.9001966627714, 1382.0606865239595, 542.2520880511458, 1920.5220665700115, 1995.0226426316844, 1037.8633515433744, 1575.851360231577, 1695.7280603514594, 1376.7533430804276, 786.0100295645499, 1753.981603569516, 1941.7074537497253, 818.6254020316887, 1760.1814796875844, 1266.6432992353893, 977.2687249312352, 1229.9792700332216, 1480.2353288024026, 650.2650366429893, 613.7294448600566, 566.3773175502656, 576.1510615087797, 3365.8192062876524, 1668.6453100403185, 1309.3301948874039, 1160.5677738369395, 958.4968319903616, 918.3462800468297, 798.0654773436487, 793.9349187350409, 724.7816129049999, 616.8543623297993, 606.844044093996, 581.1570469013953, 551.3796248348226, 542.2673910381794, 491.59439698457396, 470.3620098322431, 379.5053317286329, 368.3109678192369, 365.2749412457022, 363.0021591431233, 360.0396999162163, 343.1264128236865, 340.55078517761285, 331.04280863702013, 321.1421379082808, 318.12299564380817, 297.99391768721347, 293.7185024270492, 281.79751021694517, 275.751336293587, 3554.848158404611, 1216.1167486438762, 2585.638165313123, 1261.7709823306134, 1313.5211216010314, 2755.6947821473063, 917.3240423350823, 857.5237727094985, 589.867541344323, 491.8382144475778, 511.5896734919742, 494.85973525558893, 784.3931400757108, 718.4680873378518, 516.5337609919786, 501.37597303332177, 4301.965927347184, 2977.693721240309, 2252.447639922549, 1829.166531844573, 1268.1748845498319, 931.3648593894276, 892.4498369859178, 825.8080331493344, 718.5610792295448, 713.6504992401814, 664.1285724508185, 649.3008646381795, 638.830232134022, 601.3310119134677, 563.1657920546892, 560.5128525363758, 500.44048387661434, 488.1841244826982, 477.2801314205874, 440.6810551760129, 420.99391540895704, 395.49470001677554, 385.7477584479171, 361.31503334356887, 339.0703382314785, 332.21471981527935, 309.3113977546869, 309.06127925586674, 308.2846278327311, 289.5888690769653, 639.2598756275737, 847.6249893793845, 1288.468950278714, 1671.874865995047, 800.2473479565954, 764.7320571011604, 919.4208562834018, 1308.6711031423945, 1124.1910465267467, 988.4307066196229, 564.9893654183543, 6192.998641486679, 2834.111747978195, 2486.838744688218, 1452.2403133984951, 1313.159327041853, 1225.0276364293788, 1221.3658712746624, 1118.3606978161306, 994.3417999647612, 848.8437476260394, 832.899053826837, 803.7788052951811, 716.3497632170377, 567.406108566419, 562.4992597524819, 489.4631497634492, 434.6831370841324, 424.5923167830409, 345.84826110907557, 257.9955422449092, 239.0396147491859, 220.46742998229251, 208.98227285601877, 194.8805402698454, 188.6821721528867, 183.23956874341837, 175.35136967232373, 170.15967382309836, 168.5731823074792, 167.99336305959338, 1611.8702501768796, 2633.9380364075937, 1728.4363017576593, 1346.1153327294683, 2723.654205429742, 1809.3643537036548, 771.0384852697167, 949.5817760810589, 1129.0524078740002, 2624.6645072964343, 631.6465560599789, 736.0037016474698, 1027.4233041681857, 1064.112652110789, 981.7331955140405, 794.9747026666347, 6385.842103361564, 4733.6533663187265, 4206.423664969722, 1005.7314920832587, 902.8636400140888, 785.042425713344, 742.7931452637156, 595.3273524408143, 499.2842189546085, 478.08609420271796, 437.8307682887357, 387.76811651633994, 383.3410851060177, 362.9070878842564, 353.39183164712176, 335.8667061829391, 331.29546661720457, 286.02185864449615, 263.63303356317516, 258.3631192889615, 249.4347910809911, 243.582243508987, 242.95181040876435, 234.57292893796927, 233.49100523011793, 223.87034680319775, 214.53606887287967, 200.74956284525135, 200.22892427371914, 187.08226350110976, 3931.7179215133865, 3620.3284790376365, 612.6782345178347, 818.4745111012635, 894.7869235720875, 793.6112514398949, 477.3036164567192, 1142.1046073008977, 571.2492477605865, 750.5996840592975, 662.8071757478625, 537.8452733416586, 596.9348090406919, 512.1218403394395, 518.192415248325, 8620.63379111209, 2453.7514790618793, 1786.7771947967808, 1219.3798338514848, 919.1510514479788, 817.252501012772, 521.1675657937208, 491.74152384317995, 373.4495927647214, 364.38907486111503, 350.2004521540124, 330.18837911371435, 312.2350297092368, 306.4356314705221, 288.24517850125613, 281.8664952191162, 259.7451161013512, 237.24837300583943, 235.7749604804995, 222.96617669472136, 216.67374964945822, 193.61568232077065, 183.3014685575115, 177.58631786665507, 177.09994121205088, 173.52877909281767, 162.143881908983, 149.64649709480562, 144.62461802745398, 132.12108975530458, 3045.687402446508, 2550.232621301192, 2474.995374121025, 4037.619778750587, 1319.7895544209634, 536.8845921489022, 1923.3820306140196, 3307.4422249542554, 455.7868251927449, 661.8147708696772, 1061.3668600392537, 335.65556105827346, 257.4634018976122, 404.63741150566665, 302.41147084732245, 295.4827980771823, 10496.692083414615, 1444.8566483399634, 1166.5561733019422, 874.3998569275221, 757.3879092303625, 753.8270474084351, 642.7620454307009, 627.1590371294043, 556.2956194430153, 388.3359890310337, 363.8220554565549, 341.9524685518382, 312.0866276819033, 303.3400786275949, 298.0618005161273, 288.56510587360987, 272.44806370913807, 267.4801743438446, 252.3983261143935, 240.84322858914393, 235.89041389603764, 222.35071708973913, 219.6940116804649, 216.59403615844778, 207.57494699772104, 185.45340127456384, 180.51171193869982, 172.18778941712267, 167.96491277645055, 159.43376957513047, 3726.746006356305, 395.4915247908523, 565.4055054722545, 1005.4813325539351, 1045.7789960782616, 1312.5051128941725, 1245.66406624996, 305.9228807679317, 465.34895104768066, 487.1755315322403, 1592.1742186659062, 602.6597297244691, 879.8141808408772, 799.5450647149914, 1187.9217429025236, 356.1295374482977, 339.0432561542258, 311.7770362737621], \"Total\": [10497.0, 20295.0, 8621.0, 9912.0, 13499.0, 18371.0, 6387.0, 7364.0, 6194.0, 6998.0, 12645.0, 8051.0, 5885.0, 4734.0, 11321.0, 5423.0, 5183.0, 4793.0, 7089.0, 9935.0, 4207.0, 4303.0, 6119.0, 7376.0, 4930.0, 5505.0, 12987.0, 4515.0, 4665.0, 4285.0, 2048.0320299116584, 1939.7202774223363, 1733.1240088564014, 1681.59195219912, 1672.8592826472425, 1307.4568326808364, 1200.6007352503664, 1100.297756223512, 910.0912148033251, 854.0228347786219, 849.4865409514857, 789.5318432955964, 760.9195593466743, 744.7942790089115, 733.4351432359786, 719.0752765641139, 696.007016477345, 692.5035350586237, 679.3701273936083, 664.177433795617, 656.8858780172991, 607.5238284574658, 604.6917730177616, 595.3763252138576, 589.2170739835781, 583.4706980658834, 569.7240583343817, 556.8477961471574, 513.621839812648, 512.759238092164, 897.5861055467585, 2749.7702645116974, 1939.6909026972785, 3100.5008655058436, 3610.9200501704568, 2076.1089233497746, 2401.0337564724364, 2659.327710864913, 5811.355856694613, 1919.0779830468366, 4762.48739039868, 1728.9937502053356, 2377.530524577753, 7376.155307578449, 4360.861038326827, 13499.94708094477, 1619.9173066335306, 4816.847072425848, 9935.080949237063, 5776.753903132606, 2899.339773790766, 7243.233730940421, 12987.53661273285, 8441.312908975457, 2743.086355194658, 5158.064380244739, 4696.313614548594, 6308.0734688887915, 5213.825208721509, 2762.0066167634295, 2485.223357346755, 2181.6207203336835, 1456.5658501263676, 1276.7198429250595, 1235.515774410538, 1227.077699039121, 1166.445148476766, 1137.280908948449, 988.8571509542537, 937.7540861032737, 828.7178443403814, 791.1285198602436, 790.4126469561071, 772.9541797508209, 771.8108583487066, 727.0364656409162, 710.7452733783371, 681.7999163782665, 642.1536618125946, 628.8861649273355, 586.531984708647, 573.0130136779927, 571.090198883631, 527.6656366073421, 522.5168530108143, 521.6007068742056, 518.1060108536626, 510.1961017446947, 506.49686772687227, 11321.341515021686, 5875.334686232703, 3696.2407557056217, 2517.888968022833, 2161.9748523933877, 1247.3138223736134, 2689.385360780947, 4902.813847060845, 4272.753107724788, 6290.981832748739, 12987.53661273285, 2744.0384634886773, 6249.387495340737, 2830.5444888844663, 1573.3544164295909, 7243.233730940421, 8441.312908975457, 1843.6129991469843, 1975.7246271934152, 9905.141787927148, 5776.753903132606, 5241.552855362564, 3259.7142916493312, 8051.54364543744, 12645.307246520964, 20295.31095932758, 7089.487269452212, 4214.392971828358, 4879.664039682843, 3680.5806452987995, 6482.766940557951, 18371.36006382981, 9935.080949237063, 6119.3166530467215, 2859.459360721942, 2212.368203998138, 1805.194935680287, 1645.762851659993, 1604.0932639854614, 1099.0250983599153, 1074.9847569292926, 962.8155226288181, 959.8506389273675, 939.785891323703, 878.9517660321394, 836.9184141891593, 829.2167552810959, 798.3038367262086, 684.0601716643267, 679.1941903459896, 595.191067645969, 564.3171732054643, 479.13132421471215, 456.5717654225044, 417.5020838287106, 388.37645711508935, 385.7666279381698, 384.6615641474027, 384.2477521239248, 371.3864634529258, 333.2150067498499, 315.0960407262822, 305.80525283220794, 300.1358740194547, 2478.3643992149805, 1522.8475429307819, 1325.1902289343723, 894.0644485480127, 2426.8947428239494, 1846.3720366929886, 2500.8887848720105, 819.1109727049729, 2032.9483771049072, 18371.36006382981, 4515.097624739927, 20295.31095932758, 2111.7185573088796, 9905.141787927148, 3005.9728787600557, 12645.307246520964, 6308.0734688887915, 4665.474114057825, 11321.341515021686, 7364.261878401744, 5885.456222676687, 1895.2292064718079, 1596.092711305046, 1297.6394556502928, 1097.7471607527102, 1035.9132887926562, 859.2799073419462, 790.3406768437973, 661.32261031815, 626.39150679454, 621.8812838591064, 541.149829459654, 523.6513450540083, 498.7417182296478, 477.8771898079914, 470.173510059649, 468.4694792044687, 448.9379481612018, 446.4303018295858, 425.53612788523526, 423.4421822563185, 418.49996855426895, 409.5381985774387, 403.42557819850435, 391.7865104795892, 384.5190707645946, 369.4649351576818, 366.62185908098786, 364.5846756858477, 2224.966868051107, 2806.728734180775, 1878.5976278146961, 1959.3535972972024, 5158.064380244739, 1115.9698441627631, 12645.307246520964, 1158.2286131515918, 878.4306813672113, 2064.9807328482148, 1129.6230766073213, 2574.734400788709, 3378.529121289729, 9912.791440586412, 6998.016411996653, 5183.879489166703, 3343.789742097856, 828.1735169256115, 417.8704222392917, 379.0677477359234, 373.8463781166108, 346.7860869780464, 339.10251045522904, 329.2490204457433, 290.08452707676616, 267.4612529333767, 262.2561633736555, 258.70025473268294, 241.40724598588338, 237.3332562262128, 231.5341159801791, 218.05950204048546, 188.86501350707564, 176.6855164156165, 154.2252372548633, 150.64395847880033, 145.98602359719948, 143.62592068087255, 141.79319075947257, 139.95488216132716, 136.6632740819934, 132.39569853062656, 129.87864875303595, 568.138371454914, 8051.54364543744, 7089.487269452212, 3486.70821399827, 5252.577218552525, 7376.155307578449, 6401.59671309154, 3569.131575290685, 18371.36006382981, 3259.7142916493312, 3680.5806452987995, 9905.141787927148, 4360.861038326827, 2478.7967117939666, 20295.31095932758, 1552.2565645168143, 4272.753107724788, 6249.387495340737, 5091.976672017388, 5213.825208721509, 4156.382794616947, 1367.761498480091, 6290.981832748739, 1211.0543597471212, 4214.392971828358, 5230.546163527608, 3096.3925822914043, 1978.2055829442436, 1604.9573318677087, 919.4381081532761, 539.8402920623229, 520.9219258258379, 500.2279551235158, 484.2894697818217, 456.8200981367947, 453.73940533047903, 432.0586114563368, 369.21956360967, 337.20472295335185, 323.466043259675, 306.16512690260254, 298.979228568927, 296.9367543901822, 294.91209403451, 269.99808585738106, 260.3654508811708, 248.0774042015368, 245.78475379499343, 238.04838647836434, 231.79400866248866, 228.0656066009173, 226.0057682919226, 223.30994560270722, 215.22911375732158, 200.3158818042801, 187.04275043816, 5505.515822269158, 1437.9739443073822, 618.5405187854287, 20295.31095932758, 4879.664039682843, 1106.4661127988184, 972.8918091740803, 4550.41070104696, 2875.556659463926, 787.858132383882, 5241.552855362564, 6482.766940557951, 2333.203498430065, 4762.48739039868, 5423.577360604155, 4134.918167770007, 1589.854035681298, 8441.312908975457, 12645.307246520964, 2035.3242288461468, 12987.53661273285, 6401.59671309154, 4816.847072425848, 9905.141787927148, 18371.36006382981, 2212.886065555522, 2142.3339251345387, 1807.438709615252, 5091.976672017388, 3366.9805449174814, 1669.806650624978, 1310.4915553366222, 1161.7291181738242, 959.6581712063482, 919.5076164046014, 799.2268328125606, 795.096284196893, 725.9429569616549, 618.0157174800337, 608.0053972295235, 582.3183875232328, 552.5409678931485, 543.4287332329454, 492.75575109008116, 471.52336617278837, 380.6667025771209, 369.4723227304914, 366.4362847211574, 364.1635056745077, 361.20105443481594, 344.28777182444793, 341.712131549711, 332.2041499148069, 322.3034958984597, 319.2843351028065, 299.1552646421951, 294.8798615373407, 282.9588654991237, 276.9126847400299, 4665.474114057825, 1558.7893173243817, 5230.546163527608, 2010.8848170512754, 2743.086355194658, 9935.080949237063, 1761.6706451118268, 2111.7185573088796, 1165.7759430590063, 900.0298940005721, 1136.0549657587296, 1035.344988539309, 5158.064380244739, 4550.41070104696, 2224.966868051107, 1537.6299769512673, 4303.151572919764, 2978.879366239363, 2253.6332818332744, 1830.3521703021713, 1269.3605217705488, 932.550503142017, 893.635481151336, 826.9936866331611, 719.7467211472489, 714.8361383656865, 665.3142180528612, 650.4865328297601, 640.0158749123343, 602.5166568409587, 564.3514425164267, 561.6984987113135, 501.62612206460363, 489.36977301535615, 478.46577225794846, 441.86668994559403, 422.1795608091469, 396.68034248509184, 386.9334001591808, 362.50069286359536, 340.25597798857007, 333.4003722231411, 310.4970475571489, 310.24693326262627, 309.47027694647113, 290.774521364298, 766.0039547680848, 1107.0187373151796, 1927.0200364108532, 2730.7376446041703, 1250.2747113168934, 1406.8259175839105, 2240.071838812089, 4930.0845089039085, 6308.0734688887915, 5252.577218552525, 1344.7207523820414, 6194.21774597609, 2835.3308504566808, 2488.0578475617517, 1453.459418606194, 1314.3784415392577, 1226.2467434515027, 1222.584973763825, 1119.5798019213494, 995.5609108825496, 850.0628672515105, 834.1181628684363, 804.9979049553048, 717.5688674333218, 568.6252169461658, 563.7183671263116, 490.6822642478222, 435.9022556947041, 425.8114354026308, 347.0673513926351, 259.21465077259944, 240.25872268489465, 221.68653824430106, 210.2013814228591, 196.0996606931992, 189.9013013772686, 184.45867107925758, 176.57048042770273, 171.37878434411584, 169.7922897089449, 169.21249017110281, 2223.3049655515383, 4156.382794616947, 3272.506381790316, 2409.1635148918976, 6119.3166530467215, 4285.49641587422, 1335.9029537132192, 1843.57450827561, 2819.429064818051, 13499.94708094477, 1360.0973348614084, 1865.6654334477016, 5505.515822269158, 6249.387495340737, 5252.577218552525, 4153.64120012886, 6387.03720360539, 4734.848467093351, 4207.618768711502, 1006.9265962526799, 904.0587416231888, 786.2375303888901, 743.9882511809378, 596.5224599222598, 500.4793281482056, 479.28119188295744, 439.0258762667154, 388.96322861103437, 384.5361865543859, 364.1022067779176, 354.58692909390624, 337.06181548326816, 332.490567921716, 287.2169690147642, 264.8281615694307, 259.55821622972815, 250.6298967583691, 244.77736141856226, 244.1469253691247, 235.76803533276276, 234.68613309481648, 225.06546265389562, 215.7311780764607, 201.9446631788753, 201.42402471378136, 188.27737498725637, 4793.888528576788, 4930.0845089039085, 1116.6128741659168, 1748.6380137935996, 2142.3339251345387, 2806.728734180775, 1023.0028298207673, 9935.080949237063, 1949.8701721265918, 4156.382794616947, 5230.546163527608, 2730.7376446041703, 5241.552855362564, 4696.313614548594, 6308.0734688887915, 8621.847190559587, 2454.964879607192, 1787.9905867874186, 1220.5932417485305, 920.364455258688, 818.4658849052436, 522.38096965793, 492.9549263897409, 374.66299963085237, 365.602488220193, 351.41385454516154, 331.4017880357883, 313.4484250017946, 307.64904158916846, 289.45859702280745, 283.07990846330665, 260.9585329940108, 238.4617878310189, 236.98836977004996, 224.1795887477237, 217.88716373736506, 194.8290821953411, 184.51487722748894, 178.79972457870684, 178.3133503238925, 174.74218703071404, 163.35729246315415, 150.8599102840492, 145.8380289764093, 133.33449280414018, 4515.097624739927, 3797.0165698855053, 4285.49641587422, 13499.94708094477, 2899.339773790766, 905.7420869636043, 6308.0734688887915, 18371.36006382981, 787.4359105899732, 1531.9366452979104, 3523.3371759613115, 598.364659301257, 351.6885306129705, 7243.233730940421, 2172.1638159011295, 3272.506381790316, 10497.894377018982, 1446.0589418279585, 1167.7584728735549, 875.602158611867, 758.5902076612764, 755.0293476693158, 643.964350084999, 628.3613308677793, 557.497913793974, 389.5382962510001, 365.02436149399125, 343.15476823907795, 313.2889288365973, 304.54238482052284, 299.26411872692154, 289.7673934241866, 273.6503664385812, 268.6824677133077, 253.6006227665579, 242.04558601598012, 237.09272584423945, 223.55299471222028, 220.89631650776397, 217.79633352149256, 208.77724666928088, 186.6557166425632, 181.71401788462452, 173.39009125675256, 169.16722209747718, 160.63609036306593, 5423.577360604155, 472.33959652706704, 754.6787087317388, 1699.2142688107938, 1792.2478067959187, 2529.4658125338365, 3797.0165698855053, 380.88729658565114, 772.96529822127, 956.3223761856053, 18371.36006382981, 2054.1106590889317, 5252.577218552525, 4214.392971828358, 13499.94708094477, 645.9584637272624, 698.8735345499247, 614.0352108569956], \"Category\": [\"Default\", \"Default\", \"Default\", \"Default\", \"Default\", \"Default\", \"Default\", \"Default\", \"Default\", \"Default\", \"Default\", \"Default\", \"Default\", \"Default\", \"Default\", \"Default\", \"Default\", \"Default\", \"Default\", \"Default\", \"Default\", \"Default\", \"Default\", \"Default\", \"Default\", \"Default\", \"Default\", \"Default\", \"Default\", \"Default\", \"Topic1\", \"Topic1\", \"Topic1\", \"Topic1\", \"Topic1\", \"Topic1\", \"Topic1\", \"Topic1\", \"Topic1\", \"Topic1\", \"Topic1\", \"Topic1\", \"Topic1\", \"Topic1\", \"Topic1\", \"Topic1\", \"Topic1\", \"Topic1\", \"Topic1\", \"Topic1\", \"Topic1\", \"Topic1\", \"Topic1\", \"Topic1\", \"Topic1\", \"Topic1\", \"Topic1\", \"Topic1\", \"Topic1\", \"Topic1\", \"Topic1\", \"Topic1\", \"Topic1\", \"Topic1\", \"Topic1\", \"Topic1\", \"Topic1\", \"Topic1\", \"Topic1\", \"Topic1\", \"Topic1\", \"Topic1\", \"Topic1\", \"Topic1\", \"Topic1\", \"Topic1\", \"Topic1\", \"Topic1\", \"Topic1\", \"Topic1\", \"Topic1\", \"Topic1\", \"Topic1\", \"Topic1\", \"Topic1\", \"Topic1\", \"Topic1\", \"Topic1\", \"Topic1\", \"Topic2\", \"Topic2\", \"Topic2\", \"Topic2\", \"Topic2\", \"Topic2\", \"Topic2\", \"Topic2\", \"Topic2\", \"Topic2\", \"Topic2\", \"Topic2\", \"Topic2\", \"Topic2\", \"Topic2\", \"Topic2\", \"Topic2\", \"Topic2\", \"Topic2\", \"Topic2\", \"Topic2\", \"Topic2\", \"Topic2\", \"Topic2\", \"Topic2\", \"Topic2\", \"Topic2\", \"Topic2\", \"Topic2\", \"Topic2\", \"Topic2\", \"Topic2\", \"Topic2\", \"Topic2\", \"Topic2\", \"Topic2\", \"Topic2\", \"Topic2\", \"Topic2\", \"Topic2\", \"Topic2\", \"Topic2\", \"Topic2\", \"Topic2\", \"Topic2\", \"Topic2\", \"Topic2\", \"Topic2\", \"Topic2\", \"Topic2\", \"Topic2\", \"Topic2\", \"Topic2\", \"Topic2\", \"Topic2\", \"Topic2\", \"Topic2\", \"Topic2\", \"Topic2\", \"Topic2\", \"Topic2\", \"Topic2\", \"Topic2\", \"Topic2\", \"Topic3\", \"Topic3\", \"Topic3\", \"Topic3\", \"Topic3\", \"Topic3\", \"Topic3\", \"Topic3\", \"Topic3\", \"Topic3\", \"Topic3\", \"Topic3\", \"Topic3\", \"Topic3\", \"Topic3\", \"Topic3\", \"Topic3\", \"Topic3\", \"Topic3\", \"Topic3\", \"Topic3\", \"Topic3\", \"Topic3\", \"Topic3\", \"Topic3\", \"Topic3\", \"Topic3\", \"Topic3\", \"Topic3\", \"Topic3\", \"Topic3\", \"Topic3\", \"Topic3\", \"Topic3\", \"Topic3\", \"Topic3\", \"Topic3\", \"Topic3\", \"Topic3\", \"Topic3\", \"Topic3\", \"Topic3\", \"Topic3\", \"Topic3\", \"Topic3\", \"Topic3\", \"Topic3\", \"Topic3\", \"Topic3\", \"Topic4\", \"Topic4\", \"Topic4\", \"Topic4\", \"Topic4\", \"Topic4\", \"Topic4\", \"Topic4\", \"Topic4\", \"Topic4\", \"Topic4\", \"Topic4\", \"Topic4\", \"Topic4\", \"Topic4\", \"Topic4\", \"Topic4\", \"Topic4\", \"Topic4\", \"Topic4\", \"Topic4\", \"Topic4\", \"Topic4\", \"Topic4\", \"Topic4\", \"Topic4\", \"Topic4\", \"Topic4\", \"Topic4\", \"Topic4\", \"Topic4\", \"Topic4\", \"Topic4\", \"Topic4\", \"Topic4\", \"Topic4\", \"Topic4\", \"Topic4\", \"Topic4\", \"Topic4\", \"Topic4\", \"Topic4\", \"Topic4\", \"Topic5\", \"Topic5\", \"Topic5\", \"Topic5\", \"Topic5\", \"Topic5\", \"Topic5\", \"Topic5\", \"Topic5\", \"Topic5\", \"Topic5\", \"Topic5\", \"Topic5\", \"Topic5\", \"Topic5\", \"Topic5\", \"Topic5\", \"Topic5\", \"Topic5\", \"Topic5\", \"Topic5\", \"Topic5\", \"Topic5\", \"Topic5\", \"Topic5\", \"Topic5\", \"Topic5\", \"Topic5\", \"Topic5\", \"Topic5\", \"Topic5\", \"Topic5\", \"Topic5\", \"Topic5\", \"Topic5\", \"Topic5\", \"Topic5\", \"Topic5\", \"Topic5\", \"Topic5\", \"Topic5\", \"Topic5\", \"Topic5\", \"Topic5\", \"Topic5\", \"Topic5\", \"Topic5\", \"Topic5\", \"Topic5\", \"Topic5\", \"Topic5\", \"Topic5\", \"Topic5\", \"Topic5\", \"Topic5\", \"Topic5\", \"Topic6\", \"Topic6\", \"Topic6\", \"Topic6\", \"Topic6\", \"Topic6\", \"Topic6\", \"Topic6\", \"Topic6\", \"Topic6\", \"Topic6\", \"Topic6\", \"Topic6\", \"Topic6\", \"Topic6\", \"Topic6\", \"Topic6\", \"Topic6\", \"Topic6\", \"Topic6\", \"Topic6\", \"Topic6\", \"Topic6\", \"Topic6\", \"Topic6\", \"Topic6\", \"Topic6\", \"Topic6\", \"Topic6\", \"Topic6\", \"Topic6\", \"Topic6\", \"Topic6\", \"Topic6\", \"Topic6\", \"Topic6\", \"Topic6\", \"Topic6\", \"Topic6\", \"Topic6\", \"Topic6\", \"Topic6\", \"Topic6\", \"Topic6\", \"Topic6\", \"Topic6\", \"Topic6\", \"Topic6\", \"Topic6\", \"Topic6\", \"Topic6\", \"Topic6\", \"Topic6\", \"Topic6\", \"Topic6\", \"Topic6\", \"Topic6\", \"Topic6\", \"Topic6\", \"Topic7\", \"Topic7\", \"Topic7\", \"Topic7\", \"Topic7\", \"Topic7\", \"Topic7\", \"Topic7\", \"Topic7\", \"Topic7\", \"Topic7\", \"Topic7\", \"Topic7\", \"Topic7\", \"Topic7\", \"Topic7\", \"Topic7\", \"Topic7\", \"Topic7\", \"Topic7\", \"Topic7\", \"Topic7\", \"Topic7\", \"Topic7\", \"Topic7\", \"Topic7\", \"Topic7\", \"Topic7\", \"Topic7\", \"Topic7\", \"Topic7\", \"Topic7\", \"Topic7\", \"Topic7\", \"Topic7\", \"Topic7\", \"Topic7\", \"Topic7\", \"Topic7\", \"Topic7\", \"Topic7\", \"Topic7\", \"Topic7\", \"Topic7\", \"Topic7\", \"Topic7\", \"Topic8\", \"Topic8\", \"Topic8\", \"Topic8\", \"Topic8\", \"Topic8\", \"Topic8\", \"Topic8\", \"Topic8\", \"Topic8\", \"Topic8\", \"Topic8\", \"Topic8\", \"Topic8\", \"Topic8\", \"Topic8\", \"Topic8\", \"Topic8\", \"Topic8\", \"Topic8\", \"Topic8\", \"Topic8\", \"Topic8\", \"Topic8\", \"Topic8\", \"Topic8\", \"Topic8\", \"Topic8\", \"Topic8\", \"Topic8\", \"Topic8\", \"Topic8\", \"Topic8\", \"Topic8\", \"Topic8\", \"Topic8\", \"Topic8\", \"Topic8\", \"Topic8\", \"Topic8\", \"Topic8\", \"Topic9\", \"Topic9\", \"Topic9\", \"Topic9\", \"Topic9\", \"Topic9\", \"Topic9\", \"Topic9\", \"Topic9\", \"Topic9\", \"Topic9\", \"Topic9\", \"Topic9\", \"Topic9\", \"Topic9\", \"Topic9\", \"Topic9\", \"Topic9\", \"Topic9\", \"Topic9\", \"Topic9\", \"Topic9\", \"Topic9\", \"Topic9\", \"Topic9\", \"Topic9\", \"Topic9\", \"Topic9\", \"Topic9\", \"Topic9\", \"Topic9\", \"Topic9\", \"Topic9\", \"Topic9\", \"Topic9\", \"Topic9\", \"Topic9\", \"Topic9\", \"Topic9\", \"Topic9\", \"Topic9\", \"Topic9\", \"Topic9\", \"Topic9\", \"Topic9\", \"Topic9\", \"Topic10\", \"Topic10\", \"Topic10\", \"Topic10\", \"Topic10\", \"Topic10\", \"Topic10\", \"Topic10\", \"Topic10\", \"Topic10\", \"Topic10\", \"Topic10\", \"Topic10\", \"Topic10\", \"Topic10\", \"Topic10\", \"Topic10\", \"Topic10\", \"Topic10\", \"Topic10\", \"Topic10\", \"Topic10\", \"Topic10\", \"Topic10\", \"Topic10\", \"Topic10\", \"Topic10\", \"Topic10\", \"Topic10\", \"Topic10\", \"Topic10\", \"Topic10\", \"Topic10\", \"Topic10\", \"Topic10\", \"Topic10\", \"Topic10\", \"Topic10\", \"Topic10\", \"Topic10\", \"Topic10\", \"Topic10\", \"Topic10\", \"Topic10\", \"Topic10\", \"Topic11\", \"Topic11\", \"Topic11\", \"Topic11\", \"Topic11\", \"Topic11\", \"Topic11\", \"Topic11\", \"Topic11\", \"Topic11\", \"Topic11\", \"Topic11\", \"Topic11\", \"Topic11\", \"Topic11\", \"Topic11\", \"Topic11\", \"Topic11\", \"Topic11\", \"Topic11\", \"Topic11\", \"Topic11\", \"Topic11\", \"Topic11\", \"Topic11\", \"Topic11\", \"Topic11\", \"Topic11\", \"Topic11\", \"Topic11\", \"Topic11\", \"Topic11\", \"Topic11\", \"Topic11\", \"Topic11\", \"Topic11\", \"Topic11\", \"Topic11\", \"Topic11\", \"Topic11\", \"Topic11\", \"Topic11\", \"Topic11\", \"Topic11\", \"Topic11\", \"Topic11\", \"Topic12\", \"Topic12\", \"Topic12\", \"Topic12\", \"Topic12\", \"Topic12\", \"Topic12\", \"Topic12\", \"Topic12\", \"Topic12\", \"Topic12\", \"Topic12\", \"Topic12\", \"Topic12\", \"Topic12\", \"Topic12\", \"Topic12\", \"Topic12\", \"Topic12\", \"Topic12\", \"Topic12\", \"Topic12\", \"Topic12\", \"Topic12\", \"Topic12\", \"Topic12\", \"Topic12\", \"Topic12\", \"Topic12\", \"Topic12\", \"Topic12\", \"Topic12\", \"Topic12\", \"Topic12\", \"Topic12\", \"Topic12\", \"Topic12\", \"Topic12\", \"Topic12\", \"Topic12\", \"Topic12\", \"Topic12\", \"Topic12\", \"Topic12\", \"Topic12\", \"Topic12\", \"Topic12\", \"Topic12\"], \"logprob\": [30.0, 29.0, 28.0, 27.0, 26.0, 25.0, 24.0, 23.0, 22.0, 21.0, 20.0, 19.0, 18.0, 17.0, 16.0, 15.0, 14.0, 13.0, 12.0, 11.0, 10.0, 9.0, 8.0, 7.0, 6.0, 5.0, 4.0, 3.0, 2.0, 1.0, -4.973, -5.0274, -5.14, -5.1702, -5.1755, -5.4221, -5.5074, -5.5948, -5.7848, -5.8485, -5.8538, -5.9271, -5.9641, -5.9855, -6.0009, -6.0207, -6.0534, -6.0584, -6.0776, -6.1003, -6.1113, -6.1896, -6.1943, -6.2098, -6.2202, -6.2301, -6.2539, -6.2769, -6.3578, -6.3595, -5.8171, -4.7802, -5.1373, -4.7255, -4.623, -5.1405, -5.041, -4.9615, -4.3305, -5.2436, -4.5307, -5.3477, -5.1033, -4.232, -4.6633, -3.9578, -5.4523, -4.8981, -4.554, -4.8661, -5.2328, -4.8482, -4.6565, -4.9035, -5.3326, -5.2548, -5.2962, -5.2787, -5.308, -4.6411, -4.7467, -4.8771, -5.2813, -5.4132, -5.4461, -5.4529, -5.5036, -5.529, -5.669, -5.7221, -5.8459, -5.8924, -5.8933, -5.9156, -5.9171, -5.977, -5.9997, -6.0413, -6.1013, -6.1222, -6.1921, -6.2155, -6.2188, -6.2981, -6.3079, -6.3097, -6.3164, -6.3318, -6.3391, -3.3239, -3.9836, -4.4578, -4.8469, -4.9974, -5.5084, -4.8225, -4.3343, -4.4611, -4.1307, -3.5263, -4.8734, -4.254, -4.8962, -5.3816, -4.2474, -4.1839, -5.2798, -5.2329, -4.154, -4.5816, -4.6548, -4.9427, -4.4255, -4.1884, -3.9238, -4.5162, -4.8063, -4.7844, -4.9243, -4.6689, -4.2587, -4.5835, -4.7833, -3.5143, -3.771, -3.9745, -4.0671, -4.0927, -4.4712, -4.4934, -4.6037, -4.6068, -4.6279, -4.6949, -4.744, -4.7533, -4.7913, -4.946, -4.9532, -5.0854, -5.1388, -5.3028, -5.3512, -5.4409, -5.5134, -5.5202, -5.5231, -5.5241, -5.5583, -5.6671, -5.7232, -5.7533, -5.7721, -3.7835, -4.3164, -4.4658, -4.8111, -3.9775, -4.411, -4.3462, -5.0544, -4.5294, -3.2435, -4.1804, -3.427, -4.6319, -3.9977, -4.5565, -4.16, -4.3544, -4.4606, -4.5499, -2.5458, -2.77, -3.9036, -4.0755, -4.2827, -4.4501, -4.5082, -4.6953, -4.7791, -4.9576, -5.012, -5.0192, -5.1585, -5.1915, -5.2403, -5.2832, -5.2995, -5.3031, -5.3458, -5.3514, -5.3995, -5.4044, -5.4162, -5.4379, -5.453, -5.4823, -5.5011, -5.5412, -5.5489, -5.5545, -4.0073, -3.8432, -4.1948, -4.2123, -3.5026, -4.6918, -2.9607, -4.7925, -5.0283, -4.6296, -5.0867, -5.0275, -5.1656, -2.2453, -2.5936, -2.8937, -3.3323, -4.729, -5.4145, -5.5123, -5.5262, -5.6016, -5.624, -5.6536, -5.7808, -5.8623, -5.8821, -5.8958, -5.9653, -5.9824, -6.0073, -6.0676, -6.2121, -6.2793, -6.4162, -6.4399, -6.4716, -6.488, -6.5009, -6.5141, -6.5381, -6.5701, -6.5895, -5.1599, -3.0074, -3.1627, -3.958, -3.6629, -3.4138, -3.5573, -4.0351, -3.1046, -4.3429, -4.343, -3.9211, -4.3856, -4.7057, -3.594, -4.9922, -4.573, -4.4269, -4.6023, -4.7063, -4.7993, -5.2101, -4.8903, -5.3263, -5.1803, -5.1786, -3.3946, -3.8429, -4.0521, -4.6098, -5.1432, -5.1789, -5.2196, -5.252, -5.3106, -5.3173, -5.3664, -5.5241, -5.6151, -5.6568, -5.712, -5.7359, -5.7427, -5.7496, -5.8382, -5.8747, -5.9233, -5.9326, -5.9648, -5.9915, -6.0078, -6.017, -6.029, -6.0661, -6.1383, -6.2073, -3.0255, -4.4395, -5.167, -2.3333, -3.6136, -4.8032, -4.9204, -3.8409, -4.2009, -5.1365, -3.8719, -3.8338, -4.4873, -4.0697, -3.9964, -4.2047, -4.7653, -3.9626, -3.8609, -4.7246, -3.959, -4.2881, -4.5475, -4.3175, -4.1323, -4.9548, -5.0127, -5.093, -5.0759, -3.0622, -3.7638, -4.0063, -4.127, -4.3182, -4.361, -4.5014, -4.5066, -4.5977, -4.759, -4.7753, -4.8186, -4.8712, -4.8879, -4.986, -5.0301, -5.2447, -5.2747, -5.283, -5.2892, -5.2974, -5.3455, -5.3531, -5.3814, -5.4117, -5.4212, -5.4865, -5.501, -5.5424, -5.5641, -3.0075, -4.0802, -3.3259, -4.0433, -4.0031, -3.2622, -4.3622, -4.4296, -4.8037, -4.9855, -4.9461, -4.9793, -4.5187, -4.6065, -4.9365, -4.9663, -2.7301, -3.098, -3.3772, -3.5853, -3.9516, -4.2603, -4.303, -4.3806, -4.5197, -4.5266, -4.5985, -4.6211, -4.6373, -4.6978, -4.7634, -4.7681, -4.8815, -4.9063, -4.9288, -5.0086, -5.0543, -5.1168, -5.1418, -5.2072, -5.2707, -5.2912, -5.3626, -5.3634, -5.3659, -5.4285, -4.6366, -4.3545, -3.9357, -3.6753, -4.412, -4.4574, -4.2732, -3.9202, -4.0721, -4.2008, -4.7601, -2.3362, -3.1179, -3.2486, -3.7865, -3.8872, -3.9566, -3.9596, -4.0477, -4.1653, -4.3235, -4.3424, -4.378, -4.4932, -4.7263, -4.735, -4.874, -4.9927, -5.0162, -5.2214, -5.5144, -5.5907, -5.6716, -5.7251, -5.795, -5.8273, -5.8566, -5.9006, -5.9306, -5.94, -5.9434, -3.6822, -3.1911, -3.6124, -3.8624, -3.1576, -3.5666, -4.4196, -4.2113, -4.0382, -3.1947, -4.619, -4.4661, -4.1325, -4.0975, -4.178, -4.389, -2.2384, -2.5378, -2.6559, -4.0868, -4.1947, -4.3345, -4.3898, -4.6111, -4.7871, -4.8305, -4.9184, -5.0398, -5.0513, -5.1061, -5.1327, -5.1835, -5.1972, -5.3442, -5.4257, -5.4459, -5.481, -5.5048, -5.5074, -5.5425, -5.5471, -5.5892, -5.6318, -5.6982, -5.7008, -5.7687, -2.7234, -2.8059, -4.5824, -4.2928, -4.2037, -4.3236, -4.8321, -3.9596, -4.6524, -4.3794, -4.5038, -4.7127, -4.6084, -4.7617, -4.7499, -1.8716, -3.1281, -3.4453, -3.8274, -4.11, -4.2275, -4.6774, -4.7355, -5.0107, -5.0353, -5.075, -5.1338, -5.1897, -5.2085, -5.2697, -5.2921, -5.3738, -5.4644, -5.4706, -5.5265, -5.5551, -5.6676, -5.7224, -5.754, -5.7568, -5.7771, -5.845, -5.9252, -5.9593, -6.0498, -2.912, -3.0895, -3.1195, -2.6301, -3.7483, -4.6477, -3.3716, -2.8296, -4.8115, -4.4385, -3.9662, -5.1174, -5.3826, -4.9305, -5.2217, -5.2449, -1.6288, -3.6118, -3.8258, -4.1141, -4.2577, -4.2624, -4.4218, -4.4464, -4.5663, -4.9257, -4.9909, -5.0529, -5.1443, -5.1727, -5.1903, -5.2227, -5.2801, -5.2985, -5.3566, -5.4034, -5.4242, -5.4833, -5.4954, -5.5096, -5.5521, -5.6648, -5.6918, -5.739, -5.7638, -5.816, -2.6643, -4.9075, -4.5501, -3.9744, -3.9351, -3.7079, -3.7602, -5.1643, -4.7448, -4.699, -3.5147, -4.4862, -4.1079, -4.2036, -3.8076, -5.0123, -5.0615, -5.1453], \"loglift\": [30.0, 29.0, 28.0, 27.0, 26.0, 25.0, 24.0, 23.0, 22.0, 21.0, 20.0, 19.0, 18.0, 17.0, 16.0, 15.0, 14.0, 13.0, 12.0, 11.0, 10.0, 9.0, 8.0, 7.0, 6.0, 5.0, 4.0, 3.0, 2.0, 1.0, 1.5023, 1.5023, 1.5022, 1.5022, 1.5022, 1.502, 1.5019, 1.5018, 1.5016, 1.5015, 1.5015, 1.5014, 1.5014, 1.5013, 1.5013, 1.5013, 1.5012, 1.5012, 1.5012, 1.5011, 1.5011, 1.501, 1.501, 1.5009, 1.5009, 1.5009, 1.5009, 1.5008, 1.5006, 1.5006, 1.4831, 1.4004, 1.3923, 1.3351, 1.2853, 1.3212, 1.2753, 1.2526, 1.1019, 1.2968, 1.1008, 1.297, 1.2228, 0.9619, 1.0563, 0.6317, 1.2575, 0.722, 0.3421, 0.5722, 0.8949, 0.3639, -0.0283, 0.1555, 0.8505, 0.2968, 0.3492, 0.0716, 0.2329, 1.5352, 1.5351, 1.5351, 1.5348, 1.5347, 1.5347, 1.5346, 1.5346, 1.5346, 1.5344, 1.5344, 1.5342, 1.5341, 1.5341, 1.5341, 1.5341, 1.534, 1.534, 1.5339, 1.5338, 1.5337, 1.5336, 1.5336, 1.5336, 1.5334, 1.5334, 1.5334, 1.5334, 1.5333, 1.5333, 1.4416, 1.4379, 1.4271, 1.4219, 1.4238, 1.4628, 1.3804, 1.268, 1.2788, 1.2224, 1.1019, 1.3094, 1.1057, 1.2555, 1.3574, 0.9647, 0.8752, 1.3007, 1.2784, 0.7451, 0.8568, 0.8808, 1.0678, 0.6808, 0.4665, 0.258, 0.7174, 0.9474, 0.8227, 0.9648, 0.6542, 0.0226, 0.3126, 0.5974, 2.6272, 2.6271, 2.627, 2.6269, 2.6269, 2.6266, 2.6265, 2.6264, 2.6264, 2.6264, 2.6263, 2.6262, 2.6262, 2.6261, 2.6259, 2.6259, 2.6256, 2.6255, 2.6251, 2.625, 2.6248, 2.6246, 2.6245, 2.6245, 2.6245, 2.6244, 2.624, 2.6238, 2.6237, 2.6237, 2.5011, 2.4552, 2.4448, 2.493, 2.3281, 2.1679, 1.9293, 2.3374, 1.9533, 1.0379, 1.5043, 0.7548, 1.8128, 0.9014, 1.5351, 0.4949, 0.996, 1.1914, 0.2156, 2.6497, 2.6497, 2.6493, 2.6491, 2.649, 2.6488, 2.6487, 2.6485, 2.6484, 2.6481, 2.648, 2.648, 2.6477, 2.6476, 2.6475, 2.6474, 2.6474, 2.6474, 2.6473, 2.6473, 2.6471, 2.6471, 2.6471, 2.647, 2.647, 2.6469, 2.6468, 2.6467, 2.6467, 2.6467, 2.3851, 2.317, 2.3669, 2.3073, 2.0491, 2.3907, 1.6942, 2.2528, 2.2935, 1.8375, 1.9836, 1.2189, 0.8091, 2.653, 2.653, 2.6529, 2.6528, 2.6517, 2.6503, 2.65, 2.6499, 2.6497, 2.6496, 2.6495, 2.649, 2.6486, 2.6486, 2.6485, 2.6482, 2.6481, 2.6479, 2.6476, 2.6468, 2.6463, 2.6453, 2.6451, 2.6449, 2.6447, 2.6446, 2.6445, 2.6443, 2.644, 2.6439, 2.5977, 2.0989, 2.0709, 1.9852, 1.8706, 1.7801, 1.7783, 1.8848, 1.1768, 1.6677, 1.5462, 0.9781, 1.3339, 1.5787, 0.5878, 1.7603, 1.1669, 0.9328, 0.9622, 0.8346, 0.9682, 1.6689, 0.4628, 1.6744, 0.5734, 0.359, 2.6673, 2.6671, 2.667, 2.6664, 2.6655, 2.6654, 2.6653, 2.6653, 2.6651, 2.6651, 2.665, 2.6645, 2.6642, 2.664, 2.6638, 2.6637, 2.6637, 2.6637, 2.6633, 2.6631, 2.6629, 2.6628, 2.6627, 2.6625, 2.6625, 2.6624, 2.6624, 2.6621, 2.6617, 2.6613, 2.4609, 2.3895, 2.5056, 1.8485, 1.9935, 2.2878, 2.2993, 1.8361, 1.9351, 2.2941, 1.6637, 1.4892, 1.8576, 1.5618, 1.5051, 1.568, 1.9633, 1.0965, 0.794, 1.7569, 0.6692, 1.0475, 1.0726, 0.5817, 0.1491, 1.4431, 1.4176, 1.5073, 0.4887, 2.916, 2.9156, 2.9154, 2.9153, 2.9151, 2.9151, 2.9149, 2.9149, 2.9147, 2.9144, 2.9144, 2.9143, 2.9142, 2.9142, 2.914, 2.9139, 2.9133, 2.9132, 2.9132, 2.9131, 2.9131, 2.913, 2.9129, 2.9128, 2.9127, 2.9127, 2.9124, 2.9124, 2.9122, 2.9121, 2.6445, 2.6681, 2.2118, 2.4503, 2.18, 1.6339, 2.2638, 2.0151, 2.2351, 2.3121, 2.1185, 2.1781, 1.0329, 1.0705, 1.456, 1.7957, 3.0027, 3.0026, 3.0025, 3.0023, 3.0021, 3.0017, 3.0017, 3.0016, 3.0013, 3.0013, 3.0012, 3.0012, 3.0011, 3.001, 3.0009, 3.0009, 3.0006, 3.0006, 3.0005, 3.0003, 3.0002, 3.0, 2.9999, 2.9997, 2.9995, 2.9994, 2.9992, 2.9992, 2.9992, 2.9989, 2.8221, 2.736, 2.6005, 2.5124, 2.5568, 2.3934, 2.1125, 1.6767, 1.2782, 1.3326, 2.1359, 3.0324, 3.0322, 3.0321, 3.0317, 3.0317, 3.0316, 3.0316, 3.0315, 3.0314, 3.0312, 3.0311, 3.0311, 3.0309, 3.0304, 3.0304, 3.0301, 3.0298, 3.0297, 3.0291, 3.0279, 3.0275, 3.0271, 3.0268, 3.0264, 3.0261, 3.026, 3.0257, 3.0254, 3.0254, 3.0254, 2.711, 2.5764, 2.3942, 2.4505, 2.2231, 2.1703, 2.483, 2.3691, 2.1174, 1.3949, 2.2656, 2.1024, 1.3539, 1.2622, 1.3554, 1.3792, 3.0995, 3.0995, 3.0994, 3.0985, 3.0984, 3.0982, 3.0981, 3.0977, 3.0973, 3.0972, 3.097, 3.0966, 3.0966, 3.0964, 3.0963, 3.0962, 3.0961, 3.0955, 3.0952, 3.0951, 3.0949, 3.0948, 3.0948, 3.0946, 3.0946, 3.0944, 3.0941, 3.0938, 3.0938, 3.0933, 2.9014, 2.7909, 2.4995, 2.3406, 2.2266, 1.8365, 2.3374, 0.9365, 1.872, 1.3882, 1.0339, 1.4749, 0.9271, 0.8837, 0.6005, 3.1663, 3.166, 3.1658, 3.1655, 3.1651, 3.165, 3.1641, 3.164, 3.1632, 3.1631, 3.163, 3.1628, 3.1626, 3.1625, 3.1623, 3.1622, 3.1618, 3.1614, 3.1613, 3.161, 3.1609, 3.1602, 3.1599, 3.1597, 3.1596, 3.1595, 3.159, 3.1584, 3.1581, 3.1573, 2.7728, 2.7684, 2.6175, 1.9594, 2.3795, 2.6435, 1.9787, 1.4518, 2.6197, 2.3272, 1.9666, 2.5883, 2.8546, 0.2816, 1.1948, 0.7618, 3.2122, 3.2115, 3.2113, 3.211, 3.2108, 3.2108, 3.2105, 3.2104, 3.2102, 3.2093, 3.2091, 3.2088, 3.2085, 3.2084, 3.2083, 3.2082, 3.2079, 3.2079, 3.2076, 3.2074, 3.2073, 3.207, 3.2069, 3.2068, 3.2066, 3.2059, 3.2057, 3.2054, 3.2052, 3.2048, 2.8371, 3.0348, 2.9236, 2.6877, 2.6736, 2.5563, 2.0978, 2.9932, 2.7049, 2.5379, 0.7667, 1.9861, 1.4256, 1.5501, 0.7819, 2.6169, 2.489, 2.5346]}, \"token.table\": {\"Topic\": [1, 10, 1, 2, 6, 7, 6, 8, 12, 12, 10, 12, 11, 7, 11, 6, 1, 1, 12, 9, 8, 1, 1, 2, 3, 4, 6, 9, 8, 2, 2, 8, 1, 11, 8, 4, 3, 2, 3, 3, 1, 3, 3, 12, 1, 5, 7, 4, 6, 2, 5, 7, 10, 6, 9, 2, 3, 11, 3, 3, 4, 8, 12, 5, 4, 1, 12, 1, 3, 8, 10, 11, 10, 2, 5, 4, 6, 8, 7, 8, 11, 8, 11, 1, 5, 3, 6, 7, 10, 7, 8, 7, 8, 8, 7, 10, 10, 7, 1, 2, 1, 6, 9, 5, 8, 5, 1, 3, 7, 2, 3, 5, 6, 11, 12, 4, 11, 10, 3, 4, 1, 12, 6, 1, 2, 5, 1, 2, 3, 4, 5, 7, 5, 12, 11, 6, 1, 12, 6, 5, 1, 1, 2, 3, 4, 5, 6, 7, 11, 3, 3, 9, 9, 6, 3, 11, 3, 1, 4, 6, 6, 5, 5, 8, 5, 3, 1, 3, 5, 8, 12, 11, 10, 4, 1, 6, 2, 1, 5, 1, 12, 1, 2, 9, 2, 1, 12, 1, 1, 3, 6, 9, 5, 7, 3, 10, 11, 3, 7, 6, 1, 2, 2, 5, 1, 12, 8, 1, 2, 4, 6, 8, 4, 7, 7, 6, 4, 2, 3, 4, 6, 5, 11, 1, 2, 11, 12, 10, 6, 9, 7, 2, 6, 4, 1, 2, 2, 10, 11, 11, 7, 3, 11, 1, 11, 11, 3, 10, 1, 2, 6, 10, 11, 12, 6, 3, 4, 7, 11, 1, 2, 3, 5, 6, 12, 6, 1, 8, 8, 3, 2, 3, 8, 10, 3, 8, 10, 10, 8, 11, 9, 9, 6, 5, 8, 9, 12, 6, 11, 2, 10, 2, 6, 2, 3, 6, 2, 4, 6, 2, 4, 6, 2, 2, 5, 8, 5, 2, 5, 5, 2, 3, 5, 6, 10, 3, 11, 11, 5, 12, 6, 2, 5, 7, 2, 2, 5, 9, 4, 7, 2, 6, 1, 2, 6, 7, 3, 4, 7, 4, 3, 2, 5, 12, 4, 1, 2, 9, 1, 2, 5, 10, 1, 9, 1, 1, 9, 9, 4, 4, 5, 9, 10, 1, 1, 5, 9, 9, 9, 6, 12, 9, 9, 11, 12, 3, 1, 11, 1, 7, 7, 1, 2, 2, 2, 6, 10, 2, 3, 4, 5, 6, 9, 10, 9, 10, 7, 2, 5, 4, 1, 4, 8, 3, 6, 1, 2, 3, 4, 1, 9, 1, 3, 5, 1, 4, 11, 1, 1, 2, 2, 1, 4, 7, 6, 7, 2, 3, 5, 6, 1, 8, 10, 12, 3, 2, 12, 12, 9, 3, 4, 1, 2, 5, 12, 6, 4, 4, 1, 2, 3, 5, 8, 8, 1, 1, 2, 6, 9, 1, 2, 3, 5, 8, 9, 10, 1, 2, 8, 1, 2, 7, 11, 11, 12, 8, 2, 1, 12, 11, 4, 11, 4, 7, 8, 10, 1, 6, 8, 3, 9, 7, 8, 3, 2, 1, 5, 6, 9, 5, 1, 12, 10, 1, 2, 7, 10, 2, 9, 1, 9, 11, 12, 1, 2, 5, 11, 2, 4, 6, 6, 10, 10, 10, 1, 2, 10, 1, 11, 11, 6, 12, 6, 1, 3, 3, 1, 3, 8, 3, 11, 10, 12, 7, 1, 3, 5, 6, 1, 3, 8, 4, 4, 2, 3, 2, 7, 10, 1, 5, 8, 8, 1, 7, 5, 12, 1, 10, 6, 1, 9, 1, 7, 10, 10, 5, 1, 9, 10, 3, 1, 7, 9, 3, 1, 5, 1, 1, 6, 7, 4, 7, 12, 4, 7, 10, 11, 7, 7, 1, 2, 2, 4, 10, 4, 12, 11, 4, 11, 12, 1, 6, 5, 2, 5, 6, 3, 3, 3, 12, 1, 1, 4, 7, 12, 10, 12, 5, 1, 1, 3, 2, 12, 4, 8, 8, 2, 4, 7, 9, 11, 5, 10, 2, 6, 1, 2, 3, 4, 5, 8, 9, 11, 10, 11, 1, 7, 10, 12, 7, 12, 5, 6, 6, 3, 9, 7, 1, 12, 2, 1, 2, 10, 9, 9, 10, 8, 5, 1, 4, 7, 4, 12, 12, 2, 1, 4, 7, 2, 3, 9, 3, 12, 1, 8, 9, 8, 12, 11, 10, 9, 9, 3, 10, 1, 7, 1, 12, 1, 7, 4, 2, 8, 6, 1, 4, 9, 1, 2, 4, 2, 12, 2, 7, 7, 1, 6, 6, 11, 9, 11, 12, 1, 2, 5, 9, 2, 5, 9, 12, 5, 1, 2, 5, 11, 6, 9, 1, 3, 5, 6, 8, 9, 1, 6, 11, 8, 7, 9, 4, 1, 2, 7, 2, 9, 11, 4, 1, 2, 5, 6, 4, 3, 7, 5, 10, 2, 3, 8, 10, 8, 2, 6, 1, 2, 9, 1, 2, 3, 4, 5, 6, 7, 8, 10, 5, 1, 2, 5, 7, 1, 4, 5, 1, 7, 11, 12, 7, 1, 2, 6, 2, 2, 1, 2, 6, 9, 3, 7, 1, 2, 6, 2, 1, 2, 5, 7, 2], \"Freq\": [0.5327453493901727, 0.46627437001671995, 0.3203428126883767, 0.27774109148456844, 0.3131503143033182, 0.08796978794033143, 0.9965745073952933, 0.9987564525934891, 0.9963436780196578, 0.9979037329440634, 0.9976632897462925, 0.9971937174554633, 0.9973563936319612, 0.9959774565752092, 0.9916912649402517, 0.998230203452511, 0.9980598080893073, 0.9989335591970867, 0.9937380815070415, 0.9989958999972675, 0.9957997280752768, 0.997934421731282, 0.4579759263332851, 0.22483586954621385, 0.0805506162363167, 0.03363195832547243, 0.20282977335794178, 0.9998034060108912, 0.9977147369626649, 0.9980910215483261, 0.9982034489854996, 0.998412734820877, 0.5442618399763581, 0.45527606385855046, 0.9972060210425958, 0.996863233850444, 0.9965215661746943, 0.9988267578815268, 0.9993815658733182, 0.9976388013942391, 0.3677482037781224, 0.63150869750411, 0.9993380572609258, 0.9959423655317835, 0.40065768656442285, 0.46369823165323065, 0.13532703679064073, 0.7099280098899922, 0.2893811514073512, 0.2779824428543781, 0.10075429668793486, 0.494403436878557, 0.12675540551062772, 0.8131844761740701, 0.18654019589697787, 0.382203507354434, 0.5096046764725787, 0.10772531288368216, 0.9991137799019251, 0.9980127157647948, 0.9964663167742852, 0.9980385714394974, 0.9986366785973376, 0.9933741255638092, 0.996415845479151, 0.4156791249374548, 0.5836246505833258, 0.23905872489237892, 0.1956223252766549, 0.17818435462800658, 0.08211698905454395, 0.3048474323395522, 0.9929302141797391, 0.9988737092671033, 0.9934277036779889, 0.9998286483530081, 0.9984358836766463, 0.9981698565177506, 0.9966112901342309, 0.4203516699562302, 0.5790947477342627, 0.9987984350434324, 0.9946398611201572, 0.5821460938584408, 0.41769727880248164, 0.15590473365585375, 0.2866033127685455, 0.13956741126676728, 0.4177686725209255, 0.9987010591498793, 0.9980246656133287, 0.9972111246356551, 0.9989281833275774, 0.999732388483127, 0.9983464008146888, 0.9960050923473528, 0.995762893052807, 0.9973708912584625, 0.20225664012536904, 0.7973649163861396, 0.31541860700749397, 0.6841601303858824, 0.9969246562998443, 0.9951412250758569, 0.9974827968260485, 0.9971832271611057, 0.9993514550311129, 0.23791794207053707, 0.7619804360907741, 0.2202885353038112, 0.20395876989952572, 0.22845341800595395, 0.08056017599447507, 0.18000844730657367, 0.08665662174540831, 0.995576207362394, 0.9959766681737933, 0.9984260095186781, 0.8330879415612366, 0.1660139013980725, 0.5136837814744214, 0.48506630061233663, 0.9963033595063772, 0.31519700891166835, 0.17179527601282016, 0.5128045968462812, 0.294399297950035, 0.20856520184586913, 0.14059702619777398, 0.23924797828129493, 0.07457079842533867, 0.042722853264516955, 0.9954199378115988, 0.995885814282095, 0.9958294587577906, 0.9956569837345544, 0.4901999016960295, 0.5081141838178114, 0.9993905674139039, 0.9886794760084759, 0.998553151831081, 0.14162709246351146, 0.15099321280678976, 0.17455042457927766, 0.08968769783260445, 0.042857096116212884, 0.04257327428762869, 0.05704818754542245, 0.301134960127827, 0.9985326450854416, 0.9993184536024139, 0.9987496604163559, 0.9953141121885699, 0.9961944493339596, 0.8735388162099134, 0.12415212368668423, 0.9991529814282684, 0.2276047164971192, 0.7715262240315733, 0.9954677058373694, 0.9982047678284306, 0.9894581278235131, 0.9943823455363456, 0.996758298674896, 0.989087126391254, 0.9994896375370854, 0.4522638524314183, 0.08032673374723791, 0.08081356243661511, 0.0929842796710451, 0.2935576996944513, 0.9956168563622361, 0.9998376080219473, 0.9991183733208784, 0.998729106970665, 0.9964273247930797, 0.999507747525735, 0.8456698171481476, 0.15416863943433048, 0.9976883104759612, 0.989814926649621, 0.8045041041168627, 0.1952410992779305, 0.9947609698793517, 0.9970446653824532, 0.9974917387827653, 0.9960509755631091, 0.9994863389550119, 0.5910833008348491, 0.11433033265383548, 0.29373405622526905, 0.9969517276240769, 0.9999201596653016, 0.9982721230787168, 0.996402212379551, 0.9953221681424751, 0.9926345934193547, 0.9982417541802275, 0.9979159898523902, 0.995595910168206, 0.22624610426351716, 0.7733871304578395, 0.773505961302756, 0.22631778050824963, 0.4473971876340675, 0.551119026981758, 0.9988303076456122, 0.34524790443491576, 0.13986966384799152, 0.5134456014673107, 0.9975452089173773, 0.9959808361374817, 0.9993193689954999, 0.9993723853844945, 0.996704070306903, 0.9941339576292865, 0.9960494267252493, 0.3433684856644817, 0.1185419990813123, 0.38456954071542476, 0.15357475798259407, 0.9979170044277667, 0.9957701253089289, 0.2352492920926454, 0.5630330415446287, 0.1390318712563188, 0.06168963823955867, 0.9966106981708431, 0.9942892774315493, 0.9942846169005792, 0.9962596062659334, 0.8924142519931894, 0.1072326871553899, 0.9979107398582732, 0.24376935346171963, 0.7556849957313309, 0.5312706190028272, 0.46779264407353355, 0.99473819737866, 0.9955613454424619, 0.9986211931577567, 0.9990672657417514, 0.998694698861147, 0.9978288413235372, 0.9985174837523418, 0.9996069680608439, 0.8418439560487709, 0.157599492552032, 0.38310242942241507, 0.20103902588164219, 0.12205940857099705, 0.2928400096388206, 0.9957526740203636, 0.997833522209428, 0.9994035156893581, 0.4427673359993295, 0.15058824903506607, 0.4063041436229141, 0.9994459776272098, 0.056839166167839295, 0.45360279501261447, 0.1779883658150989, 0.1872764711213888, 0.12417792963844108, 0.9956802103554531, 0.996696914979946, 0.3591210763009641, 0.6398593787099583, 0.9958601655303316, 0.9995364753438057, 0.8940899556995754, 0.10545913600595096, 0.26551269002304106, 0.734267332225675, 0.1904247378093972, 0.6122887723409849, 0.19701636334895326, 0.999079777755272, 0.9952490527976441, 0.9949609476525842, 0.9995748299973056, 0.9923922387996222, 0.9983704185226309, 0.4572993218483192, 0.18809813904502054, 0.18695584265405887, 0.1675368040077106, 0.9947556372147318, 0.9942537006136797, 0.9970970256708965, 0.9968728342011559, 0.9068419561671547, 0.09293087613875121, 0.4847016452793157, 0.3353323668095746, 0.1796423393622721, 0.42205132354333225, 0.08302648987737683, 0.49438500790619844, 0.1827740224807838, 0.12819566854554976, 0.6879411123929502, 0.9987655416377611, 0.8563294920781647, 0.14315538621367496, 0.9997047996473676, 0.9998547571287615, 0.44121667493193667, 0.5585735398754698, 0.9920555333441404, 0.2793053171161912, 0.1057548655971261, 0.4169272323171781, 0.19791937180437041, 0.9975235998156586, 0.3251313973714041, 0.6746255016303113, 0.9999017390889838, 0.9904603588918309, 0.9999148041514935, 0.9967247605339873, 0.9985908977224235, 0.945192275298756, 0.05280403772618749, 0.9987731646637527, 0.9992571026124855, 0.9985830059744389, 0.9965715813054686, 0.7672024354660145, 0.23236301062444611, 0.9989249712766286, 0.9944250689443066, 0.11383587856823965, 0.29272083060404486, 0.43534531938934895, 0.15778795523551364, 0.9990839340530692, 0.7537537464300862, 0.24592812913185016, 0.998510488455496, 0.9973667789393736, 0.999436177851352, 0.993245767143298, 0.9931001875954161, 0.999315383563056, 0.4412240816848784, 0.15818805500920882, 0.40043568185066536, 0.14765228558622573, 0.5107316763720267, 0.34169804888397043, 0.9967424111089582, 0.2743663192641125, 0.7250467322192612, 0.9985193087988256, 0.5345205680254348, 0.46467262584879615, 0.9984321291992412, 0.9987365861579238, 0.9968464798771061, 0.1854978326343148, 0.633724113046414, 0.18068595630138834, 0.9982272300507287, 0.9988205408798014, 0.9941706555653028, 0.9920921522923104, 0.9985889331706072, 0.9989832850051096, 0.9973373986793422, 0.9939690691444711, 0.9953337709839296, 0.9911056456101915, 0.7307602541148144, 0.26443853553571106, 0.9989026239910743, 0.40629667683178716, 0.592884009398559, 0.45220720190849717, 0.5466485094323847, 0.9970162033692177, 0.8955035039781739, 0.10414030385929253, 0.9991331903162893, 0.519502535820875, 0.3664944441101362, 0.1138975445776946, 0.4545409458913851, 0.047428266070234565, 0.09124524284578123, 0.06091041277040277, 0.10376437906736598, 0.1913983326184593, 0.050798802745276615, 0.9989512597774782, 0.9970441773216105, 0.9977359678974929, 0.6264352692599942, 0.37334560366768504, 0.9967961363202182, 0.8337712826777192, 0.1136741898971356, 0.05202039198682476, 0.9976658991290617, 0.9969072342133135, 0.12397210101176141, 0.2644092466891474, 0.16755604277370878, 0.4435876739327088, 0.44081690322611966, 0.5587001428835754, 0.6397819090035637, 0.09264225492381352, 0.2673783892108083, 0.32722382757297286, 0.6725787907106752, 0.9899913910041233, 0.9988023332199459, 0.9986667214142322, 0.9978652807910098, 0.9973880628020517, 0.7783922197865408, 0.14063704840587743, 0.08047146620015447, 0.7573155301673635, 0.2420071666650528, 0.27873433480949367, 0.1536808185028833, 0.12677805258349428, 0.4407914723715274, 0.2829063603573121, 0.5437773006867933, 0.17344008021905563, 0.9962771485797391, 0.9984501777647026, 0.48073391384637804, 0.519081931644979, 0.9966348471711358, 0.9995306189905611, 0.7483723456611416, 0.25027133908733123, 0.12979330680752615, 0.5552401059042252, 0.1250476648767208, 0.18982567723221375, 0.9995502565471288, 0.997778535022512, 0.9962440656749926, 0.7558262581377984, 0.09042996410663698, 0.03953682151639012, 0.11398381522278428, 0.9975876981444435, 0.9972009447847259, 0.9974793968732988, 0.2599121752336855, 0.5166257958952153, 0.20778758220596366, 0.015518912924162622, 0.3155666596474624, 0.3445255433937882, 0.030662347496109705, 0.0841085226455787, 0.06132469499221941, 0.0547237729618069, 0.10902167998616784, 0.6697232274145563, 0.33021553787475166, 0.9973363506518248, 0.3943391112376608, 0.5072052659904944, 0.05158606459562025, 0.04673905181482371, 0.6715798978135332, 0.32815237359829896, 0.9976053175120796, 0.9991337892078905, 0.48937472514934593, 0.5092425024524176, 0.9959283340874802, 0.9980000527767926, 0.996326876216641, 0.15844303790335054, 0.450682418925086, 0.22182025306469075, 0.1681256679974442, 0.4740263765008884, 0.44488189765634917, 0.08057591209960853, 0.9962667905554895, 0.9919547547883911, 0.23305838582797606, 0.766021361171022, 0.9963536853825973, 0.9996355487502021, 0.2556728507953949, 0.22726475626257325, 0.1216724048858588, 0.39449731275767436, 0.9997638182545052, 0.9984775083011492, 0.993053124990701, 0.9968242103188906, 0.31323348203206913, 0.2944112901490367, 0.2774008600515368, 0.1149462199487863, 0.9299985129584655, 0.06894816561588624, 0.41844608472381245, 0.19444520665604667, 0.2991122836103301, 0.0880003449551937, 0.18351152615344182, 0.44159745735728634, 0.3736031468701545, 0.9982089847209535, 0.9985735315667258, 0.9978752105293979, 0.9955498114073642, 0.6917521492665579, 0.30733119261619735, 0.9986716844259715, 0.9932154620949925, 0.23455918088536154, 0.7652748232016318, 0.9955169617862154, 0.5672558344154034, 0.43213275302991605, 0.9980628525274421, 0.31270873212198, 0.6871848140439973, 0.9984434432281578, 0.5022214532679745, 0.49742315912847157, 0.9965574625030745, 0.45436942868448577, 0.12493300166774732, 0.42016158298974543, 0.9962154673340345, 0.9955272605671447, 0.9974477743512654, 0.9960706505038159, 0.996375271304962, 0.1400268301043959, 0.3001978708553891, 0.15771442969653013, 0.4023928907210535, 0.9990533064831584, 0.16449001237617336, 0.8341993484791649, 0.999752572677191, 0.9993514206790343, 0.910227819408755, 0.08965368623967844, 0.9989514198598963, 0.9961382439865236, 0.9969728093996697, 0.12506356729371196, 0.2060175776581064, 0.6683895214701286, 0.9989625223355535, 0.9986513973782281, 0.996804991009869, 0.9952101664361429, 0.9919828679558503, 0.17960367556890483, 0.8202109783239648, 0.9968071502284963, 0.42218635600163135, 0.5771377313426557, 0.4932337156410991, 0.5061006821360843, 0.9953023149179919, 0.9973268471522447, 0.9962064566082767, 0.9026208596523434, 0.09709902076034475, 0.9998208037492122, 0.997998848251067, 0.37197555705694446, 0.6275844291522245, 0.9979301421754146, 0.9983667412503545, 0.9994960870256981, 0.9962613411763284, 0.9980432581541613, 0.25770991942207283, 0.22081312479115933, 0.5205286257930414, 0.9981644032678274, 0.19428319259621046, 0.8033872558708163, 0.22926477557517497, 0.22120468580886024, 0.5489816696389932, 0.995744566540072, 0.9983564860062536, 0.9959556879926914, 0.2088290764808745, 0.790838424699, 0.9991958594321809, 0.7168487554559705, 0.2828916062783502, 0.9975040915012415, 0.9973516915926313, 0.9953790643491468, 0.7001121580166106, 0.16165191290790035, 0.13774564409757706, 0.9982500712138174, 0.9968452730208289, 0.994406002465816, 0.5651282230853387, 0.3306543497571429, 0.10405966800080997, 0.9956804518510043, 0.9964558688100874, 0.1609011832986246, 0.8362627289862725, 0.9985046397795071, 0.7821386899267383, 0.0771644327078471, 0.061731546166277684, 0.07778174816950988, 0.9939966599695345, 0.997313149059554, 0.9998303415099559, 0.9987915156925867, 0.9804073331370854, 0.01893968711742097, 0.2491126327333918, 0.7486629653955658, 0.9960349818933247, 0.9992612512913577, 0.9957639885189042, 0.9987610660658556, 0.9965941459855656, 0.9995169197435667, 0.9952538430714699, 0.994299941698029, 0.994536580841709, 0.9988289017356462, 0.49019768175586725, 0.5096662351700844, 0.28079192174510775, 0.27139383146811985, 0.13406663476764366, 0.050634608839281725, 0.16226090559860734, 0.030687641720776804, 0.03471539469662876, 0.035290787978893325, 0.9955245696789744, 0.9961851462042329, 0.9996286694371761, 0.9988618352170616, 0.9996152767632992, 0.9953911456357487, 0.9960150662447175, 0.9985024790815336, 0.9932348483644399, 0.9934309661698926, 0.9975498429419829, 0.9989171578362759, 0.9980943785554666, 0.9967692668442858, 0.9979832386818879, 0.9981702208062084, 0.9982321279729923, 0.1627096840525863, 0.8370650542861567, 0.9934967983490793, 0.9943923376036858, 0.9971418486241358, 0.9968497900548428, 0.9969365159580146, 0.9967487399201234, 0.2993370935642995, 0.5484615529102352, 0.15199500087720907, 0.9983036722225266, 0.9949354017785347, 0.9911295690678802, 0.9985743966225924, 0.4008325771542996, 0.12073270396213842, 0.47810150769006815, 0.3156910650410189, 0.1686940227281046, 0.5153032848607696, 0.999163754924437, 0.9936884115303167, 0.9988857508374871, 0.9963087261655333, 0.9987603632889452, 0.9983373520932186, 0.9993504882292239, 0.9938699284094323, 0.9928153697341152, 0.9928345113893379, 0.9978136350327831, 0.8812263445568295, 0.11862662330572704, 0.9988559906904152, 0.9997087761855465, 0.4078355583048397, 0.5914498356368887, 0.5209460494358347, 0.4790224695302217, 0.9956534769793419, 0.5892668159696148, 0.41025469990611824, 0.9953276313039959, 0.7963236646906132, 0.16326301075246882, 0.03998277814346175, 0.3735353328901426, 0.46736314630232584, 0.15864892110072618, 0.39717177563657946, 0.6015793995798354, 0.9969311642927056, 0.9983604090083599, 0.9960803971084623, 0.6689781491963787, 0.3309195113413348, 0.43786008402627197, 0.5615304894382724, 0.4221214590914488, 0.5775293594534748, 0.9992677049341987, 0.996842346475688, 0.6506237616136665, 0.17905754777316596, 0.17025668528208096, 0.4253842680143504, 0.5745482113385065, 0.9987035880549509, 0.9957759094798965, 0.9931772143523621, 0.32016086821747697, 0.5650791003079487, 0.05881351007358567, 0.055914252534746946, 0.8503889139435165, 0.1471205155301521, 0.018682478568887294, 0.1166044352058138, 0.40972608171766617, 0.14688293495538976, 0.17973832830067432, 0.12820045638650246, 0.8137681237036886, 0.1856571199068117, 0.9917899453407151, 0.9951785449525946, 0.9966748313160512, 0.998659467065684, 0.9963901352092729, 0.2900567800351458, 0.3830570480733203, 0.32582611389598215, 0.3813590729553434, 0.5280356394766293, 0.0901449731745403, 0.9985128209601543, 0.20423378044283783, 0.4141750003693501, 0.07373394792422695, 0.30773896675488027, 0.9985828744456859, 0.9967527406028328, 0.9984662764698143, 0.9878293997186436, 0.9952659877649283, 0.9991217352903041, 0.7412764831764697, 0.16399557548873536, 0.09477131246836466, 0.9992752672555733, 0.8971277087081865, 0.10253661085657499, 0.163416939618922, 0.3913835703873182, 0.44514774352194353, 0.24666255972896786, 0.18106917203034104, 0.07501998233795042, 0.039670252440486865, 0.18440775763176817, 0.11311913567188335, 0.04300883804191398, 0.05636318044762243, 0.060880090378964996, 0.9977360269721623, 0.19074288296046002, 0.25514957071334265, 0.37570567855848186, 0.17753125470345846, 0.9988009830382102, 0.9979925023997727, 0.9977332222728527, 0.8139325310376813, 0.05731919232659727, 0.09796371052182079, 0.030222846863114924, 0.9982485923444123, 0.21628427959510693, 0.6481598667253864, 0.13551453616496553, 0.9989494079541179, 0.9982127728325866, 0.20338975667166775, 0.38719025021562437, 0.33301747317108976, 0.07618046771887674, 0.21940104169242924, 0.7800925926841928, 0.1154559062181348, 0.40374791300980273, 0.48060259757066953, 0.9987385257610827, 0.1568912494488554, 0.7310464601978581, 0.11190622047821094, 0.998464975446028, 0.9976556039126828], \"Term\": [\"ability\", \"ability\", \"able\", \"able\", \"able\", \"able\", \"access\", \"achieve\", \"acquiring\", \"acquisition\", \"adapt\", \"adapting\", \"adding\", \"administration\", \"advanced\", \"advancement\", \"agency\", \"agent\", \"aggressive\", \"ahead\", \"allowing\", \"allows\", \"also\", \"also\", \"also\", \"also\", \"also\", \"always\", \"amazing\", \"answer\", \"anything\", \"appears\", \"area\", \"area\", \"asset\", \"atmosphere\", \"awesome\", \"bad\", \"bank\", \"banking\", \"become\", \"become\", \"becoming\", \"beginning\", \"believe\", \"believe\", \"believe\", \"benefit\", \"benefit\", \"best\", \"best\", \"best\", \"best\", \"better\", \"better\", \"big\", \"big\", \"big\", \"bigger\", \"bit\", \"bonus\", \"bottom\", \"brand\", \"bright\", \"budget\", \"building\", \"building\", \"business\", \"business\", \"business\", \"business\", \"business\", \"buying\", \"cant\", \"capital\", \"care\", \"career\", \"center\", \"centered\", \"ceo\", \"ceo\", \"challenge\", \"challenging\", \"change\", \"change\", \"changing\", \"changing\", \"changing\", \"changing\", \"child\", \"city\", \"class\", \"clear\", \"client\", \"clinic\", \"cloud\", \"collaboration\", \"college\", \"come\", \"come\", \"coming\", \"coming\", \"comment\", \"commercial\", \"commitment\", \"committed\", \"communication\", \"community\", \"community\", \"company\", \"company\", \"company\", \"company\", \"company\", \"company\", \"compensation\", \"compete\", \"competition\", \"competitive\", \"competitive\", \"competitor\", \"competitor\", \"concept\", \"concern\", \"concern\", \"concern\", \"concerned\", \"concerned\", \"concerned\", \"concerned\", \"concerned\", \"concerned\", \"concerning\", \"confidence\", \"conservative\", \"considering\", \"constant\", \"constant\", \"constantly\", \"content\", \"continually\", \"continue\", \"continue\", \"continue\", \"continue\", \"continue\", \"continue\", \"continue\", \"continue\", \"continued\", \"continues\", \"continuing\", \"continuous\", \"contract\", \"core\", \"core\", \"corporate\", \"cost\", \"cost\", \"country\", \"county\", \"couple\", \"creative\", \"credit\", \"cultural\", \"culture\", \"current\", \"current\", \"current\", \"current\", \"current\", \"curve\", \"customer\", \"cutting\", \"daily\", \"date\", \"day\", \"decision\", \"decision\", \"definitely\", \"delivering\", \"department\", \"department\", \"design\", \"desire\", \"develop\", \"developing\", \"development\", \"different\", \"different\", \"different\", \"digital\", \"direction\", \"district\", \"diverse\", \"diversification\", \"diversifying\", \"diversity\", \"doctor\", \"dollar\", \"done\", \"done\", \"dont\", \"dont\", \"drive\", \"drive\", \"driven\", \"due\", \"due\", \"due\", \"easier\", \"economy\", \"edge\", \"education\", \"effect\", \"embracing\", \"emory\", \"employee\", \"employee\", \"employee\", \"employee\", \"encouraging\", \"energy\", \"enough\", \"enough\", \"enough\", \"enough\", \"enterprise\", \"equipment\", \"estate\", \"ethic\", \"every\", \"every\", \"everyday\", \"everyone\", \"everyone\", \"everything\", \"everything\", \"evolve\", \"evolving\", \"excellent\", \"excited\", \"exciting\", \"executive\", \"expand\", \"expanding\", \"expansion\", \"expansion\", \"experience\", \"experience\", \"experience\", \"experience\", \"expertise\", \"facility\", \"fact\", \"family\", \"family\", \"family\", \"fast\", \"feel\", \"feel\", \"feel\", \"feel\", \"feel\", \"fifth\", \"finally\", \"financial\", \"financial\", \"finding\", \"firm\", \"first\", \"first\", \"focus\", \"focus\", \"focused\", \"focused\", \"focused\", \"focusing\", \"following\", \"forefront\", \"forward\", \"friendly\", \"fun\", \"future\", \"future\", \"future\", \"future\", \"gain\", \"gas\", \"generation\", \"genuinely\", \"get\", \"get\", \"getting\", \"getting\", \"getting\", \"give\", \"give\", \"give\", \"giving\", \"giving\", \"giving\", \"global\", \"go\", \"go\", \"goal\", \"going\", \"good\", \"good\", \"graybar\", \"great\", \"great\", \"great\", \"great\", \"greater\", \"grow\", \"grow\", \"growing\", \"grows\", \"growth\", \"guest\", \"happen\", \"happening\", \"happening\", \"happy\", \"hard\", \"headed\", \"heading\", \"health\", \"health\", \"healthcare\", \"heart\", \"help\", \"help\", \"help\", \"help\", \"helping\", \"high\", \"high\", \"higher\", \"highly\", \"hiring\", \"honestly\", \"horizon\", \"hospital\", \"idea\", \"idea\", \"idea\", \"im\", \"im\", \"im\", \"importance\", \"improve\", \"improve\", \"improved\", \"improvement\", \"improvement\", \"improving\", \"increase\", \"increased\", \"industry\", \"industry\", \"industry\", \"information\", \"initiative\", \"innovate\", \"innovating\", \"innovation\", \"innovative\", \"insurance\", \"interested\", \"interesting\", \"internally\", \"invest\", \"invest\", \"investing\", \"investment\", \"investment\", \"involved\", \"involved\", \"involvement\", \"issue\", \"issue\", \"ive\", \"job\", \"job\", \"job\", \"keep\", \"keep\", \"keep\", \"keep\", \"keep\", \"keep\", \"keep\", \"keeping\", \"key\", \"kid\", \"know\", \"know\", \"kwik\", \"lack\", \"lack\", \"lack\", \"larger\", \"latest\", \"le\", \"le\", \"le\", \"le\", \"leader\", \"leader\", \"leadership\", \"leadership\", \"leadership\", \"leading\", \"leading\", \"lean\", \"learn\", \"learning\", \"leaving\", \"let\", \"level\", \"level\", \"level\", \"life\", \"life\", \"like\", \"like\", \"like\", \"like\", \"line\", \"line\", \"line\", \"living\", \"location\", \"long\", \"long\", \"longterm\", \"looking\", \"losing\", \"losing\", \"lot\", \"lot\", \"lot\", \"lot\", \"love\", \"low\", \"lower\", \"made\", \"made\", \"made\", \"made\", \"main\", \"maintaining\", \"major\", \"make\", \"make\", \"make\", \"make\", \"making\", \"making\", \"making\", \"making\", \"making\", \"making\", \"making\", \"management\", \"management\", \"managing\", \"many\", \"many\", \"many\", \"many\", \"market\", \"market\", \"marketplace\", \"matter\", \"mean\", \"mean\", \"meaningful\", \"medical\", \"medium\", \"meet\", \"meet\", \"meet\", \"meet\", \"member\", \"member\", \"member\", \"merger\", \"mindset\", \"mission\", \"mission\", \"modern\", \"money\", \"move\", \"move\", \"move\", \"move\", \"moving\", \"multiple\", \"na\", \"national\", \"need\", \"need\", \"need\", \"need\", \"never\", \"never\", \"new\", \"new\", \"new\", \"new\", \"next\", \"next\", \"next\", \"none\", \"nothing\", \"nurse\", \"objective\", \"offer\", \"offer\", \"offering\", \"oil\", \"one\", \"one\", \"online\", \"open\", \"open\", \"opening\", \"opportunity\", \"opportunity\", \"option\", \"organization\", \"organization\", \"oriented\", \"overall\", \"overall\", \"overall\", \"owner\", \"ownership\", \"pace\", \"pain\", \"parent\", \"part\", \"part\", \"part\", \"part\", \"past\", \"path\", \"path\", \"patient\", \"pay\", \"people\", \"people\", \"person\", \"physician\", \"pipeline\", \"plan\", \"plan\", \"plan\", \"planning\", \"policy\", \"population\", \"positioned\", \"positioning\", \"positive\", \"positive\", \"possibility\", \"potential\", \"potential\", \"practice\", \"practice\", \"presence\", \"price\", \"proactive\", \"process\", \"process\", \"product\", \"profitable\", \"program\", \"program\", \"progress\", \"progressive\", \"project\", \"property\", \"proud\", \"provide\", \"provide\", \"provide\", \"provider\", \"provides\", \"provides\", \"providing\", \"providing\", \"providing\", \"pt\", \"public\", \"purpose\", \"put\", \"put\", \"putting\", \"quality\", \"quality\", \"raise\", \"rapid\", \"rapidly\", \"rate\", \"rate\", \"rate\", \"reach\", \"reaching\", \"reactive\", \"really\", \"really\", \"really\", \"relevant\", \"remain\", \"reputation\", \"reputation\", \"research\", \"resource\", \"resource\", \"resource\", \"resource\", \"retail\", \"revenue\", \"right\", \"risk\", \"role\", \"role\", \"room\", \"room\", \"salary\", \"sale\", \"satisfaction\", \"say\", \"scale\", \"school\", \"schwab\", \"sector\", \"secure\", \"security\", \"see\", \"see\", \"seems\", \"seems\", \"seems\", \"seems\", \"seems\", \"seems\", \"seems\", \"seems\", \"sell\", \"selling\", \"senior\", \"serve\", \"service\", \"serving\", \"setting\", \"share\", \"ship\", \"sign\", \"site\", \"small\", \"smart\", \"social\", \"solid\", \"solution\", \"someone\", \"something\", \"something\", \"soon\", \"sound\", \"space\", \"specific\", \"stability\", \"stable\", \"staff\", \"staff\", \"staff\", \"staffing\", \"stand\", \"standing\", \"start\", \"state\", \"state\", \"state\", \"stay\", \"stay\", \"stay\", \"staying\", \"steady\", \"step\", \"stock\", \"store\", \"strategic\", \"strategy\", \"strength\", \"stride\", \"strives\", \"striving\", \"strong\", \"strong\", \"stronger\", \"student\", \"success\", \"success\", \"support\", \"support\", \"supporting\", \"sure\", \"sure\", \"sustainable\", \"system\", \"system\", \"system\", \"take\", \"take\", \"take\", \"talent\", \"talent\", \"talk\", \"teacher\", \"teaching\", \"team\", \"team\", \"tech\", \"tech\", \"technology\", \"technology\", \"term\", \"there\", \"thing\", \"thing\", \"thing\", \"think\", \"think\", \"thinking\", \"third\", \"thoughtful\", \"time\", \"time\", \"time\", \"time\", \"tool\", \"tool\", \"towards\", \"towards\", \"towards\", \"towards\", \"towards\", \"towards\", \"training\", \"training\", \"transition\", \"transparent\", \"treatment\", \"trend\", \"trip\", \"truly\", \"truly\", \"truly\", \"trying\", \"trying\", \"trying\", \"turnover\", \"u\", \"u\", \"u\", \"u\", \"uchealth\", \"unique\", \"unit\", \"updated\", \"updating\", \"upper\", \"value\", \"value\", \"value\", \"vision\", \"want\", \"want\", \"way\", \"way\", \"way\", \"well\", \"well\", \"well\", \"well\", \"well\", \"well\", \"well\", \"well\", \"well\", \"whats\", \"whole\", \"whole\", \"whole\", \"whole\", \"willing\", \"willingness\", \"wish\", \"without\", \"without\", \"without\", \"without\", \"wonderful\", \"work\", \"work\", \"work\", \"worked\", \"worker\", \"working\", \"working\", \"working\", \"working\", \"world\", \"world\", \"would\", \"would\", \"would\", \"wrong\", \"year\", \"year\", \"year\", \"yes\", \"younger\"]}, \"R\": 30, \"lambda.step\": 0.01, \"plot.opts\": {\"xlab\": \"PC1\", \"ylab\": \"PC2\"}, \"topic.order\": [5, 10, 9, 3, 12, 1, 2, 8, 11, 4, 6, 7]};\n",
       "\n",
       "function LDAvis_load_lib(url, callback){\n",
       "  var s = document.createElement('script');\n",
       "  s.src = url;\n",
       "  s.async = true;\n",
       "  s.onreadystatechange = s.onload = callback;\n",
       "  s.onerror = function(){console.warn(\"failed to load library \" + url);};\n",
       "  document.getElementsByTagName(\"head\")[0].appendChild(s);\n",
       "}\n",
       "\n",
       "if(typeof(LDAvis) !== \"undefined\"){\n",
       "   // already loaded: just create the visualization\n",
       "   !function(LDAvis){\n",
       "       new LDAvis(\"#\" + \"ldavis_el42001397911223737607960944738\", ldavis_el42001397911223737607960944738_data);\n",
       "   }(LDAvis);\n",
       "}else if(typeof define === \"function\" && define.amd){\n",
       "   // require.js is available: use it to load d3/LDAvis\n",
       "   require.config({paths: {d3: \"https://d3js.org/d3.v5\"}});\n",
       "   require([\"d3\"], function(d3){\n",
       "      window.d3 = d3;\n",
       "      LDAvis_load_lib(\"https://cdn.jsdelivr.net/gh/bmabey/pyLDAvis@3.3.1/pyLDAvis/js/ldavis.v3.0.0.js\", function(){\n",
       "        new LDAvis(\"#\" + \"ldavis_el42001397911223737607960944738\", ldavis_el42001397911223737607960944738_data);\n",
       "      });\n",
       "    });\n",
       "}else{\n",
       "    // require.js not available: dynamically load d3 & LDAvis\n",
       "    LDAvis_load_lib(\"https://d3js.org/d3.v5.js\", function(){\n",
       "         LDAvis_load_lib(\"https://cdn.jsdelivr.net/gh/bmabey/pyLDAvis@3.3.1/pyLDAvis/js/ldavis.v3.0.0.js\", function(){\n",
       "                 new LDAvis(\"#\" + \"ldavis_el42001397911223737607960944738\", ldavis_el42001397911223737607960944738_data);\n",
       "            })\n",
       "         });\n",
       "}\n",
       "</script>"
      ],
      "text/plain": [
       "PreparedData(topic_coordinates=              x         y  topics  cluster       Freq\n",
       "topic                                                \n",
       "4     -0.087457  0.050537       1        1  22.248545\n",
       "9     -0.270110  0.027956       2        1  21.532925\n",
       "8     -0.107828  0.041921       3        1   7.224877\n",
       "2      0.068801  0.190586       4        1   7.066050\n",
       "11    -0.188035 -0.066536       5        1   7.042837\n",
       "0     -0.220243  0.023799       6        1   6.940989\n",
       "1      0.122899  0.194605       7        1   5.413196\n",
       "7      0.212101  0.049416       8        1   4.963816\n",
       "10     0.068687 -0.206924       9        1   4.819077\n",
       "3      0.175584  0.163173      10        1   4.506260\n",
       "5      0.103433 -0.240907      11        1   4.215246\n",
       "6      0.122168 -0.227626      12        1   4.026183, topic_info=            Term          Freq         Total Category  logprob  loglift\n",
       "64        growth  10497.000000  10497.000000  Default  30.0000  30.0000\n",
       "192         like  20295.000000  20295.000000  Default  29.0000  29.0000\n",
       "137      growing   8621.000000   8621.000000  Default  28.0000  28.0000\n",
       "239    direction   9912.000000   9912.000000  Default  27.0000  27.0000\n",
       "285          new  13499.000000  13499.000000  Default  26.0000  26.0000\n",
       "...          ...           ...           ...      ...      ...      ...\n",
       "370          lot    799.545065   4214.392972  Topic12  -4.2036   1.5501\n",
       "285          new   1187.921743  13499.947081  Topic12  -3.8076   0.7819\n",
       "1522       drive    356.129537    645.958464  Topic12  -5.0123   2.6169\n",
       "357   competitor    339.043256    698.873535  Topic12  -5.0615   2.4890\n",
       "2088    constant    311.777036    614.035211  Topic12  -5.1453   2.5346\n",
       "\n",
       "[632 rows x 6 columns], token_table=      Topic      Freq     Term\n",
       "term                          \n",
       "1457      1  0.532745  ability\n",
       "1457     10  0.466274  ability\n",
       "1013      1  0.320343     able\n",
       "1013      2  0.277741     able\n",
       "1013      6  0.313150     able\n",
       "...     ...       ...      ...\n",
       "151       1  0.156891     year\n",
       "151       2  0.731046     year\n",
       "151       5  0.111906     year\n",
       "1404      7  0.998465      yes\n",
       "658       2  0.997656  younger\n",
       "\n",
       "[828 rows x 3 columns], R=30, lambda_step=0.01, plot_opts={'xlab': 'PC1', 'ylab': 'PC2'}, topic_order=[5, 10, 9, 3, 12, 1, 2, 8, 11, 4, 6, 7])"
      ]
     },
     "execution_count": 43,
     "metadata": {},
     "output_type": "execute_result"
    },
    {
     "name": "stderr",
     "output_type": "stream",
     "text": [
      "/usr/lib/python3/dist-packages/past/builtins/misc.py:45: DeprecationWarning: the imp module is deprecated in favour of importlib; see the module's documentation for alternative uses\n",
      "  from imp import reload\n",
      "/usr/lib/python3/dist-packages/past/builtins/misc.py:45: DeprecationWarning: the imp module is deprecated in favour of importlib; see the module's documentation for alternative uses\n",
      "  from imp import reload\n",
      "/usr/lib/python3/dist-packages/past/builtins/misc.py:45: DeprecationWarning: the imp module is deprecated in favour of importlib; see the module's documentation for alternative uses\n",
      "  from imp import reload\n",
      "/usr/lib/python3/dist-packages/past/builtins/misc.py:45: DeprecationWarning: the imp module is deprecated in favour of importlib; see the module's documentation for alternative uses\n",
      "  from imp import reload\n"
     ]
    }
   ],
   "source": [
    "# Visualizing the topics\n",
    "import pyLDAvis.gensim_models as gensimvis\n",
    "pyLDAvis.enable_notebook()\n",
    "vis = gensimvis.prepare(lda_model, corpus, id2word)\n",
    "vis"
   ]
  },
  {
   "cell_type": "code",
   "execution_count": 41,
   "id": "4d17643f",
   "metadata": {},
   "outputs": [
    {
     "name": "stdout",
     "output_type": "stream",
     "text": [
      "\n",
      "Coherence Score:  0.5583517121538061\n"
     ]
    }
   ],
   "source": [
    "# Compute Coherence Score\n",
    "from gensim.models.coherencemodel import CoherenceModel\n",
    "coherence_model_lda = CoherenceModel(model=lda_model, texts=data['COMMENT_tokenized'], dictionary=id2word , coherence='c_v')\n",
    "coherence_lda = coherence_model_lda.get_coherence()\n",
    "print('\\nCoherence Score: ', coherence_lda)"
   ]
  },
  {
   "cell_type": "code",
   "execution_count": 21,
   "id": "d198c93c",
   "metadata": {},
   "outputs": [],
   "source": [
    "#Defining the compute_coherence_values function\n",
    "def compute_coherence_values(dictionary, corpus, texts, limit, start=2, step=3):\n",
    "    \"\"\"\n",
    "\n",
    "    Parameters:\n",
    "    \n",
    "    dictionary : Gensim dictionary\n",
    "    corpus : Gensim corpus\n",
    "    texts : List of input texts\n",
    "    limit : Max num of topics\n",
    "\n",
    "    Returns:\n",
    "    \n",
    "    model_list : List of LDA topic models\n",
    "    coherence_values : Coherence values corresponding to the LDA model with respective number of topics\n",
    "    \"\"\"\n",
    "    coherence_values = []\n",
    "    model_list = []\n",
    "    for num_topics in range(start, limit, step):\n",
    "        model = gensim.models.ldamodel.LdaModel(corpus=corpus, num_topics=num_topics, id2word=id2word)\n",
    "        model_list.append(model)\n",
    "        coherencemodel = CoherenceModel(model=model, texts=data['COMMENT_tokenized'], dictionary=id2word, coherence='c_v')\n",
    "        coherence_values.append(coherencemodel.get_coherence())\n",
    "\n",
    "    return model_list, coherence_values"
   ]
  },
  {
   "cell_type": "code",
   "execution_count": 22,
   "id": "5371b2a3",
   "metadata": {},
   "outputs": [
    {
     "name": "stderr",
     "output_type": "stream",
     "text": [
      "/usr/lib/python3/dist-packages/past/builtins/misc.py:45: DeprecationWarning: the imp module is deprecated in favour of importlib; see the module's documentation for alternative uses\n",
      "  from imp import reload\n",
      "/usr/lib/python3/dist-packages/past/builtins/misc.py:45: DeprecationWarning: the imp module is deprecated in favour of importlib; see the module's documentation for alternative uses\n",
      "  from imp import reload\n",
      "/usr/lib/python3/dist-packages/past/builtins/misc.py:45: DeprecationWarning: the imp module is deprecated in favour of importlib; see the module's documentation for alternative uses\n",
      "  from imp import reload\n",
      "/usr/lib/python3/dist-packages/past/builtins/misc.py:45: DeprecationWarning: the imp module is deprecated in favour of importlib; see the module's documentation for alternative uses\n",
      "  from imp import reload\n"
     ]
    }
   ],
   "source": [
    "#List of LDA topic models and Coherence values corresponding to the LDA model with respective number of topics\n",
    "model_list, coherence_values = compute_coherence_values(dictionary=id2word, corpus=corpus, texts=data['COMMENT_tokenized'], start=2, limit=50, step=1)"
   ]
  },
  {
   "cell_type": "code",
   "execution_count": 30,
   "id": "40adcc58",
   "metadata": {
    "scrolled": false
   },
   "outputs": [
    {
     "data": {
      "application/vnd.plotly.v1+json": {
       "config": {
        "plotlyServerURL": "https://plot.ly"
       },
       "data": [
        {
         "hovertemplate": "x=%{x}<br>y=%{y}<extra></extra>",
         "legendgroup": "",
         "line": {
          "color": "#636efa",
          "dash": "solid"
         },
         "marker": {
          "symbol": "circle"
         },
         "mode": "lines",
         "name": "",
         "orientation": "v",
         "showlegend": false,
         "type": "scatter",
         "x": [
          2,
          3,
          4,
          5,
          6,
          7,
          8,
          9,
          10,
          11,
          12,
          13,
          14,
          15,
          16,
          17,
          18,
          19,
          20,
          21,
          22,
          23,
          24,
          25,
          26,
          27,
          28,
          29,
          30,
          31,
          32,
          33,
          34,
          35,
          36,
          37,
          38,
          39,
          40,
          41,
          42,
          43,
          44,
          45,
          46,
          47,
          48,
          49
         ],
         "xaxis": "x",
         "y": [
          0.4502969536676088,
          0.484506224236374,
          0.5248027159722912,
          0.5002931669615458,
          0.5402359523708755,
          0.5757724165535526,
          0.5403443360544181,
          0.5553702110716232,
          0.5355297165398086,
          0.5498408486694675,
          0.5378183868845572,
          0.5555729375862222,
          0.5142657115491229,
          0.5135833372745728,
          0.5598618066070187,
          0.524297022344831,
          0.5426506996857653,
          0.4949353196514904,
          0.5436060321151365,
          0.512711798997198,
          0.5248139883932237,
          0.4906223831376551,
          0.49957999338307896,
          0.47542732867236764,
          0.4937828799092928,
          0.5076346820817422,
          0.479108517086536,
          0.46530331384959234,
          0.47323612103169965,
          0.46718839342628005,
          0.4732481265390014,
          0.4607637818966242,
          0.45971916009412894,
          0.4614499731808932,
          0.46827541345997975,
          0.457567174819061,
          0.4600728466353877,
          0.4432932444537484,
          0.4532536847989078,
          0.4597723422985182,
          0.4496260228423575,
          0.4443673438738776,
          0.43368584492158924,
          0.4430006518012221,
          0.4420800231202371,
          0.44103460159627794,
          0.422797179467838,
          0.4403022149686831
         ],
         "yaxis": "y"
        }
       ],
       "layout": {
        "legend": {
         "tracegroupgap": 0
        },
        "margin": {
         "t": 60
        },
        "template": {
         "data": {
          "bar": [
           {
            "error_x": {
             "color": "#2a3f5f"
            },
            "error_y": {
             "color": "#2a3f5f"
            },
            "marker": {
             "line": {
              "color": "#E5ECF6",
              "width": 0.5
             },
             "pattern": {
              "fillmode": "overlay",
              "size": 10,
              "solidity": 0.2
             }
            },
            "type": "bar"
           }
          ],
          "barpolar": [
           {
            "marker": {
             "line": {
              "color": "#E5ECF6",
              "width": 0.5
             },
             "pattern": {
              "fillmode": "overlay",
              "size": 10,
              "solidity": 0.2
             }
            },
            "type": "barpolar"
           }
          ],
          "carpet": [
           {
            "aaxis": {
             "endlinecolor": "#2a3f5f",
             "gridcolor": "white",
             "linecolor": "white",
             "minorgridcolor": "white",
             "startlinecolor": "#2a3f5f"
            },
            "baxis": {
             "endlinecolor": "#2a3f5f",
             "gridcolor": "white",
             "linecolor": "white",
             "minorgridcolor": "white",
             "startlinecolor": "#2a3f5f"
            },
            "type": "carpet"
           }
          ],
          "choropleth": [
           {
            "colorbar": {
             "outlinewidth": 0,
             "ticks": ""
            },
            "type": "choropleth"
           }
          ],
          "contour": [
           {
            "colorbar": {
             "outlinewidth": 0,
             "ticks": ""
            },
            "colorscale": [
             [
              0,
              "#0d0887"
             ],
             [
              0.1111111111111111,
              "#46039f"
             ],
             [
              0.2222222222222222,
              "#7201a8"
             ],
             [
              0.3333333333333333,
              "#9c179e"
             ],
             [
              0.4444444444444444,
              "#bd3786"
             ],
             [
              0.5555555555555556,
              "#d8576b"
             ],
             [
              0.6666666666666666,
              "#ed7953"
             ],
             [
              0.7777777777777778,
              "#fb9f3a"
             ],
             [
              0.8888888888888888,
              "#fdca26"
             ],
             [
              1,
              "#f0f921"
             ]
            ],
            "type": "contour"
           }
          ],
          "contourcarpet": [
           {
            "colorbar": {
             "outlinewidth": 0,
             "ticks": ""
            },
            "type": "contourcarpet"
           }
          ],
          "heatmap": [
           {
            "colorbar": {
             "outlinewidth": 0,
             "ticks": ""
            },
            "colorscale": [
             [
              0,
              "#0d0887"
             ],
             [
              0.1111111111111111,
              "#46039f"
             ],
             [
              0.2222222222222222,
              "#7201a8"
             ],
             [
              0.3333333333333333,
              "#9c179e"
             ],
             [
              0.4444444444444444,
              "#bd3786"
             ],
             [
              0.5555555555555556,
              "#d8576b"
             ],
             [
              0.6666666666666666,
              "#ed7953"
             ],
             [
              0.7777777777777778,
              "#fb9f3a"
             ],
             [
              0.8888888888888888,
              "#fdca26"
             ],
             [
              1,
              "#f0f921"
             ]
            ],
            "type": "heatmap"
           }
          ],
          "heatmapgl": [
           {
            "colorbar": {
             "outlinewidth": 0,
             "ticks": ""
            },
            "colorscale": [
             [
              0,
              "#0d0887"
             ],
             [
              0.1111111111111111,
              "#46039f"
             ],
             [
              0.2222222222222222,
              "#7201a8"
             ],
             [
              0.3333333333333333,
              "#9c179e"
             ],
             [
              0.4444444444444444,
              "#bd3786"
             ],
             [
              0.5555555555555556,
              "#d8576b"
             ],
             [
              0.6666666666666666,
              "#ed7953"
             ],
             [
              0.7777777777777778,
              "#fb9f3a"
             ],
             [
              0.8888888888888888,
              "#fdca26"
             ],
             [
              1,
              "#f0f921"
             ]
            ],
            "type": "heatmapgl"
           }
          ],
          "histogram": [
           {
            "marker": {
             "pattern": {
              "fillmode": "overlay",
              "size": 10,
              "solidity": 0.2
             }
            },
            "type": "histogram"
           }
          ],
          "histogram2d": [
           {
            "colorbar": {
             "outlinewidth": 0,
             "ticks": ""
            },
            "colorscale": [
             [
              0,
              "#0d0887"
             ],
             [
              0.1111111111111111,
              "#46039f"
             ],
             [
              0.2222222222222222,
              "#7201a8"
             ],
             [
              0.3333333333333333,
              "#9c179e"
             ],
             [
              0.4444444444444444,
              "#bd3786"
             ],
             [
              0.5555555555555556,
              "#d8576b"
             ],
             [
              0.6666666666666666,
              "#ed7953"
             ],
             [
              0.7777777777777778,
              "#fb9f3a"
             ],
             [
              0.8888888888888888,
              "#fdca26"
             ],
             [
              1,
              "#f0f921"
             ]
            ],
            "type": "histogram2d"
           }
          ],
          "histogram2dcontour": [
           {
            "colorbar": {
             "outlinewidth": 0,
             "ticks": ""
            },
            "colorscale": [
             [
              0,
              "#0d0887"
             ],
             [
              0.1111111111111111,
              "#46039f"
             ],
             [
              0.2222222222222222,
              "#7201a8"
             ],
             [
              0.3333333333333333,
              "#9c179e"
             ],
             [
              0.4444444444444444,
              "#bd3786"
             ],
             [
              0.5555555555555556,
              "#d8576b"
             ],
             [
              0.6666666666666666,
              "#ed7953"
             ],
             [
              0.7777777777777778,
              "#fb9f3a"
             ],
             [
              0.8888888888888888,
              "#fdca26"
             ],
             [
              1,
              "#f0f921"
             ]
            ],
            "type": "histogram2dcontour"
           }
          ],
          "mesh3d": [
           {
            "colorbar": {
             "outlinewidth": 0,
             "ticks": ""
            },
            "type": "mesh3d"
           }
          ],
          "parcoords": [
           {
            "line": {
             "colorbar": {
              "outlinewidth": 0,
              "ticks": ""
             }
            },
            "type": "parcoords"
           }
          ],
          "pie": [
           {
            "automargin": true,
            "type": "pie"
           }
          ],
          "scatter": [
           {
            "marker": {
             "colorbar": {
              "outlinewidth": 0,
              "ticks": ""
             }
            },
            "type": "scatter"
           }
          ],
          "scatter3d": [
           {
            "line": {
             "colorbar": {
              "outlinewidth": 0,
              "ticks": ""
             }
            },
            "marker": {
             "colorbar": {
              "outlinewidth": 0,
              "ticks": ""
             }
            },
            "type": "scatter3d"
           }
          ],
          "scattercarpet": [
           {
            "marker": {
             "colorbar": {
              "outlinewidth": 0,
              "ticks": ""
             }
            },
            "type": "scattercarpet"
           }
          ],
          "scattergeo": [
           {
            "marker": {
             "colorbar": {
              "outlinewidth": 0,
              "ticks": ""
             }
            },
            "type": "scattergeo"
           }
          ],
          "scattergl": [
           {
            "marker": {
             "colorbar": {
              "outlinewidth": 0,
              "ticks": ""
             }
            },
            "type": "scattergl"
           }
          ],
          "scattermapbox": [
           {
            "marker": {
             "colorbar": {
              "outlinewidth": 0,
              "ticks": ""
             }
            },
            "type": "scattermapbox"
           }
          ],
          "scatterpolar": [
           {
            "marker": {
             "colorbar": {
              "outlinewidth": 0,
              "ticks": ""
             }
            },
            "type": "scatterpolar"
           }
          ],
          "scatterpolargl": [
           {
            "marker": {
             "colorbar": {
              "outlinewidth": 0,
              "ticks": ""
             }
            },
            "type": "scatterpolargl"
           }
          ],
          "scatterternary": [
           {
            "marker": {
             "colorbar": {
              "outlinewidth": 0,
              "ticks": ""
             }
            },
            "type": "scatterternary"
           }
          ],
          "surface": [
           {
            "colorbar": {
             "outlinewidth": 0,
             "ticks": ""
            },
            "colorscale": [
             [
              0,
              "#0d0887"
             ],
             [
              0.1111111111111111,
              "#46039f"
             ],
             [
              0.2222222222222222,
              "#7201a8"
             ],
             [
              0.3333333333333333,
              "#9c179e"
             ],
             [
              0.4444444444444444,
              "#bd3786"
             ],
             [
              0.5555555555555556,
              "#d8576b"
             ],
             [
              0.6666666666666666,
              "#ed7953"
             ],
             [
              0.7777777777777778,
              "#fb9f3a"
             ],
             [
              0.8888888888888888,
              "#fdca26"
             ],
             [
              1,
              "#f0f921"
             ]
            ],
            "type": "surface"
           }
          ],
          "table": [
           {
            "cells": {
             "fill": {
              "color": "#EBF0F8"
             },
             "line": {
              "color": "white"
             }
            },
            "header": {
             "fill": {
              "color": "#C8D4E3"
             },
             "line": {
              "color": "white"
             }
            },
            "type": "table"
           }
          ]
         },
         "layout": {
          "annotationdefaults": {
           "arrowcolor": "#2a3f5f",
           "arrowhead": 0,
           "arrowwidth": 1
          },
          "autotypenumbers": "strict",
          "coloraxis": {
           "colorbar": {
            "outlinewidth": 0,
            "ticks": ""
           }
          },
          "colorscale": {
           "diverging": [
            [
             0,
             "#8e0152"
            ],
            [
             0.1,
             "#c51b7d"
            ],
            [
             0.2,
             "#de77ae"
            ],
            [
             0.3,
             "#f1b6da"
            ],
            [
             0.4,
             "#fde0ef"
            ],
            [
             0.5,
             "#f7f7f7"
            ],
            [
             0.6,
             "#e6f5d0"
            ],
            [
             0.7,
             "#b8e186"
            ],
            [
             0.8,
             "#7fbc41"
            ],
            [
             0.9,
             "#4d9221"
            ],
            [
             1,
             "#276419"
            ]
           ],
           "sequential": [
            [
             0,
             "#0d0887"
            ],
            [
             0.1111111111111111,
             "#46039f"
            ],
            [
             0.2222222222222222,
             "#7201a8"
            ],
            [
             0.3333333333333333,
             "#9c179e"
            ],
            [
             0.4444444444444444,
             "#bd3786"
            ],
            [
             0.5555555555555556,
             "#d8576b"
            ],
            [
             0.6666666666666666,
             "#ed7953"
            ],
            [
             0.7777777777777778,
             "#fb9f3a"
            ],
            [
             0.8888888888888888,
             "#fdca26"
            ],
            [
             1,
             "#f0f921"
            ]
           ],
           "sequentialminus": [
            [
             0,
             "#0d0887"
            ],
            [
             0.1111111111111111,
             "#46039f"
            ],
            [
             0.2222222222222222,
             "#7201a8"
            ],
            [
             0.3333333333333333,
             "#9c179e"
            ],
            [
             0.4444444444444444,
             "#bd3786"
            ],
            [
             0.5555555555555556,
             "#d8576b"
            ],
            [
             0.6666666666666666,
             "#ed7953"
            ],
            [
             0.7777777777777778,
             "#fb9f3a"
            ],
            [
             0.8888888888888888,
             "#fdca26"
            ],
            [
             1,
             "#f0f921"
            ]
           ]
          },
          "colorway": [
           "#636efa",
           "#EF553B",
           "#00cc96",
           "#ab63fa",
           "#FFA15A",
           "#19d3f3",
           "#FF6692",
           "#B6E880",
           "#FF97FF",
           "#FECB52"
          ],
          "font": {
           "color": "#2a3f5f"
          },
          "geo": {
           "bgcolor": "white",
           "lakecolor": "white",
           "landcolor": "#E5ECF6",
           "showlakes": true,
           "showland": true,
           "subunitcolor": "white"
          },
          "hoverlabel": {
           "align": "left"
          },
          "hovermode": "closest",
          "mapbox": {
           "style": "light"
          },
          "paper_bgcolor": "white",
          "plot_bgcolor": "#E5ECF6",
          "polar": {
           "angularaxis": {
            "gridcolor": "white",
            "linecolor": "white",
            "ticks": ""
           },
           "bgcolor": "#E5ECF6",
           "radialaxis": {
            "gridcolor": "white",
            "linecolor": "white",
            "ticks": ""
           }
          },
          "scene": {
           "xaxis": {
            "backgroundcolor": "#E5ECF6",
            "gridcolor": "white",
            "gridwidth": 2,
            "linecolor": "white",
            "showbackground": true,
            "ticks": "",
            "zerolinecolor": "white"
           },
           "yaxis": {
            "backgroundcolor": "#E5ECF6",
            "gridcolor": "white",
            "gridwidth": 2,
            "linecolor": "white",
            "showbackground": true,
            "ticks": "",
            "zerolinecolor": "white"
           },
           "zaxis": {
            "backgroundcolor": "#E5ECF6",
            "gridcolor": "white",
            "gridwidth": 2,
            "linecolor": "white",
            "showbackground": true,
            "ticks": "",
            "zerolinecolor": "white"
           }
          },
          "shapedefaults": {
           "line": {
            "color": "#2a3f5f"
           }
          },
          "ternary": {
           "aaxis": {
            "gridcolor": "white",
            "linecolor": "white",
            "ticks": ""
           },
           "baxis": {
            "gridcolor": "white",
            "linecolor": "white",
            "ticks": ""
           },
           "bgcolor": "#E5ECF6",
           "caxis": {
            "gridcolor": "white",
            "linecolor": "white",
            "ticks": ""
           }
          },
          "title": {
           "x": 0.05
          },
          "xaxis": {
           "automargin": true,
           "gridcolor": "white",
           "linecolor": "white",
           "ticks": "",
           "title": {
            "standoff": 15
           },
           "zerolinecolor": "white",
           "zerolinewidth": 2
          },
          "yaxis": {
           "automargin": true,
           "gridcolor": "white",
           "linecolor": "white",
           "ticks": "",
           "title": {
            "standoff": 15
           },
           "zerolinecolor": "white",
           "zerolinewidth": 2
          }
         }
        },
        "xaxis": {
         "anchor": "y",
         "domain": [
          0,
          1
         ],
         "title": {
          "text": "x"
         }
        },
        "yaxis": {
         "anchor": "x",
         "domain": [
          0,
          1
         ],
         "title": {
          "text": "y"
         }
        }
       }
      },
      "text/html": [
       "<div>                            <div id=\"6737a7b3-a7bd-46ec-8f02-4038837d3f85\" class=\"plotly-graph-div\" style=\"height:525px; width:100%;\"></div>            <script type=\"text/javascript\">                require([\"plotly\"], function(Plotly) {                    window.PLOTLYENV=window.PLOTLYENV || {};                                    if (document.getElementById(\"6737a7b3-a7bd-46ec-8f02-4038837d3f85\")) {                    Plotly.newPlot(                        \"6737a7b3-a7bd-46ec-8f02-4038837d3f85\",                        [{\"hovertemplate\":\"x=%{x}<br>y=%{y}<extra></extra>\",\"legendgroup\":\"\",\"line\":{\"color\":\"#636efa\",\"dash\":\"solid\"},\"marker\":{\"symbol\":\"circle\"},\"mode\":\"lines\",\"name\":\"\",\"orientation\":\"v\",\"showlegend\":false,\"x\":[2,3,4,5,6,7,8,9,10,11,12,13,14,15,16,17,18,19,20,21,22,23,24,25,26,27,28,29,30,31,32,33,34,35,36,37,38,39,40,41,42,43,44,45,46,47,48,49],\"xaxis\":\"x\",\"y\":[0.4502969536676088,0.484506224236374,0.5248027159722912,0.5002931669615458,0.5402359523708755,0.5757724165535526,0.5403443360544181,0.5553702110716232,0.5355297165398086,0.5498408486694675,0.5378183868845572,0.5555729375862222,0.5142657115491229,0.5135833372745728,0.5598618066070187,0.524297022344831,0.5426506996857653,0.4949353196514904,0.5436060321151365,0.512711798997198,0.5248139883932237,0.4906223831376551,0.49957999338307896,0.47542732867236764,0.4937828799092928,0.5076346820817422,0.479108517086536,0.46530331384959234,0.47323612103169965,0.46718839342628005,0.4732481265390014,0.4607637818966242,0.45971916009412894,0.4614499731808932,0.46827541345997975,0.457567174819061,0.4600728466353877,0.4432932444537484,0.4532536847989078,0.4597723422985182,0.4496260228423575,0.4443673438738776,0.43368584492158924,0.4430006518012221,0.4420800231202371,0.44103460159627794,0.422797179467838,0.4403022149686831],\"yaxis\":\"y\",\"type\":\"scatter\"}],                        {\"template\":{\"data\":{\"bar\":[{\"error_x\":{\"color\":\"#2a3f5f\"},\"error_y\":{\"color\":\"#2a3f5f\"},\"marker\":{\"line\":{\"color\":\"#E5ECF6\",\"width\":0.5},\"pattern\":{\"fillmode\":\"overlay\",\"size\":10,\"solidity\":0.2}},\"type\":\"bar\"}],\"barpolar\":[{\"marker\":{\"line\":{\"color\":\"#E5ECF6\",\"width\":0.5},\"pattern\":{\"fillmode\":\"overlay\",\"size\":10,\"solidity\":0.2}},\"type\":\"barpolar\"}],\"carpet\":[{\"aaxis\":{\"endlinecolor\":\"#2a3f5f\",\"gridcolor\":\"white\",\"linecolor\":\"white\",\"minorgridcolor\":\"white\",\"startlinecolor\":\"#2a3f5f\"},\"baxis\":{\"endlinecolor\":\"#2a3f5f\",\"gridcolor\":\"white\",\"linecolor\":\"white\",\"minorgridcolor\":\"white\",\"startlinecolor\":\"#2a3f5f\"},\"type\":\"carpet\"}],\"choropleth\":[{\"colorbar\":{\"outlinewidth\":0,\"ticks\":\"\"},\"type\":\"choropleth\"}],\"contour\":[{\"colorbar\":{\"outlinewidth\":0,\"ticks\":\"\"},\"colorscale\":[[0.0,\"#0d0887\"],[0.1111111111111111,\"#46039f\"],[0.2222222222222222,\"#7201a8\"],[0.3333333333333333,\"#9c179e\"],[0.4444444444444444,\"#bd3786\"],[0.5555555555555556,\"#d8576b\"],[0.6666666666666666,\"#ed7953\"],[0.7777777777777778,\"#fb9f3a\"],[0.8888888888888888,\"#fdca26\"],[1.0,\"#f0f921\"]],\"type\":\"contour\"}],\"contourcarpet\":[{\"colorbar\":{\"outlinewidth\":0,\"ticks\":\"\"},\"type\":\"contourcarpet\"}],\"heatmap\":[{\"colorbar\":{\"outlinewidth\":0,\"ticks\":\"\"},\"colorscale\":[[0.0,\"#0d0887\"],[0.1111111111111111,\"#46039f\"],[0.2222222222222222,\"#7201a8\"],[0.3333333333333333,\"#9c179e\"],[0.4444444444444444,\"#bd3786\"],[0.5555555555555556,\"#d8576b\"],[0.6666666666666666,\"#ed7953\"],[0.7777777777777778,\"#fb9f3a\"],[0.8888888888888888,\"#fdca26\"],[1.0,\"#f0f921\"]],\"type\":\"heatmap\"}],\"heatmapgl\":[{\"colorbar\":{\"outlinewidth\":0,\"ticks\":\"\"},\"colorscale\":[[0.0,\"#0d0887\"],[0.1111111111111111,\"#46039f\"],[0.2222222222222222,\"#7201a8\"],[0.3333333333333333,\"#9c179e\"],[0.4444444444444444,\"#bd3786\"],[0.5555555555555556,\"#d8576b\"],[0.6666666666666666,\"#ed7953\"],[0.7777777777777778,\"#fb9f3a\"],[0.8888888888888888,\"#fdca26\"],[1.0,\"#f0f921\"]],\"type\":\"heatmapgl\"}],\"histogram\":[{\"marker\":{\"pattern\":{\"fillmode\":\"overlay\",\"size\":10,\"solidity\":0.2}},\"type\":\"histogram\"}],\"histogram2d\":[{\"colorbar\":{\"outlinewidth\":0,\"ticks\":\"\"},\"colorscale\":[[0.0,\"#0d0887\"],[0.1111111111111111,\"#46039f\"],[0.2222222222222222,\"#7201a8\"],[0.3333333333333333,\"#9c179e\"],[0.4444444444444444,\"#bd3786\"],[0.5555555555555556,\"#d8576b\"],[0.6666666666666666,\"#ed7953\"],[0.7777777777777778,\"#fb9f3a\"],[0.8888888888888888,\"#fdca26\"],[1.0,\"#f0f921\"]],\"type\":\"histogram2d\"}],\"histogram2dcontour\":[{\"colorbar\":{\"outlinewidth\":0,\"ticks\":\"\"},\"colorscale\":[[0.0,\"#0d0887\"],[0.1111111111111111,\"#46039f\"],[0.2222222222222222,\"#7201a8\"],[0.3333333333333333,\"#9c179e\"],[0.4444444444444444,\"#bd3786\"],[0.5555555555555556,\"#d8576b\"],[0.6666666666666666,\"#ed7953\"],[0.7777777777777778,\"#fb9f3a\"],[0.8888888888888888,\"#fdca26\"],[1.0,\"#f0f921\"]],\"type\":\"histogram2dcontour\"}],\"mesh3d\":[{\"colorbar\":{\"outlinewidth\":0,\"ticks\":\"\"},\"type\":\"mesh3d\"}],\"parcoords\":[{\"line\":{\"colorbar\":{\"outlinewidth\":0,\"ticks\":\"\"}},\"type\":\"parcoords\"}],\"pie\":[{\"automargin\":true,\"type\":\"pie\"}],\"scatter\":[{\"marker\":{\"colorbar\":{\"outlinewidth\":0,\"ticks\":\"\"}},\"type\":\"scatter\"}],\"scatter3d\":[{\"line\":{\"colorbar\":{\"outlinewidth\":0,\"ticks\":\"\"}},\"marker\":{\"colorbar\":{\"outlinewidth\":0,\"ticks\":\"\"}},\"type\":\"scatter3d\"}],\"scattercarpet\":[{\"marker\":{\"colorbar\":{\"outlinewidth\":0,\"ticks\":\"\"}},\"type\":\"scattercarpet\"}],\"scattergeo\":[{\"marker\":{\"colorbar\":{\"outlinewidth\":0,\"ticks\":\"\"}},\"type\":\"scattergeo\"}],\"scattergl\":[{\"marker\":{\"colorbar\":{\"outlinewidth\":0,\"ticks\":\"\"}},\"type\":\"scattergl\"}],\"scattermapbox\":[{\"marker\":{\"colorbar\":{\"outlinewidth\":0,\"ticks\":\"\"}},\"type\":\"scattermapbox\"}],\"scatterpolar\":[{\"marker\":{\"colorbar\":{\"outlinewidth\":0,\"ticks\":\"\"}},\"type\":\"scatterpolar\"}],\"scatterpolargl\":[{\"marker\":{\"colorbar\":{\"outlinewidth\":0,\"ticks\":\"\"}},\"type\":\"scatterpolargl\"}],\"scatterternary\":[{\"marker\":{\"colorbar\":{\"outlinewidth\":0,\"ticks\":\"\"}},\"type\":\"scatterternary\"}],\"surface\":[{\"colorbar\":{\"outlinewidth\":0,\"ticks\":\"\"},\"colorscale\":[[0.0,\"#0d0887\"],[0.1111111111111111,\"#46039f\"],[0.2222222222222222,\"#7201a8\"],[0.3333333333333333,\"#9c179e\"],[0.4444444444444444,\"#bd3786\"],[0.5555555555555556,\"#d8576b\"],[0.6666666666666666,\"#ed7953\"],[0.7777777777777778,\"#fb9f3a\"],[0.8888888888888888,\"#fdca26\"],[1.0,\"#f0f921\"]],\"type\":\"surface\"}],\"table\":[{\"cells\":{\"fill\":{\"color\":\"#EBF0F8\"},\"line\":{\"color\":\"white\"}},\"header\":{\"fill\":{\"color\":\"#C8D4E3\"},\"line\":{\"color\":\"white\"}},\"type\":\"table\"}]},\"layout\":{\"annotationdefaults\":{\"arrowcolor\":\"#2a3f5f\",\"arrowhead\":0,\"arrowwidth\":1},\"autotypenumbers\":\"strict\",\"coloraxis\":{\"colorbar\":{\"outlinewidth\":0,\"ticks\":\"\"}},\"colorscale\":{\"diverging\":[[0,\"#8e0152\"],[0.1,\"#c51b7d\"],[0.2,\"#de77ae\"],[0.3,\"#f1b6da\"],[0.4,\"#fde0ef\"],[0.5,\"#f7f7f7\"],[0.6,\"#e6f5d0\"],[0.7,\"#b8e186\"],[0.8,\"#7fbc41\"],[0.9,\"#4d9221\"],[1,\"#276419\"]],\"sequential\":[[0.0,\"#0d0887\"],[0.1111111111111111,\"#46039f\"],[0.2222222222222222,\"#7201a8\"],[0.3333333333333333,\"#9c179e\"],[0.4444444444444444,\"#bd3786\"],[0.5555555555555556,\"#d8576b\"],[0.6666666666666666,\"#ed7953\"],[0.7777777777777778,\"#fb9f3a\"],[0.8888888888888888,\"#fdca26\"],[1.0,\"#f0f921\"]],\"sequentialminus\":[[0.0,\"#0d0887\"],[0.1111111111111111,\"#46039f\"],[0.2222222222222222,\"#7201a8\"],[0.3333333333333333,\"#9c179e\"],[0.4444444444444444,\"#bd3786\"],[0.5555555555555556,\"#d8576b\"],[0.6666666666666666,\"#ed7953\"],[0.7777777777777778,\"#fb9f3a\"],[0.8888888888888888,\"#fdca26\"],[1.0,\"#f0f921\"]]},\"colorway\":[\"#636efa\",\"#EF553B\",\"#00cc96\",\"#ab63fa\",\"#FFA15A\",\"#19d3f3\",\"#FF6692\",\"#B6E880\",\"#FF97FF\",\"#FECB52\"],\"font\":{\"color\":\"#2a3f5f\"},\"geo\":{\"bgcolor\":\"white\",\"lakecolor\":\"white\",\"landcolor\":\"#E5ECF6\",\"showlakes\":true,\"showland\":true,\"subunitcolor\":\"white\"},\"hoverlabel\":{\"align\":\"left\"},\"hovermode\":\"closest\",\"mapbox\":{\"style\":\"light\"},\"paper_bgcolor\":\"white\",\"plot_bgcolor\":\"#E5ECF6\",\"polar\":{\"angularaxis\":{\"gridcolor\":\"white\",\"linecolor\":\"white\",\"ticks\":\"\"},\"bgcolor\":\"#E5ECF6\",\"radialaxis\":{\"gridcolor\":\"white\",\"linecolor\":\"white\",\"ticks\":\"\"}},\"scene\":{\"xaxis\":{\"backgroundcolor\":\"#E5ECF6\",\"gridcolor\":\"white\",\"gridwidth\":2,\"linecolor\":\"white\",\"showbackground\":true,\"ticks\":\"\",\"zerolinecolor\":\"white\"},\"yaxis\":{\"backgroundcolor\":\"#E5ECF6\",\"gridcolor\":\"white\",\"gridwidth\":2,\"linecolor\":\"white\",\"showbackground\":true,\"ticks\":\"\",\"zerolinecolor\":\"white\"},\"zaxis\":{\"backgroundcolor\":\"#E5ECF6\",\"gridcolor\":\"white\",\"gridwidth\":2,\"linecolor\":\"white\",\"showbackground\":true,\"ticks\":\"\",\"zerolinecolor\":\"white\"}},\"shapedefaults\":{\"line\":{\"color\":\"#2a3f5f\"}},\"ternary\":{\"aaxis\":{\"gridcolor\":\"white\",\"linecolor\":\"white\",\"ticks\":\"\"},\"baxis\":{\"gridcolor\":\"white\",\"linecolor\":\"white\",\"ticks\":\"\"},\"bgcolor\":\"#E5ECF6\",\"caxis\":{\"gridcolor\":\"white\",\"linecolor\":\"white\",\"ticks\":\"\"}},\"title\":{\"x\":0.05},\"xaxis\":{\"automargin\":true,\"gridcolor\":\"white\",\"linecolor\":\"white\",\"ticks\":\"\",\"title\":{\"standoff\":15},\"zerolinecolor\":\"white\",\"zerolinewidth\":2},\"yaxis\":{\"automargin\":true,\"gridcolor\":\"white\",\"linecolor\":\"white\",\"ticks\":\"\",\"title\":{\"standoff\":15},\"zerolinecolor\":\"white\",\"zerolinewidth\":2}}},\"xaxis\":{\"anchor\":\"y\",\"domain\":[0.0,1.0],\"title\":{\"text\":\"x\"}},\"yaxis\":{\"anchor\":\"x\",\"domain\":[0.0,1.0],\"title\":{\"text\":\"y\"}},\"legend\":{\"tracegroupgap\":0},\"margin\":{\"t\":60}},                        {\"responsive\": true}                    ).then(function(){\n",
       "                            \n",
       "var gd = document.getElementById('6737a7b3-a7bd-46ec-8f02-4038837d3f85');\n",
       "var x = new MutationObserver(function (mutations, observer) {{\n",
       "        var display = window.getComputedStyle(gd).display;\n",
       "        if (!display || display === 'none') {{\n",
       "            console.log([gd, 'removed!']);\n",
       "            Plotly.purge(gd);\n",
       "            observer.disconnect();\n",
       "        }}\n",
       "}});\n",
       "\n",
       "// Listen for the removal of the full notebook cells\n",
       "var notebookContainer = gd.closest('#notebook-container');\n",
       "if (notebookContainer) {{\n",
       "    x.observe(notebookContainer, {childList: true});\n",
       "}}\n",
       "\n",
       "// Listen for the clearing of the current output cell\n",
       "var outputEl = gd.closest('.output');\n",
       "if (outputEl) {{\n",
       "    x.observe(outputEl, {childList: true});\n",
       "}}\n",
       "\n",
       "                        })                };                });            </script>        </div>"
      ]
     },
     "metadata": {},
     "output_type": "display_data"
    }
   ],
   "source": [
    "# Graph for coherence values and number of topics\n",
    "limit=50; start=2; step=1;\n",
    "x = range(start, limit, step)\n",
    "fig=px.line(x=x, xaxis_title='Num_Topics' y=coherence_values, yaxis_title='Coherence_Values')\n",
    "\n",
    "fig.show()# Print the coherence scores+"
   ]
  },
  {
   "cell_type": "code",
   "execution_count": 62,
   "id": "7a34b17e",
   "metadata": {},
   "outputs": [
    {
     "data": {
      "text/plain": [
       "<gensim.models.ldamodel.LdaModel at 0x7f23aba7a280>"
      ]
     },
     "execution_count": 62,
     "metadata": {},
     "output_type": "execute_result"
    }
   ],
   "source": [
    "import pickle\n",
    "pickle.dump(lda_model,open('lda_model.pkl','wb'))\n",
    "# Load model back again\n",
    "pickle.load(open('lda_model.pkl','rb'))"
   ]
  },
  {
   "cell_type": "code",
   "execution_count": 76,
   "id": "69b6c1a3",
   "metadata": {},
   "outputs": [
    {
     "data": {
      "text/plain": [
       "[(0, 0.69446945),\n",
       " (1, 0.027775373),\n",
       " (2, 0.027775373),\n",
       " (3, 0.027775763),\n",
       " (4, 0.027775373),\n",
       " (5, 0.027775373),\n",
       " (6, 0.027775373),\n",
       " (7, 0.027775373),\n",
       " (8, 0.027775645),\n",
       " (9, 0.027775912),\n",
       " (10, 0.027775373),\n",
       " (11, 0.027775604)]"
      ]
     },
     "execution_count": 76,
     "metadata": {},
     "output_type": "execute_result"
    }
   ],
   "source": [
    "#defining the text and geeting topics and its score from the text \n",
    "document = '''i like my job'''\n",
    "document = id2word.doc2bow(document.split())\n",
    "lda_model.get_document_topics(document)"
   ]
  },
  {
   "cell_type": "code",
   "execution_count": 77,
   "id": "72495c63",
   "metadata": {},
   "outputs": [
    {
     "data": {
      "text/plain": [
       "[(0, 0.027778106),\n",
       " (1, 0.027778106),\n",
       " (2, 0.6944394),\n",
       " (3, 0.027778106),\n",
       " (4, 0.027778732),\n",
       " (5, 0.027778106),\n",
       " (6, 0.027778106),\n",
       " (7, 0.027778106),\n",
       " (8, 0.027778106),\n",
       " (9, 0.027778942),\n",
       " (10, 0.027778106),\n",
       " (11, 0.027778106)]"
      ]
     },
     "execution_count": 77,
     "metadata": {},
     "output_type": "execute_result"
    }
   ],
   "source": [
    "#defining the text and geeting topics and its score from the text \n",
    "document = '''doctors take care of the patients'''\n",
    "document = id2word.doc2bow(document.split())\n",
    "lda_model.get_document_topics(document)"
   ]
  },
  {
   "cell_type": "code",
   "execution_count": 78,
   "id": "7c86e576",
   "metadata": {},
   "outputs": [
    {
     "data": {
      "text/plain": [
       "[(0, 0.020833638),\n",
       " (1, 0.02083347),\n",
       " (2, 0.02083347),\n",
       " (3, 0.02083347),\n",
       " (4, 0.02083347),\n",
       " (5, 0.020834086),\n",
       " (6, 0.020833781),\n",
       " (7, 0.02083347),\n",
       " (8, 0.38118875),\n",
       " (9, 0.020833835),\n",
       " (10, 0.02083347),\n",
       " (11, 0.4104751)]"
      ]
     },
     "execution_count": 78,
     "metadata": {},
     "output_type": "execute_result"
    }
   ],
   "source": [
    "#defining the text and geeting topics and its score from the text \n",
    "document = '''company culture is good'''\n",
    "document = id2word.doc2bow(document.split())\n",
    "lda_model.get_document_topics(document)"
   ]
  },
  {
   "cell_type": "code",
   "execution_count": 126,
   "id": "1728fee9",
   "metadata": {},
   "outputs": [],
   "source": [
    "#Giving input for the text and forming the dictionary for the topics and its coherence values and printing the score above 0.50\n",
    "def get_inference():\n",
    "    text = input(\"Enter: \")\n",
    "    document = id2word.doc2bow(text.split())\n",
    "    score_dic = dict(lda_model.get_document_topics(document))\n",
    "    score = [i for i in score_dic.values() if i >0.5]\n",
    "    return [(i,j) for i,j in score_dic.items() if j in score]"
   ]
  },
  {
   "cell_type": "code",
   "execution_count": 127,
   "id": "67f20be3",
   "metadata": {},
   "outputs": [
    {
     "name": "stdout",
     "output_type": "stream",
     "text": [
      "Enter: i love my job\n"
     ]
    },
    {
     "data": {
      "text/plain": [
       "[(0, 0.6944698)]"
      ]
     },
     "execution_count": 127,
     "metadata": {},
     "output_type": "execute_result"
    }
   ],
   "source": [
    "get_inference()"
   ]
  }
 ],
 "metadata": {
  "kernelspec": {
   "display_name": "Python 3 (ipykernel)",
   "language": "python",
   "name": "python3"
  },
  "language_info": {
   "codemirror_mode": {
    "name": "ipython",
    "version": 3
   },
   "file_extension": ".py",
   "mimetype": "text/x-python",
   "name": "python",
   "nbconvert_exporter": "python",
   "pygments_lexer": "ipython3",
   "version": "3.8.10"
  }
 },
 "nbformat": 4,
 "nbformat_minor": 5
}
